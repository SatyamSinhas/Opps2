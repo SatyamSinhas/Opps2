{
 "cells": [
  {
   "cell_type": "code",
   "execution_count": 1,
   "id": "7c12b607-27c6-4689-8b01-61747b3c1a20",
   "metadata": {},
   "outputs": [],
   "source": [
    "#1What is a constructor in Python? Explain its purpose and usage."
   ]
  },
  {
   "cell_type": "code",
   "execution_count": null,
   "id": "02bf5673-348c-442e-9077-e5924b779bc5",
   "metadata": {},
   "outputs": [],
   "source": [
    "'''In Python, a constructor is a special method that is automatically called when an object is created from a class. It’s used to initialize the attributes of the class when an object of the class is created. The __init__() method in Python is called the constructor1.\n",
    "Here is the syntax of a constructor declaration in Python:\n",
    "Python\n",
    "\n",
    "def __init__(self):\n",
    "    # body of the constructor\n",
    "    \n",
    "There are two types of constructors in Python1:\n",
    "\n",
    "Default Constructor: A constructor that doesn’t accept any arguments. Its definition has only one argument which is a reference to the instance being constructed.\n",
    "\n",
    "Parameterized Constructor: A constructor with parameters is known as a parameterized constructor. The parameterized constructor takes its first argument as a reference to the instance being constructed known as self and the rest of the arguments are provided by the programmer\n",
    "The primary use of a constructor is to declare and initialize data members or instance variables of a class3. They allow you to set default values for attributes or properties, and also allow you to initialize the objects of a class'''\n"
   ]
  },
  {
   "cell_type": "code",
   "execution_count": 6,
   "id": "99e32e4c-e44d-4c24-bc11-7bbbb9c3be5d",
   "metadata": {},
   "outputs": [],
   "source": [
    "#2Differentiate between a parameterless constructor and a parameterized constructor in Python."
   ]
  },
  {
   "cell_type": "code",
   "execution_count": null,
   "id": "7c7250af-f460-4c34-8708-b8481aad8939",
   "metadata": {},
   "outputs": [],
   "source": []
  },
  {
   "cell_type": "code",
   "execution_count": 7,
   "id": "1173a209-5053-4ee7-bf07-203570ede043",
   "metadata": {},
   "outputs": [],
   "source": [
    "#3.How do you define a constructor in a Python class? Provide an example."
   ]
  },
  {
   "cell_type": "code",
   "execution_count": 9,
   "id": "a2abc646-da71-4348-8167-1a17369680a9",
   "metadata": {},
   "outputs": [
    {
     "data": {
      "text/plain": [
       "'In Python, a constructor is a special method used to initialize newly created objects. It’s used to set up the object’s state by assigning values to its properties when the object is created1. The __init__() method in Python is called the constructor\\nHere is the syntax of a constructor declaration in Python\\ndef __init__(self):\\n    # body of the constructor\\nThere are two types of constructors in Python:\\n\\nDefault Constructor: A constructor that doesn’t accept any arguments. Its definition has only one argument which is a reference to the instance being constructed.\\n\\nParameterized Constructor: A constructor with parameters is known as a parameterized constructor. The parameterized constructor takes its first argument as a reference to the instance being constructed known as self and the rest of the arguments are provided by the programmer.\\n\\nHere is an example of a default constructor\\nclass GeekforGeeks:\\n    def __init__(self):\\n        self.geek = \"GeekforGeeks\"\\n\\n    def print_Geek(self):\\n        print(self.geek)\\n\\nobj = GeekforGeeks()\\nobj.print_Geek()\\n\\nAnd here is an example of a parameterized constructor.\\nclass Addition:\\n    first = 0\\n    second = 0\\n    answer = 0\\n\\n    def __init__(self, f, s):\\n        self.first = f\\n        self.second = s\\n\\n    def display(self):\\n        print(\"First number = \" + str(self.first))\\n        print(\"Second number = \" + str(self.second))\\n        print(\"Addition of two numbers = \" + str(self.answer))\\n\\n    def calculate(self):\\n        self.answer = self.first + self.second\\n\\nobj1 = Addition(1000, 2000)\\nobj2 = Addition(10, 20)\\nobj1.calculate()\\nobj2.calculate()\\nobj1.display()\\nobj2.display()\\nThe primary use of a constructor is to declare and initialize data members or instance variables of a class. They allow you to set default values for attributes or properties, and also allow you to initialize the objects of a class. They make the objects ready to use.'"
      ]
     },
     "execution_count": 9,
     "metadata": {},
     "output_type": "execute_result"
    }
   ],
   "source": [
    "'''In Python, a constructor is a special method used to initialize newly created objects. It’s used to set up the object’s state by assigning values to its properties when the object is created1. The __init__() method in Python is called the constructor\n",
    "Here is the syntax of a constructor declaration in Python\n",
    "def __init__(self):\n",
    "    # body of the constructor\n",
    "There are two types of constructors in Python:\n",
    "\n",
    "Default Constructor: A constructor that doesn’t accept any arguments. Its definition has only one argument which is a reference to the instance being constructed.\n",
    "\n",
    "Parameterized Constructor: A constructor with parameters is known as a parameterized constructor. The parameterized constructor takes its first argument as a reference to the instance being constructed known as self and the rest of the arguments are provided by the programmer.\n",
    "\n",
    "Here is an example of a default constructor\n",
    "class GeekforGeeks:\n",
    "    def __init__(self):\n",
    "        self.geek = \"GeekforGeeks\"\n",
    "\n",
    "    def print_Geek(self):\n",
    "        print(self.geek)\n",
    "\n",
    "obj = GeekforGeeks()\n",
    "obj.print_Geek()\n",
    "\n",
    "And here is an example of a parameterized constructor.\n",
    "class Addition:\n",
    "    first = 0\n",
    "    second = 0\n",
    "    answer = 0\n",
    "\n",
    "    def __init__(self, f, s):\n",
    "        self.first = f\n",
    "        self.second = s\n",
    "\n",
    "    def display(self):\n",
    "        print(\"First number = \" + str(self.first))\n",
    "        print(\"Second number = \" + str(self.second))\n",
    "        print(\"Addition of two numbers = \" + str(self.answer))\n",
    "\n",
    "    def calculate(self):\n",
    "        self.answer = self.first + self.second\n",
    "\n",
    "obj1 = Addition(1000, 2000)\n",
    "obj2 = Addition(10, 20)\n",
    "obj1.calculate()\n",
    "obj2.calculate()\n",
    "obj1.display()\n",
    "obj2.display()\n",
    "The primary use of a constructor is to declare and initialize data members or instance variables of a class. They allow you to set default values for attributes or properties, and also allow you to initialize the objects of a class. They make the objects ready to use.'''"
   ]
  },
  {
   "cell_type": "code",
   "execution_count": 10,
   "id": "4937a4e3-cfd2-4b1e-b940-8604e7a501ee",
   "metadata": {},
   "outputs": [],
   "source": [
    "#4. Explain the `__init__` method in Python and its role in constructors."
   ]
  },
  {
   "cell_type": "code",
   "execution_count": 11,
   "id": "9d3c03e3-1b04-41d4-8af9-ad6c07a6def1",
   "metadata": {},
   "outputs": [
    {
     "data": {
      "text/plain": [
       "\"In Python, the __init__ method is a special method that is automatically called when an object is created from a class. It is used to initialize the attributes of the class when an object of the class is created. The __init__ method in Python is often referred to as a constructor.\\n\\nThe syntax of a constructor declaration in Python is as follows\\ndef __init__(self):\\n    # body of the constructor\\nThe __init__ method acts like a constructor1. Its primary role is to assign values to the instance variables of the class when an object of the class is created. Like methods, a constructor also contains a collection of statements (i.e., instructions) that are executed at the time of object creation. It is run as soon as an object of a class is instantiated1. The method is useful to do any initialization you want to do with your object\\nHere’s an example of how the __init__ method is used in a Python class\\n\\nclass Person:\\n    def __init__(self, name):\\n        self.name = name\\n\\n    def say_hi(self):\\n        print('Hello, my name is', self.name)\\n\\np = Person('Nikhil')\\np.say_hi() \""
      ]
     },
     "execution_count": 11,
     "metadata": {},
     "output_type": "execute_result"
    }
   ],
   "source": [
    "'''In Python, the __init__ method is a special method that is automatically called when an object is created from a class. It is used to initialize the attributes of the class when an object of the class is created. The __init__ method in Python is often referred to as a constructor.\n",
    "\n",
    "The syntax of a constructor declaration in Python is as follows\n",
    "def __init__(self):\n",
    "    # body of the constructor\n",
    "The __init__ method acts like a constructor1. Its primary role is to assign values to the instance variables of the class when an object of the class is created. Like methods, a constructor also contains a collection of statements (i.e., instructions) that are executed at the time of object creation. It is run as soon as an object of a class is instantiated1. The method is useful to do any initialization you want to do with your object\n",
    "Here’s an example of how the __init__ method is used in a Python class\n",
    "\n",
    "class Person:\n",
    "    def __init__(self, name):\n",
    "        self.name = name\n",
    "\n",
    "    def say_hi(self):\n",
    "        print('Hello, my name is', self.name)\n",
    "\n",
    "p = Person('Nikhil')\n",
    "p.say_hi() \n",
    "\n",
    "In this example, a person named Nikhil is created. While creating a person, “Nikhil” is passed as an argument, this argument will be passed to the __init__ method to initialize the object. The keyword self represents the instance of a class and binds the attributes with the given arguments.\n",
    "\n",
    "The primary use of a constructor is to declare and initialize data members or instance variables of a class. They allow you to set default values for attributes or properties, and also allow you to initialize the objects of a class3. They make the objects ready to use'''"
   ]
  },
  {
   "cell_type": "code",
   "execution_count": 12,
   "id": "5cdac79f-8433-4053-97e5-2f5a021f93e9",
   "metadata": {},
   "outputs": [],
   "source": [
    "#5. In a class named `Person`, create a constructor that initializes the `name` and `age` attributes. Provide an example of creating an object of this class."
   ]
  },
  {
   "cell_type": "code",
   "execution_count": 13,
   "id": "6c002a13-e164-4080-b475-8266b9d9e474",
   "metadata": {},
   "outputs": [
    {
     "data": {
      "text/plain": [
       "\"Sure, here’s how you can define a Person class with a constructor that initializes name and age attributes:\\nclass Person:\\n    def __init__(self, name, age):\\n        self.name = name\\n        self.age = age\\nIn this class, the __init__ method is the constructor. It takes three parameters: self, name, and age. The self parameter represents the instance of the class and is automatically passed in when you create an instance of the class. The name and age parameters are used to initialize the name and age attributes of the class.You can create an object of this class like this:\\nYou can create an object of this class like this:\\np = Person('John Doe', 30)\\nIn this line of code, p is an object of the Person class, and ‘John Doe’ and 30 are passed as arguments to the constructor, which sets the name and age attributes of the p object. Now, p.name is ‘John Doe’ and p.age is 30.\""
      ]
     },
     "execution_count": 13,
     "metadata": {},
     "output_type": "execute_result"
    }
   ],
   "source": [
    "'''Sure, here’s how you can define a Person class with a constructor that initializes name and age attributes:\n",
    "class Person:\n",
    "    def __init__(self, name, age):\n",
    "        self.name = name\n",
    "        self.age = age\n",
    "In this class, the __init__ method is the constructor. It takes three parameters: self, name, and age. The self parameter represents the instance of the class and is automatically passed in when you create an instance of the class. The name and age parameters are used to initialize the name and age attributes of the class.You can create an object of this class like this:\n",
    "You can create an object of this class like this:\n",
    "p = Person('John Doe', 30)\n",
    "In this line of code, p is an object of the Person class, and ‘John Doe’ and 30 are passed as arguments to the constructor, which sets the name and age attributes of the p object. Now, p.name is ‘John Doe’ and p.age is 30.'''"
   ]
  },
  {
   "cell_type": "code",
   "execution_count": 14,
   "id": "0b4eae95-b61b-4068-ab64-c942caa22a0c",
   "metadata": {},
   "outputs": [],
   "source": [
    "#6.How can you call a constructor explicitly in Python? Give an example."
   ]
  },
  {
   "cell_type": "code",
   "execution_count": 16,
   "id": "efcd1cf9-f3a2-44a2-bbc0-fc46321da6a6",
   "metadata": {},
   "outputs": [
    {
     "data": {
      "text/plain": [
       "'In Python, constructors are not meant to be called explicitly. They are special methods that are automatically invoked when an object is created from a class. The __init__() method in Python is called the constructor and is always called when an object is created.\\n\\nHowever, if you really need to call the constructor (or any method) of a superclass from a subclass, you can do so using the super() function. Here’s an example:\\nclass Parent:\\n    def __init__(self):\\n        print(\"Parent constructor called\")\\n\\nclass Child(Parent):\\n    def __init__(self):\\n        super().__init__()\\n        print(\"Child constructor called\")\\n\\nc = Child()\\n\\nIn this example, when an object of the Child class is created, the __init__() method of the Child class is called. Inside this method, super().__init__() is used to call the __init__() method of the Parent class. This results in the message “Parent constructor called” being printed before the message “Child constructor called”.\\nPlease note that calling the constructor explicitly is not a common practice in Python and should be avoided unless there is a specific reason to do so'"
      ]
     },
     "execution_count": 16,
     "metadata": {},
     "output_type": "execute_result"
    }
   ],
   "source": [
    "'''In Python, constructors are not meant to be called explicitly. They are special methods that are automatically invoked when an object is created from a class. The __init__() method in Python is called the constructor and is always called when an object is created.\n",
    "\n",
    "However, if you really need to call the constructor (or any method) of a superclass from a subclass, you can do so using the super() function. Here’s an example:\n",
    "class Parent:\n",
    "    def __init__(self):\n",
    "        print(\"Parent constructor called\")\n",
    "\n",
    "class Child(Parent):\n",
    "    def __init__(self):\n",
    "        super().__init__()\n",
    "        print(\"Child constructor called\")\n",
    "\n",
    "c = Child()\n",
    "\n",
    "In this example, when an object of the Child class is created, the __init__() method of the Child class is called. Inside this method, super().__init__() is used to call the __init__() method of the Parent class. This results in the message “Parent constructor called” being printed before the message “Child constructor called”.\n",
    "Please note that calling the constructor explicitly is not a common practice in Python and should be avoided unless there is a specific reason to do so'''"
   ]
  },
  {
   "cell_type": "code",
   "execution_count": 17,
   "id": "267a9a5d-a130-4fb7-8b4b-dc039a05f682",
   "metadata": {},
   "outputs": [],
   "source": [
    "#7. What is the significance of the `self` parameter in Python constructors? Explain with an example."
   ]
  },
  {
   "cell_type": "code",
   "execution_count": 18,
   "id": "bad4e80d-efb0-4e92-be97-aeb858b8467e",
   "metadata": {},
   "outputs": [
    {
     "data": {
      "text/plain": [
       "\"In Python, self is a reference to the instance of the class itself. It is the first parameter in instance methods and constructors. When you call a method on an instance, self is automatically passed as the first argument to the method, allowing you to access and modify the object’s attributes.\\nThe self parameter in the constructor refers to the instance being created and allows you to access and set its attributes. This enables you to modify the object’s properties and execute tasks unique to that particular instance.\\nHere’s an example of how the self parameter is used in a Python class\\n\\nclass Person:\\n    def __init__(self, name):\\n        self.name = name\\n\\n    def say_hi(self):\\n        print('Hello, my name is', self.name)\\n\\np = Person('John Doe')\\np.say_hi()\\n\\nIn this example, a person named John Doe is created. While creating a person, “John Doe” is passed as an argument, this argument will be passed to the __init__ method to initialize the object. The keyword self represents the instance of a class and binds the attributes with the given arguments.\\n\\nThe primary use of a constructor is to declare and initialize data members or instance variables of a class1. They allow you to set default values for attributes or properties, and also allow you to initialize the objects of a class1. They make the objects ready to use\""
      ]
     },
     "execution_count": 18,
     "metadata": {},
     "output_type": "execute_result"
    }
   ],
   "source": [
    "'''In Python, self is a reference to the instance of the class itself. It is the first parameter in instance methods and constructors. When you call a method on an instance, self is automatically passed as the first argument to the method, allowing you to access and modify the object’s attributes.\n",
    "The self parameter in the constructor refers to the instance being created and allows you to access and set its attributes. This enables you to modify the object’s properties and execute tasks unique to that particular instance.\n",
    "Here’s an example of how the self parameter is used in a Python class\n",
    "\n",
    "class Person:\n",
    "    def __init__(self, name):\n",
    "        self.name = name\n",
    "\n",
    "    def say_hi(self):\n",
    "        print('Hello, my name is', self.name)\n",
    "\n",
    "p = Person('John Doe')\n",
    "p.say_hi()\n",
    "\n",
    "In this example, a person named John Doe is created. While creating a person, “John Doe” is passed as an argument, this argument will be passed to the __init__ method to initialize the object. The keyword self represents the instance of a class and binds the attributes with the given arguments.\n",
    "\n",
    "The primary use of a constructor is to declare and initialize data members or instance variables of a class1. They allow you to set default values for attributes or properties, and also allow you to initialize the objects of a class1. They make the objects ready to use'''"
   ]
  },
  {
   "cell_type": "code",
   "execution_count": 19,
   "id": "8ef0fd18-9179-4b4c-b973-3cb4171f7cea",
   "metadata": {},
   "outputs": [],
   "source": [
    "#8.Discuss the concept of default constructors in Python. When are they used?"
   ]
  },
  {
   "cell_type": "code",
   "execution_count": 20,
   "id": "c5860721-3bce-4d7a-87d1-5412fff7cfbf",
   "metadata": {},
   "outputs": [
    {
     "data": {
      "text/plain": [
       "'In this example, the GeekforGeeks class has a default constructor that initializes the geek attribute to the string “GeekforGeeks” whenever an object of the class is created.\\n\\nIf you do not provide a constructor for your class, Python will provide a default constructor for you. This default constructor does not perform any task but initializes the objects. It is an empty constructor without a body.\\n\\nDefault constructors are used when you need to instantiate an object, but don’t need to set any initial values, or if you want to set default values for your object’s attributes'"
      ]
     },
     "execution_count": 20,
     "metadata": {},
     "output_type": "execute_result"
    }
   ],
   "source": [
    "'''In this example, the GeekforGeeks class has a default constructor that initializes the geek attribute to the string “GeekforGeeks” whenever an object of the class is created.\n",
    "\n",
    "If you do not provide a constructor for your class, Python will provide a default constructor for you. This default constructor does not perform any task but initializes the objects. It is an empty constructor without a body.\n",
    "\n",
    "Default constructors are used when you need to instantiate an object, but don’t need to set any initial values, or if you want to set default values for your object’s attributes'''"
   ]
  },
  {
   "cell_type": "code",
   "execution_count": 21,
   "id": "491ad307-3739-4476-a2c0-75128be9a7ff",
   "metadata": {},
   "outputs": [],
   "source": [
    "#9. Create a Python class called `Rectangle` with a constructor that initializes the `width` and `height`attributes. Provide a method to calculate the area of the rectangle."
   ]
  },
  {
   "cell_type": "code",
   "execution_count": 22,
   "id": "a91a41e8-af39-4702-9d86-aec001756dc3",
   "metadata": {},
   "outputs": [
    {
     "data": {
      "text/plain": [
       "'Sure, here’s a Python class named Rectangle with a constructor that initializes the width and height attributes. It also includes a method to calculate the area of the rectangle:\\nclass Rectangle:\\n    def __init__(self, width, height):\\n        self.width = width\\n        self.height = height\\n\\n    def calculate_area(self):\\n        return self.width * self.height\\nIn this class:\\n\\nThe __init__ method is the constructor that takes width and height as parameters and initializes these attributes when an object of the class is created.\\nThe calculate_area method calculates the area of the rectangle by multiplying the width and height attributes and returns the result.\\nYou can create an instance of this class and call the calculate_area method like this:\\n\\nrectangle = Rectangle(5, 10)\\nprint(rectangle.calculate_area())\\nThis will create a Rectangle object with a width of 5 and a height of 10, and then print the area of the rectangle, which is 50 in this case. Please note that this is a very basic implementation and a real-world rectangle class would need to include additional features and safeguards.'"
      ]
     },
     "execution_count": 22,
     "metadata": {},
     "output_type": "execute_result"
    }
   ],
   "source": [
    "'''Sure, here’s a Python class named Rectangle with a constructor that initializes the width and height attributes. It also includes a method to calculate the area of the rectangle:\n",
    "class Rectangle:\n",
    "    def __init__(self, width, height):\n",
    "        self.width = width\n",
    "        self.height = height\n",
    "\n",
    "    def calculate_area(self):\n",
    "        return self.width * self.height\n",
    "In this class:\n",
    "\n",
    "The __init__ method is the constructor that takes width and height as parameters and initializes these attributes when an object of the class is created.\n",
    "The calculate_area method calculates the area of the rectangle by multiplying the width and height attributes and returns the result.\n",
    "You can create an instance of this class and call the calculate_area method like this:\n",
    "\n",
    "rectangle = Rectangle(5, 10)\n",
    "print(rectangle.calculate_area())\n",
    "This will create a Rectangle object with a width of 5 and a height of 10, and then print the area of the rectangle, which is 50 in this case. Please note that this is a very basic implementation and a real-world rectangle class would need to include additional features and safeguards.'''"
   ]
  },
  {
   "cell_type": "code",
   "execution_count": 23,
   "id": "9dca95b4-2dc0-4ee5-a1f7-8e663eaee65c",
   "metadata": {},
   "outputs": [],
   "source": [
    "#10. How can you have multiple constructors in a Python class? Explain with an example."
   ]
  },
  {
   "cell_type": "code",
   "execution_count": 24,
   "id": "59a605a3-05c1-4c46-b670-d427dad3eb96",
   "metadata": {},
   "outputs": [
    {
     "data": {
      "text/plain": [
       "'Python does not support explicit multiple constructors like some other programming languages. However, there are several ways to achieve similar functionality.\\nOverloading constructors based on arguments: You can check the type or number of arguments passed to the constructor and perform different actions based on that. Here’s an example\\nclass Sample:\\n    def __init__(self, *args):\\n        if len(args) > 1:\\n            self.ans = sum(args)\\n        elif isinstance(args[0], int):\\n            self.ans = args[0] * args[0]\\n        elif isinstance(args[0], str):\\n            self.ans = \"Hello! \" + args[0] + \".\"\\nIn this example, the constructor behaves differently based on the type and number of arguments passed.\\nUsing @classmethod decorator: You can define class methods that return an instance of the class, effectively acting as alternative constructors. Here’s an example\\n\\nclass Breakfast:\\n    def __init__(self, spam, eggs):\\n        self.spam = spam\\n        self.eggs = eggs\\n\\n    @classmethod\\n    def from_eggs(cls, eggs):\\n        return cls(5, eggs)\\n\\n    @classmethod\\n    def from_spam_and_eggs(cls, spam, eggs):\\n        return cls(spam, eggs)\\nIn this example, from_eggs and from_spam_and_eggs are class methods that act as alternative constructors.\\n\\nPlease note that while these techniques can simulate multiple constructors, they are not true constructors and should be used judiciously'"
      ]
     },
     "execution_count": 24,
     "metadata": {},
     "output_type": "execute_result"
    }
   ],
   "source": [
    "'''Python does not support explicit multiple constructors like some other programming languages. However, there are several ways to achieve similar functionality.\n",
    "Overloading constructors based on arguments: You can check the type or number of arguments passed to the constructor and perform different actions based on that. Here’s an example\n",
    "class Sample:\n",
    "    def __init__(self, *args):\n",
    "        if len(args) > 1:\n",
    "            self.ans = sum(args)\n",
    "        elif isinstance(args[0], int):\n",
    "            self.ans = args[0] * args[0]\n",
    "        elif isinstance(args[0], str):\n",
    "            self.ans = \"Hello! \" + args[0] + \".\"\n",
    "In this example, the constructor behaves differently based on the type and number of arguments passed.\n",
    "Using @classmethod decorator: You can define class methods that return an instance of the class, effectively acting as alternative constructors. Here’s an example\n",
    "\n",
    "class Breakfast:\n",
    "    def __init__(self, spam, eggs):\n",
    "        self.spam = spam\n",
    "        self.eggs = eggs\n",
    "\n",
    "    @classmethod\n",
    "    def from_eggs(cls, eggs):\n",
    "        return cls(5, eggs)\n",
    "\n",
    "    @classmethod\n",
    "    def from_spam_and_eggs(cls, spam, eggs):\n",
    "        return cls(spam, eggs)\n",
    "In this example, from_eggs and from_spam_and_eggs are class methods that act as alternative constructors.\n",
    "\n",
    "Please note that while these techniques can simulate multiple constructors, they are not true constructors and should be used judiciously'''"
   ]
  },
  {
   "cell_type": "code",
   "execution_count": 25,
   "id": "eae66063-d767-40c4-b1bf-9245faa71356",
   "metadata": {},
   "outputs": [],
   "source": [
    "#11. What is method overloading, and how is it related to constructors in Python?"
   ]
  },
  {
   "cell_type": "code",
   "execution_count": null,
   "id": "f1671601-35e7-4ecf-b087-b57a838deafe",
   "metadata": {},
   "outputs": [],
   "source": []
  },
  {
   "cell_type": "code",
   "execution_count": 26,
   "id": "cd150630-3112-4a94-93cf-6def995be39f",
   "metadata": {},
   "outputs": [],
   "source": [
    "#12. Explain the use of the `super()` function in Python constructors. Provide an example."
   ]
  },
  {
   "cell_type": "code",
   "execution_count": 27,
   "id": "8467cd93-7b0e-4906-9d69-216df528da8b",
   "metadata": {},
   "outputs": [
    {
     "data": {
      "text/plain": [
       "'Method overloading is a feature in some programming languages where two or more methods can have the same name but different numbers of parameters or different types of parameters¹². These methods are called overloaded methods¹². \\n\\nHowever, Python does not support method overloading by default¹². But there are different ways to achieve method overloading in Python¹². The problem with method overloading in Python is that we may overload the methods but can only use the latest defined method¹².\\n\\nConstructors in Python can also be overloaded in a similar way¹². A constructor is a special method that is automatically called when an object is created from a class¹². The `__init__()` method in Python is called the constructor¹². Like methods, a constructor also contains a collection of statements (i.e., instructions) that are executed at the time of object creation. It is run as soon as an object of a class is instantiated.\\n\\nHere\\'s an example of how you can achieve constructor overloading in Python:\\n\\n```python\\nclass Sample:\\n    def __init__(self, *args):\\n        if len(args) > 1:\\n            self.ans = sum(args)\\n        elif isinstance(args[0], int):\\n            self.ans = args[0] * args[0]\\n        elif isinstance(args[0], str):\\n            self.ans = \"Hello! \" + args[0] + \".\"\\n```\\n\\nIn this example, the constructor behaves differently based on the type and number of arguments passed0. Please note that while these techniques can simulate multiple constructors, they are not true constructors and should be used judiciously.'"
      ]
     },
     "execution_count": 27,
     "metadata": {},
     "output_type": "execute_result"
    }
   ],
   "source": [
    "'''Method overloading is a feature in some programming languages where two or more methods can have the same name but different numbers of parameters or different types of parameters¹². These methods are called overloaded methods¹². \n",
    "\n",
    "However, Python does not support method overloading by default¹². But there are different ways to achieve method overloading in Python¹². The problem with method overloading in Python is that we may overload the methods but can only use the latest defined method¹².\n",
    "\n",
    "Constructors in Python can also be overloaded in a similar way¹². A constructor is a special method that is automatically called when an object is created from a class¹². The `__init__()` method in Python is called the constructor¹². Like methods, a constructor also contains a collection of statements (i.e., instructions) that are executed at the time of object creation. It is run as soon as an object of a class is instantiated.\n",
    "\n",
    "Here's an example of how you can achieve constructor overloading in Python:\n",
    "\n",
    "```python\n",
    "class Sample:\n",
    "    def __init__(self, *args):\n",
    "        if len(args) > 1:\n",
    "            self.ans = sum(args)\n",
    "        elif isinstance(args[0], int):\n",
    "            self.ans = args[0] * args[0]\n",
    "        elif isinstance(args[0], str):\n",
    "            self.ans = \"Hello! \" + args[0] + \".\"\n",
    "```\n",
    "\n",
    "In this example, the constructor behaves differently based on the type and number of arguments passed0. Please note that while these techniques can simulate multiple constructors, they are not true constructors and should be used judiciously.'''\n"
   ]
  },
  {
   "cell_type": "code",
   "execution_count": 28,
   "id": "1f66e521-e409-43b9-9e06-75f7727c2cc6",
   "metadata": {},
   "outputs": [],
   "source": [
    "#13Create a class called `Book` with a constructor that initializes the `title`, `author`, and `published_year`attributes. Provide a method to display book details."
   ]
  },
  {
   "cell_type": "code",
   "execution_count": 29,
   "id": "9f75e99e-2bbe-4633-829a-b9796253d578",
   "metadata": {},
   "outputs": [
    {
     "data": {
      "text/plain": [
       "'Sure, here’s a Python class named Book with a constructor that initializes the title, author, and published_year attributes. It also includes a method to display the book details:\\nclass Book:\\n    def __init__(self, title, author, published_year):\\n        self.title = title\\n        self.author = author\\n        self.published_year = published_year\\n\\n    def display_book_details(self):\\n        print(f\"Title: {self.title}\")\\n        print(f\"Author: {self.author}\")\\n        print(f\"Published Year: {self.published_year}\")\\nIn this class:\\n\\nThe __init__ method is the constructor that takes title, author, and published_year as parameters and initializes these attributes when an object of the class is created.\\nThe display_book_details method prints the title, author, and published year of the book.\\nYou can create an instance of this class and call the display_book_details method like this:\\nbook = Book(\\'To Kill a Mockingbird\\', \\'Harper Lee\\', 1960)\\nbook.display_book_details()\\nThis will create a Book object with a title of ‘To Kill a Mockingbird’, an author of ‘Harper Lee’, and a published year of 1960, and then print the details of the book. Please note that this is a very basic implementation and a real-world book class would need to include additional features and safeguards.'"
      ]
     },
     "execution_count": 29,
     "metadata": {},
     "output_type": "execute_result"
    }
   ],
   "source": [
    "'''Sure, here’s a Python class named Book with a constructor that initializes the title, author, and published_year attributes. It also includes a method to display the book details:\n",
    "class Book:\n",
    "    def __init__(self, title, author, published_year):\n",
    "        self.title = title\n",
    "        self.author = author\n",
    "        self.published_year = published_year\n",
    "\n",
    "    def display_book_details(self):\n",
    "        print(f\"Title: {self.title}\")\n",
    "        print(f\"Author: {self.author}\")\n",
    "        print(f\"Published Year: {self.published_year}\")\n",
    "In this class:\n",
    "\n",
    "The __init__ method is the constructor that takes title, author, and published_year as parameters and initializes these attributes when an object of the class is created.\n",
    "The display_book_details method prints the title, author, and published year of the book.\n",
    "You can create an instance of this class and call the display_book_details method like this:\n",
    "book = Book('To Kill a Mockingbird', 'Harper Lee', 1960)\n",
    "book.display_book_details()\n",
    "This will create a Book object with a title of ‘To Kill a Mockingbird’, an author of ‘Harper Lee’, and a published year of 1960, and then print the details of the book. Please note that this is a very basic implementation and a real-world book class would need to include additional features and safeguards.'''"
   ]
  },
  {
   "cell_type": "code",
   "execution_count": 30,
   "id": "42fa67b9-d5a9-4e94-bc86-9aeda660b1cf",
   "metadata": {},
   "outputs": [],
   "source": [
    "#14. Discuss the differences between constructors and regular methods in Python classes."
   ]
  },
  {
   "cell_type": "code",
   "execution_count": 31,
   "id": "25fe3ea7-d50c-411e-a63f-31748fe37751",
   "metadata": {},
   "outputs": [
    {
     "data": {
      "text/plain": [
       "'In Python, both constructors and regular methods are defined within a class and are used to perform operations on the attributes of the class. However, there are several key differences between them:\\nInvocation: Constructors are automatically invoked when an object is created from a class. Regular methods, on the other hand, need to be explicitly called by the programmer.\\n\\nPurpose: The primary purpose of a constructor is to initialize the object’s state. Regular methods perform operations on objects that already exist.\\n\\nName: The constructor in Python is always named __init__. Regular methods can have any name.\\n\\nReturn Type: Constructors do not have a return type123. Regular methods must have a return type\\nHere’s an example that illustrates the differences:\\nclass MyClass:\\n    def __init__(self, value):  # This is the constructor\\n        self.value = value\\n\\n    def square(self):  # This is a regular method\\n        return self.value ** 2\\n\\nobj = MyClass(5)  # The constructor is called here\\nprint(obj.square())  # The regular method is called here\\n\\nIn this example, the __init__ method is the constructor, which is automatically called when MyClass(5) is executed. The square method is a regular method, which is called explicitly with obj.square()'"
      ]
     },
     "execution_count": 31,
     "metadata": {},
     "output_type": "execute_result"
    }
   ],
   "source": [
    "'''In Python, both constructors and regular methods are defined within a class and are used to perform operations on the attributes of the class. However, there are several key differences between them:\n",
    "Invocation: Constructors are automatically invoked when an object is created from a class. Regular methods, on the other hand, need to be explicitly called by the programmer.\n",
    "\n",
    "Purpose: The primary purpose of a constructor is to initialize the object’s state. Regular methods perform operations on objects that already exist.\n",
    "\n",
    "Name: The constructor in Python is always named __init__. Regular methods can have any name.\n",
    "\n",
    "Return Type: Constructors do not have a return type123. Regular methods must have a return type\n",
    "Here’s an example that illustrates the differences:\n",
    "class MyClass:\n",
    "    def __init__(self, value):  # This is the constructor\n",
    "        self.value = value\n",
    "\n",
    "    def square(self):  # This is a regular method\n",
    "        return self.value ** 2\n",
    "\n",
    "obj = MyClass(5)  # The constructor is called here\n",
    "print(obj.square())  # The regular method is called here\n",
    "\n",
    "In this example, the __init__ method is the constructor, which is automatically called when MyClass(5) is executed. The square method is a regular method, which is called explicitly with obj.square()'''"
   ]
  },
  {
   "cell_type": "code",
   "execution_count": 32,
   "id": "1f4ab114-187b-42b8-b68b-f06ad6511f19",
   "metadata": {},
   "outputs": [],
   "source": [
    "#15. Explain the role of the `self` parameter in instance variable initialization within a constructor."
   ]
  },
  {
   "cell_type": "code",
   "execution_count": 36,
   "id": "934836ad-5776-423d-a701-3fcc0238360a",
   "metadata": {},
   "outputs": [
    {
     "data": {
      "text/plain": [
       "'In Python, `self` is a reference to the instance of the class itself¹³. It is the first parameter in instance methods and constructors. When you call a method on an instance, `self` is automatically passed as the first argument to the method, allowing you to access and modify the object’s attributes.\\nThe `self` parameter in the constructor refers to the instance being created and allows you to access and set its attributes. This enables you to modify the object’s properties and execute tasks unique to that particular instance.\\n\\nHere\\'s an example of how the `self` parameter is used in a Python class¹:\\n\\n```python\\nclass Person:\\n    def __init__(self, name):\\n        self.name = name\\n\\n    def say_hi(self):\\n        print(\\'Hello, my name is\\', self.name)\\n\\np = Person(\\'John Doe\\')\\np.say_hi()\\n\\n\\nIn this example, a person named John Doe is created. While creating a person, \"John Doe\" is passed as an argument, this argument will be passed to the `__init__` method to initialize the object. The keyword `self` represents the instance of a class and binds the attributes with the given arguments.\\nThe primary use of a constructor is to declare and initialize data members or instance variables of a class¹. They allow you to set default values for attributes or properties, and also allow you to initialize the objects of a class. They make the objects ready to use.'"
      ]
     },
     "execution_count": 36,
     "metadata": {},
     "output_type": "execute_result"
    }
   ],
   "source": [
    "'''In Python, `self` is a reference to the instance of the class itself¹³. It is the first parameter in instance methods and constructors. When you call a method on an instance, `self` is automatically passed as the first argument to the method, allowing you to access and modify the object’s attributes.\n",
    "The `self` parameter in the constructor refers to the instance being created and allows you to access and set its attributes. This enables you to modify the object’s properties and execute tasks unique to that particular instance.\n",
    "\n",
    "Here's an example of how the `self` parameter is used in a Python class¹:\n",
    "\n",
    "```python\n",
    "class Person:\n",
    "    def __init__(self, name):\n",
    "        self.name = name\n",
    "\n",
    "    def say_hi(self):\n",
    "        print('Hello, my name is', self.name)\n",
    "\n",
    "p = Person('John Doe')\n",
    "p.say_hi()\n",
    "\n",
    "\n",
    "In this example, a person named John Doe is created. While creating a person, \"John Doe\" is passed as an argument, this argument will be passed to the `__init__` method to initialize the object. The keyword `self` represents the instance of a class and binds the attributes with the given arguments.\n",
    "The primary use of a constructor is to declare and initialize data members or instance variables of a class¹. They allow you to set default values for attributes or properties, and also allow you to initialize the objects of a class. They make the objects ready to use.'''"
   ]
  },
  {
   "cell_type": "code",
   "execution_count": 33,
   "id": "779f9281-41c8-46e8-aa0e-9615ff6b0db5",
   "metadata": {},
   "outputs": [],
   "source": [
    "#16. How do you prevent a class from having multiple instances by using constructors in Python? Provide an example."
   ]
  },
  {
   "cell_type": "code",
   "execution_count": 37,
   "id": "b380b05d-e47a-4cb9-ab74-9eda6705897d",
   "metadata": {},
   "outputs": [
    {
     "data": {
      "text/plain": [
       "'In Python, you can prevent a class from having multiple instances by implementing the Singleton design pattern. This pattern restricts the instantiation of a class to a single instance and provides a global point of access to it.\\n\\nHere’s an example of how you can implement a Singleton in Python:\\nclass Singleton:\\n    _instance = None\\n\\n    def __new__(cls, *args, **kwargs):\\n        if not cls._instance:\\n            cls._instance = super(Singleton, cls).__new__(cls, *args, **kwargs)\\n        return cls._instance\\nIn this code, _instance is a class attribute that is initially set to None. The __new__ method is a special method in Python that is called to create a new instance of the class. If _instance is None, a new instance is created and assigned to _instance. If _instance is not None (which means an instance already exists), the existing instance is returned.\\n\\nThis way, any subsequent attempts to instantiate the Singleton class will always return the same instance12. Please note that Python does not support method overloading, so you cannot have multiple constructors with different parameters in a single class'"
      ]
     },
     "execution_count": 37,
     "metadata": {},
     "output_type": "execute_result"
    }
   ],
   "source": [
    "'''In Python, you can prevent a class from having multiple instances by implementing the Singleton design pattern. This pattern restricts the instantiation of a class to a single instance and provides a global point of access to it.\n",
    "\n",
    "Here’s an example of how you can implement a Singleton in Python:\n",
    "class Singleton:\n",
    "    _instance = None\n",
    "\n",
    "    def __new__(cls, *args, **kwargs):\n",
    "        if not cls._instance:\n",
    "            cls._instance = super(Singleton, cls).__new__(cls, *args, **kwargs)\n",
    "        return cls._instance\n",
    "In this code, _instance is a class attribute that is initially set to None. The __new__ method is a special method in Python that is called to create a new instance of the class. If _instance is None, a new instance is created and assigned to _instance. If _instance is not None (which means an instance already exists), the existing instance is returned.\n",
    "\n",
    "This way, any subsequent attempts to instantiate the Singleton class will always return the same instance12. Please note that Python does not support method overloading, so you cannot have multiple constructors with different parameters in a single class'''"
   ]
  },
  {
   "cell_type": "code",
   "execution_count": 35,
   "id": "a340d7bc-5a9e-4d93-bbc6-fbac38def68d",
   "metadata": {},
   "outputs": [],
   "source": [
    "#17Create a Python class called `Student` with a constructor that takes a list of subjects as a parameter and initializes the `subjects` attribute."
   ]
  },
  {
   "cell_type": "code",
   "execution_count": 38,
   "id": "14d4fe8c-fc04-469d-8c2c-fd2a91b77465",
   "metadata": {},
   "outputs": [
    {
     "data": {
      "text/plain": [
       "\"Sure, here's a Python class called `Student` that takes a list of subjects as a parameter and initializes the `subjects` attribute:\\n\\n```python\\nclass Student:\\n    def __init__(self, subjects):\\n        self.subjects = subjects\\n```\\n\\nIn this code, `__init__` is a special method in Python, known as a constructor, which is called when an instance (object) of the class is created. It takes `self` and `subjects` as parameters. `self` is a reference to the current instance of the class, and is used to access variables that belong to the class. The `subjects` parameter is a list of subjects, which is assigned to the `subjects` attribute of the class.\""
      ]
     },
     "execution_count": 38,
     "metadata": {},
     "output_type": "execute_result"
    }
   ],
   "source": [
    "'''Sure, here's a Python class called `Student` that takes a list of subjects as a parameter and initializes the `subjects` attribute:\n",
    "\n",
    "```python\n",
    "class Student:\n",
    "    def __init__(self, subjects):\n",
    "        self.subjects = subjects\n",
    "```\n",
    "\n",
    "In this code, `__init__` is a special method in Python, known as a constructor, which is called when an instance (object) of the class is created. It takes `self` and `subjects` as parameters. `self` is a reference to the current instance of the class, and is used to access variables that belong to the class. The `subjects` parameter is a list of subjects, which is assigned to the `subjects` attribute of the class.'''"
   ]
  },
  {
   "cell_type": "code",
   "execution_count": 39,
   "id": "66f29c17-b24b-4f0c-a0ec-d4e346b73adc",
   "metadata": {},
   "outputs": [],
   "source": [
    "#18What is the purpose of the `__del__` method in Python classes, and how does it relate to constructors?"
   ]
  },
  {
   "cell_type": "code",
   "execution_count": 40,
   "id": "376248bc-e3f7-4204-9c76-ddfacc1e7264",
   "metadata": {},
   "outputs": [
    {
     "ename": "SyntaxError",
     "evalue": "invalid character '¹' (U+00B9) (2849391155.py, line 1)",
     "output_type": "error",
     "traceback": [
      "\u001b[0;36m  Cell \u001b[0;32mIn[40], line 1\u001b[0;36m\u001b[0m\n\u001b[0;31m    The `__del__` method in Python is a special method that is called when an instance of the class is about to be destroyed¹. This typically occurs when all references to the object have been deleted². It's sometimes referred to as a class finalizer¹.\u001b[0m\n\u001b[0m                                                                                                                            ^\u001b[0m\n\u001b[0;31mSyntaxError\u001b[0m\u001b[0;31m:\u001b[0m invalid character '¹' (U+00B9)\n"
     ]
    }
   ],
   "source": [
    "'''The `__del__` method in Python is a special method that is called when an instance of the class is about to be destroyed¹. This typically occurs when all references to the object have been deleted². It's sometimes referred to as a class finalizer.\n",
    "\n",
    "The `__del__` method is similar to a destructor in some other programming languages, but it's not exactly the same. The actual destruction of the object is done by the garbage collector, not the `__del__` method¹. The `__del__` method simply provides a hook that allows you to execute code right before the object is destroyed.\n",
    "\n",
    "The `__del__` method is related to the constructor (`__init__` method) in the sense that they are both special methods that are invoked at key points in the lifecycle of an object - the constructor is called when the object is created, and the `__del__` method is called when the object is about to be destroyed.\n",
    "\n",
    "However, it's important to note that the `__del__` method is not intended for general resource cleanup¹. Since you cannot control when exactly it will be called, it's recommended to use context managers or the `finally` clause of a `try` statement for cleanup tasks². Exceptions that occur inside the `__del__` method are not raised but kept silent.\n",
    "\n",
    "Here's an example of how the `__del__` method can be used:\n",
    "\n",
    "```python\n",
    "class Person:\n",
    "    def __init__(self, name, age):\n",
    "        self.name = name\n",
    "        self.age = age\n",
    "\n",
    "    def __del__(self):\n",
    "        print('__del__ was called')\n",
    "```\n",
    "\n",
    "\n",
    "In this example, when an instance of the `Person` class is about to be destroyed (either by using `del` or when it's automatically garbage collected), the message `'__del__ was called'` will be printed.'''"
   ]
  },
  {
   "cell_type": "code",
   "execution_count": 41,
   "id": "39fabaa0-ff67-4b10-bf6d-585bcab23e1b",
   "metadata": {},
   "outputs": [],
   "source": [
    "#19. Explain the use of constructor chaining in Python. Provide a practical example."
   ]
  },
  {
   "cell_type": "code",
   "execution_count": 42,
   "id": "95aa11e9-a51e-4be5-b66a-d705ce95a731",
   "metadata": {},
   "outputs": [
    {
     "data": {
      "text/plain": [
       "'In Python, constructor chaining is not directly supported like in some other languages. However, you can achieve a similar effect using default arguments or by calling the parent class’s constructor in a subclass.\\n\\nHere’s an example of using default arguments:\\nclass Example:\\n    def __init__(self, size=8):\\n        self.buffer = [1] * size\\n\\n# This will create an instance with a buffer of size 8 (the default)\\ne1 = Example()\\n\\n# This will create an instance with a buffer of size 10\\ne2 = Example(10)\\nIn the above code, a buffer of size 8 is created by default, but if a size parameter is specified, the parameter will be used instead.\\n\\nAnd here’s an example of calling the parent class’s constructor in a subclass:\\n\\nclass Human:\\n    def __init__(self):\\n        print(\"Hi this is Human Constructor\")\\n\\nclass Man(Human):\\n    def __init__(self):\\n        super(Man, self).__init__()\\n        print(\"Hi this is Man Constructor\")\\n\\nclass Woman(Human):\\n    def __init__(self):\\n        super(Woman, self).__init__()\\n        print(\"Hi this is Woman Constructor\")\\nIn this example, when an instance of Man or Woman is created, the constructor of Human is called first due to the use of super(). This is a form of constructor chaining where the subclass’s constructor calls the parent class’s constructor.'"
      ]
     },
     "execution_count": 42,
     "metadata": {},
     "output_type": "execute_result"
    }
   ],
   "source": [
    "'''In Python, constructor chaining is not directly supported like in some other languages. However, you can achieve a similar effect using default arguments or by calling the parent class’s constructor in a subclass.\n",
    "\n",
    "Here’s an example of using default arguments:\n",
    "class Example:\n",
    "    def __init__(self, size=8):\n",
    "        self.buffer = [1] * size\n",
    "\n",
    "# This will create an instance with a buffer of size 8 (the default)\n",
    "e1 = Example()\n",
    "\n",
    "# This will create an instance with a buffer of size 10\n",
    "e2 = Example(10)\n",
    "In the above code, a buffer of size 8 is created by default, but if a size parameter is specified, the parameter will be used instead.\n",
    "\n",
    "And here’s an example of calling the parent class’s constructor in a subclass:\n",
    "\n",
    "class Human:\n",
    "    def __init__(self):\n",
    "        print(\"Hi this is Human Constructor\")\n",
    "\n",
    "class Man(Human):\n",
    "    def __init__(self):\n",
    "        super(Man, self).__init__()\n",
    "        print(\"Hi this is Man Constructor\")\n",
    "\n",
    "class Woman(Human):\n",
    "    def __init__(self):\n",
    "        super(Woman, self).__init__()\n",
    "        print(\"Hi this is Woman Constructor\")\n",
    "In this example, when an instance of Man or Woman is created, the constructor of Human is called first due to the use of super(). This is a form of constructor chaining where the subclass’s constructor calls the parent class’s constructor.'''"
   ]
  },
  {
   "cell_type": "code",
   "execution_count": 43,
   "id": "55cf4e24-1b47-46cc-b99c-0bce78a07c05",
   "metadata": {},
   "outputs": [],
   "source": [
    "#20Create a Python class called `Car` with a default constructor that initializes the `make` and `model`attributes. Provide a method to display car information."
   ]
  },
  {
   "cell_type": "code",
   "execution_count": 44,
   "id": "96922c43-3000-4ae1-9738-10cee357edcd",
   "metadata": {},
   "outputs": [
    {
     "data": {
      "text/plain": [
       "'Sure, here’s a simple Python class called Car:\\nclass Car:\\n    def __init__(self, make, model):\\n        self.make = make\\n        self.model = model\\n\\n    def display_info(self):\\n        return f\"Car Make: {self.make}, Car Model: {self.model}\"\\nIn this class, the __init__ method is the constructor and it initializes the make and model attributes of the Car class. The display_info method is used to display the car information. You can create an instance of the Car class and call the display_info method like this:\\nmy_car = Car(\"Toyota\", \"Corolla\")\\nprint(my_car.display_info())\\nThis will output: Car Make: Toyota, Car Model: Corolla. This is a very basic example and real-world classes would typically have more methods and attributes.'"
      ]
     },
     "execution_count": 44,
     "metadata": {},
     "output_type": "execute_result"
    }
   ],
   "source": [
    "'''Sure, here’s a simple Python class called Car:\n",
    "class Car:\n",
    "    def __init__(self, make, model):\n",
    "        self.make = make\n",
    "        self.model = model\n",
    "\n",
    "    def display_info(self):\n",
    "        return f\"Car Make: {self.make}, Car Model: {self.model}\"\n",
    "In this class, the __init__ method is the constructor and it initializes the make and model attributes of the Car class. The display_info method is used to display the car information. You can create an instance of the Car class and call the display_info method like this:\n",
    "my_car = Car(\"Toyota\", \"Corolla\")\n",
    "print(my_car.display_info())\n",
    "This will output: Car Make: Toyota, Car Model: Corolla. This is a very basic example and real-world classes would typically have more methods and attributes.'''"
   ]
  },
  {
   "cell_type": "code",
   "execution_count": 45,
   "id": "d26be4d9-850c-4bc9-ac19-196d5a847127",
   "metadata": {},
   "outputs": [],
   "source": [
    "#Inheritance:\n",
    "#1. What is inheritance in Python? Explain its significance in object-oriented programming."
   ]
  },
  {
   "cell_type": "code",
   "execution_count": 46,
   "id": "f598b619-254d-4528-82c3-5b042b001765",
   "metadata": {},
   "outputs": [
    {
     "data": {
      "text/plain": [
       "'Inheritance is one of the core concepts in object-oriented programming (OOP) languages, including Python. It is a mechanism that allows you to create a hierarchy of classes that share a set of properties and methods.\\n\\nIn Python, inheritance is the capability of one class to derive or inherit the properties from another class. This means you can create a new class, known as a subclass or derived class, that inherits the attributes and methods of an existing class, known as the superclass or base class.\\n\\nHere’s a simple example of inheritance in Python:\\nclass Person:\\n    def __init__(self, name):\\n        self.name = name\\n\\n    def getName(self):\\n        return self.name\\n\\nclass Employee(Person):\\n    def isEmployee(self):\\n        return True\\n\\nemp = Person(\"Geek1\")\\nprint(emp.getName(), emp.isEmployee())\\n\\nemp = Employee(\"Geek2\")\\nprint(emp.getName(), emp.isEmployee())\\n\\nIn this example, Person is the parent class, and Employee is its child class1.\\n\\nThe significance of inheritance in OOP includes:\\n\\nReusability of Code: Inheritance allows us to reuse the code of the base class, avoiding repetition.\\nReal-World Relationships: Inheritance can model real-world relationships (like Employee is a Person) well.\\nTransitive Nature: If class B inherits from class A, then all subclasses of B would automatically inherit from class A.\\nAdding More Features: It allows us to add more features to a class without modifying it.\\nLess Development and Maintenance Expenses: Due to code reusability and modularity, the development and maintenance costs are reduced.\\nInheritance offers a simple, understandable model structure, making it a fundamental pillar of OOP'"
      ]
     },
     "execution_count": 46,
     "metadata": {},
     "output_type": "execute_result"
    }
   ],
   "source": [
    "'''Inheritance is one of the core concepts in object-oriented programming (OOP) languages, including Python. It is a mechanism that allows you to create a hierarchy of classes that share a set of properties and methods.\n",
    "\n",
    "In Python, inheritance is the capability of one class to derive or inherit the properties from another class. This means you can create a new class, known as a subclass or derived class, that inherits the attributes and methods of an existing class, known as the superclass or base class.\n",
    "\n",
    "Here’s a simple example of inheritance in Python:\n",
    "class Person:\n",
    "    def __init__(self, name):\n",
    "        self.name = name\n",
    "\n",
    "    def getName(self):\n",
    "        return self.name\n",
    "\n",
    "class Employee(Person):\n",
    "    def isEmployee(self):\n",
    "        return True\n",
    "\n",
    "emp = Person(\"Geek1\")\n",
    "print(emp.getName(), emp.isEmployee())\n",
    "\n",
    "emp = Employee(\"Geek2\")\n",
    "print(emp.getName(), emp.isEmployee())\n",
    "\n",
    "In this example, Person is the parent class, and Employee is its child class1.\n",
    "\n",
    "The significance of inheritance in OOP includes:\n",
    "\n",
    "Reusability of Code: Inheritance allows us to reuse the code of the base class, avoiding repetition.\n",
    "Real-World Relationships: Inheritance can model real-world relationships (like Employee is a Person) well.\n",
    "Transitive Nature: If class B inherits from class A, then all subclasses of B would automatically inherit from class A.\n",
    "Adding More Features: It allows us to add more features to a class without modifying it.\n",
    "Less Development and Maintenance Expenses: Due to code reusability and modularity, the development and maintenance costs are reduced.\n",
    "Inheritance offers a simple, understandable model structure, making it a fundamental pillar of OOP'''"
   ]
  },
  {
   "cell_type": "code",
   "execution_count": 47,
   "id": "2b3d8934-f87f-4c3b-8778-29683b6b8d4e",
   "metadata": {},
   "outputs": [],
   "source": [
    "#2 Differentiate between single inheritance and multiple inheritance in Python. Provide examples for each."
   ]
  },
  {
   "cell_type": "code",
   "execution_count": 49,
   "id": "9d3aaeb4-c14c-42df-8a3f-dfd13ec11cb6",
   "metadata": {},
   "outputs": [
    {
     "data": {
      "text/plain": [
       "'Sure, let\\'s discuss single inheritance and multiple inheritance in Python.\\n\\n**Single Inheritance**:\\nSingle inheritance is when a class inherits from a single parent class. This allows the child class to reuse code from the parent class, and also add or override methods and attributes. Here\\'s an example:\\n\\n```python\\nclass Person:\\n    def __init__(self, name):\\n        self.name = name\\n\\n    def getName(self):\\n        return self.name\\n\\nclass Employee(Person):\\n    def isEmployee(self):\\n        return True\\n\\nemp = Person(\"Geek1\")\\nprint(emp.getName(), emp.isEmployee())\\n\\nemp = Employee(\"Geek2\")\\nprint(emp.getName(), emp.isEmployee())\\n```\\nIn this example, `Person` is the parent class, and `Employee` is its child class.\\n\\n**Multiple Inheritance**:\\nMultiple inheritance is when a class inherits from more than one parent class. This allows the child class to reuse code from multiple parent classes. Here\\'s an example:\\n\\n```python\\nclass Mammal:\\n    def mammal_info(self):\\n        print(\"Mammals can give direct birth.\")\\n\\nclass WingedAnimal:\\n    def winged_animal_info(self):\\n        print(\"Winged animals can flap.\")\\n\\nclass Bat(Mammal, WingedAnimal):\\n    pass\\n\\nb1 = Bat()\\nb1.mammal_info()\\nb1.winged_animal_info()\\n```\\nIn this example, the `Bat` class is derived from two super classes: `Mammal` and `WingedAnimal`.\\n\\nInheritance, whether single or multiple, is a fundamental concept in object-oriented programming that promotes code reusability and real-world modeling'"
      ]
     },
     "execution_count": 49,
     "metadata": {},
     "output_type": "execute_result"
    }
   ],
   "source": [
    "'''Sure, let's discuss single inheritance and multiple inheritance in Python.\n",
    "\n",
    "**Single Inheritance**:\n",
    "Single inheritance is when a class inherits from a single parent class. This allows the child class to reuse code from the parent class, and also add or override methods and attributes. Here's an example:\n",
    "\n",
    "```python\n",
    "class Person:\n",
    "    def __init__(self, name):\n",
    "        self.name = name\n",
    "\n",
    "    def getName(self):\n",
    "        return self.name\n",
    "\n",
    "class Employee(Person):\n",
    "    def isEmployee(self):\n",
    "        return True\n",
    "\n",
    "emp = Person(\"Geek1\")\n",
    "print(emp.getName(), emp.isEmployee())\n",
    "\n",
    "emp = Employee(\"Geek2\")\n",
    "print(emp.getName(), emp.isEmployee())\n",
    "```\n",
    "In this example, `Person` is the parent class, and `Employee` is its child class.\n",
    "\n",
    "**Multiple Inheritance**:\n",
    "Multiple inheritance is when a class inherits from more than one parent class. This allows the child class to reuse code from multiple parent classes. Here's an example:\n",
    "\n",
    "```python\n",
    "class Mammal:\n",
    "    def mammal_info(self):\n",
    "        print(\"Mammals can give direct birth.\")\n",
    "\n",
    "class WingedAnimal:\n",
    "    def winged_animal_info(self):\n",
    "        print(\"Winged animals can flap.\")\n",
    "\n",
    "class Bat(Mammal, WingedAnimal):\n",
    "    pass\n",
    "\n",
    "b1 = Bat()\n",
    "b1.mammal_info()\n",
    "b1.winged_animal_info()\n",
    "```\n",
    "In this example, the `Bat` class is derived from two super classes: `Mammal` and `WingedAnimal`.\n",
    "\n",
    "Inheritance, whether single or multiple, is a fundamental concept in object-oriented programming that promotes code reusability and real-world modeling'''"
   ]
  },
  {
   "cell_type": "code",
   "execution_count": 48,
   "id": "cae50a54-66cc-4076-9a4a-8aef9c211eb1",
   "metadata": {},
   "outputs": [],
   "source": [
    "#3Create a Python class called `Vehicle` with attributes `color` and `speed`. Then, create a child class called `Car` that inherits from `Vehicle` and adds a `brand` attribute. Provide an example of creating a `Car` object."
   ]
  },
  {
   "cell_type": "code",
   "execution_count": 52,
   "id": "e28c7593-4df1-4132-b94e-d8a11c52c30c",
   "metadata": {},
   "outputs": [
    {
     "data": {
      "text/plain": [
       "'Sure, here\\'s how you can create a `Vehicle` class and a `Car` class that inherits from `Vehicle`:\\n\\n```python\\nclass Vehicle:\\n    def __init__(self, color, speed):\\n        self.color = color\\n        self.speed = speed\\n\\nclass Car(Vehicle):\\n    def __init__(self, color, speed, brand):\\n        super().__init__(color, speed)\\n        self.brand = brand\\n```\\n\\nIn this code, `Vehicle` is the parent class with attributes `color` and `speed`. `Car` is a child class that inherits from `Vehicle` and adds an additional attribute `brand`.\\n\\nYou can create a `Car` object like this:\\n\\n```python\\nmy_car = Car(\"red\", 60, \"Toyota\")\\nprint(my_car.color)  # Output: red\\nprint(my_car.speed)  # Output: 60\\nprint(my_car.brand)  # Output: Toyota\\n```\\n\\nIn this example, `my_car` is an instance of the `Car` class with a color of \"red\", a speed of 60, and a brand of \"Toyota\". The `print` statements display the attributes of the `my_car` object.'"
      ]
     },
     "execution_count": 52,
     "metadata": {},
     "output_type": "execute_result"
    }
   ],
   "source": [
    "'''Sure, here's how you can create a `Vehicle` class and a `Car` class that inherits from `Vehicle`:\n",
    "\n",
    "```python\n",
    "class Vehicle:\n",
    "    def __init__(self, color, speed):\n",
    "        self.color = color\n",
    "        self.speed = speed\n",
    "\n",
    "class Car(Vehicle):\n",
    "    def __init__(self, color, speed, brand):\n",
    "        super().__init__(color, speed)\n",
    "        self.brand = brand\n",
    "```\n",
    "\n",
    "In this code, `Vehicle` is the parent class with attributes `color` and `speed`. `Car` is a child class that inherits from `Vehicle` and adds an additional attribute `brand`.\n",
    "\n",
    "You can create a `Car` object like this:\n",
    "\n",
    "```python\n",
    "my_car = Car(\"red\", 60, \"Toyota\")\n",
    "print(my_car.color)  # Output: red\n",
    "print(my_car.speed)  # Output: 60\n",
    "print(my_car.brand)  # Output: Toyota\n",
    "```\n",
    "\n",
    "In this example, `my_car` is an instance of the `Car` class with a color of \"red\", a speed of 60, and a brand of \"Toyota\". The `print` statements display the attributes of the `my_car` object.'''"
   ]
  },
  {
   "cell_type": "code",
   "execution_count": 51,
   "id": "5466da5e-4d53-4410-b9ab-e8bb995b5ad8",
   "metadata": {},
   "outputs": [],
   "source": [
    "#4. Explain the concept of method overriding in inheritance. Provide a practical example."
   ]
  },
  {
   "cell_type": "code",
   "execution_count": 53,
   "id": "c9d52db5-4566-4f8e-905a-14bd461c5146",
   "metadata": {},
   "outputs": [
    {
     "ename": "SyntaxError",
     "evalue": "incomplete input (3857640367.py, line 1)",
     "output_type": "error",
     "traceback": [
      "\u001b[0;36m  Cell \u001b[0;32mIn[53], line 1\u001b[0;36m\u001b[0m\n\u001b[0;31m    '''\u001b[0m\n\u001b[0m    ^\u001b[0m\n\u001b[0;31mSyntaxError\u001b[0m\u001b[0;31m:\u001b[0m incomplete input\n"
     ]
    }
   ],
   "source": [
    "'''Method overriding is an ability of any object-oriented programming language that allows a subclass or child class to provide a specific implementation of a method that is already provided by one of its super-classes or parent classes¹. When a method in a subclass has the same name, same parameters or signature, and same return type (or sub-type) as a method in its super-class, then the method in the subclass is said to override the method in the super-class¹.\n",
    "The version of a method that is executed will be determined by the object that is used to invoke it. If an object of a parent class is used to invoke the method, then the version in the parent class will be executed, but if an object of the subclass is used to invoke the method, then the version in the child class will be executed¹.\n",
    "Here's an example of method overriding in Python:\n",
    "\n",
    "```python\n",
    "class Parent:\n",
    "    def __init__(self):\n",
    "        self.value = \"Inside Parent\"\n",
    "\n",
    "    def show(self):\n",
    "        print(self.value)\n",
    "\n",
    "class Child(Parent):\n",
    "    def __init__(self):\n",
    "        self.value = \"Inside Child\"\n",
    "\n",
    "    def show(self):\n",
    "        print(self.value)\n",
    "\n",
    "obj1 = Parent()\n",
    "obj2 = Child()\n",
    "\n",
    "obj1.show()  # Output: Inside Parent\n",
    "obj2.show()  # Output: Inside Child\n",
    "```\n",
    "In this example, the `Child` class overrides the `show` method of the `Parent` class¹. When `show` is called on an object of type `Parent`, it prints \"Inside Parent\". But when `show` is called on an object of type `Child`, it prints \"Inside Child\" because the `Child` class provides its own implementation of the `show` method\n",
    "\n",
    "Method overriding is a key part of the polymorphism principle in object-oriented programming. It allows a program to decide which method to call at runtime based on the type of the object, making the program more flexible and extensible'''"
   ]
  },
  {
   "cell_type": "code",
   "execution_count": 54,
   "id": "1e3f423e-a649-4589-99de-9bfef6ccfa9c",
   "metadata": {},
   "outputs": [],
   "source": [
    "#5. How can you access the methods and attributes of a parent class from a child class in Python? Give anexample."
   ]
  },
  {
   "cell_type": "code",
   "execution_count": 55,
   "id": "0d653d9d-c4da-46b5-894f-9fd043d3e31b",
   "metadata": {},
   "outputs": [
    {
     "data": {
      "text/plain": [
       "'In Python, a child class can access the methods and attributes of a parent class using the `super()` function or directly using the `self` keyword¹².\\n\\nHere\\'s an example using `super()`:\\n\\n```python\\nclass Parent:\\n    def __init__(self, name):\\n        self.name = name\\n\\n    def display(self):\\n        return self.name\\n\\nclass Child(Parent):\\n    def __init__(self, name, id):\\n        super().__init__(name)\\n        self.id = id\\n\\n    def display(self):\\n        return super().display(), self.id\\n\\nc = Child(\"John\", 123)\\nprint(c.display())  # Output: (\\'John\\', 123)\\n```\\nIn this example, the `Child` class overrides the `display` method of the `Parent` class but still accesses the `display` method of the `Parent` class using `super().display()`¹.\\n\\nHere\\'s an example using `self`:\\n\\n```python\\nclass Parent:\\n    def __init__(self):\\n        self.value = \"Inside Parent\"\\n\\n    def show(self):\\n        return self.value\\n\\nclass Child(Parent):\\n    def __init__(self):\\n        super().__init__()\\n\\n    def show(self):\\n        return self.value\\n\\nc = Child()\\nprint(c.show())  # Output: Inside Parent\\n```\\nIn this example, the `Child` class does not override the `show` method of the `Parent` class and accesses the `value` attribute of the `Parent` class using `self.value`².\\n\\nThese examples demonstrate how a child class can access the methods and attributes of a parent class in Python'"
      ]
     },
     "execution_count": 55,
     "metadata": {},
     "output_type": "execute_result"
    }
   ],
   "source": [
    "'''In Python, a child class can access the methods and attributes of a parent class using the `super()` function or directly using the `self` keyword.\n",
    "\n",
    "Here's an example using `super()`:\n",
    "\n",
    "```python\n",
    "class Parent:\n",
    "    def __init__(self, name):\n",
    "        self.name = name\n",
    "\n",
    "    def display(self):\n",
    "        return self.name\n",
    "\n",
    "class Child(Parent):\n",
    "    def __init__(self, name, id):\n",
    "        super().__init__(name)\n",
    "        self.id = id\n",
    "\n",
    "    def display(self):\n",
    "        return super().display(), self.id\n",
    "\n",
    "c = Child(\"John\", 123)\n",
    "print(c.display())  # Output: ('John', 123)\n",
    "```\n",
    "In this example, the `Child` class overrides the `display` method of the `Parent` class but still accesses the `display` method of the `Parent` class using `super().display().\n",
    "\n",
    "Here's an example using `self`:\n",
    "\n",
    "```python\n",
    "class Parent:\n",
    "    def __init__(self):\n",
    "        self.value = \"Inside Parent\"\n",
    "\n",
    "    def show(self):\n",
    "        return self.value\n",
    "\n",
    "class Child(Parent):\n",
    "    def __init__(self):\n",
    "        super().__init__()\n",
    "\n",
    "    def show(self):\n",
    "        return self.value\n",
    "\n",
    "c = Child()\n",
    "print(c.show())  # Output: Inside Parent\n",
    "```\n",
    "In this example, the `Child` class does not override the `show` method of the `Parent` class and accesses the `value` attribute of the `Parent` class using `self.value`.\n",
    "\n",
    "These examples demonstrate how a child class can access the methods and attributes of a parent class in Python'''"
   ]
  },
  {
   "cell_type": "code",
   "execution_count": 56,
   "id": "e04f6e47-a301-4c85-a223-386f387710ee",
   "metadata": {},
   "outputs": [],
   "source": [
    "#6Discuss the use of the `super()` function in Python inheritance. When and why is it used? Provide an example."
   ]
  },
  {
   "cell_type": "code",
   "execution_count": 59,
   "id": "de7ae312-5085-427d-9665-9d4905b138d6",
   "metadata": {},
   "outputs": [
    {
     "data": {
      "text/plain": [
       "\"In Python, the `super()` function is used to call a method from a parent class in a subclass. This is particularly useful when you have a method in a subclass that overrides a method in its parent class, but you still want to use some code from the overridden method.\\n\\nThe `super()` function allows you to avoid hard-coding the parent class name in your methods, which can be especially handy if you later decide to change your class hierarchy. It also allows you to follow the Don't Repeat Yourself (DRY) principle by reusing code from the parent class.\\n\\nHere's an example of how you might use the `super()` function in Python:\\n\\n```python\\nclass Mammal:\\n    def __init__(self, mammalName):\\n        print(mammalName, 'is a warm-blooded animal.')\\n\\nclass Dog(Mammal):\\n    def __init__(self):\\n        print('Dog has four legs.')\\n        super().__init__('Dog')\\n\\nd1 = Dog()\\n```\\nIn this example, the `Dog` class is a subclass of the `Mammal` class. The `Dog` class overrides the `__init__` method of the `Mammal` class, but it still wants to use the `__init__` method of the `Mammal` class. So, it calls `super().__init__('Dog')` to do this.\\n\\nThis will output:\\n\\n```\\nDog has four legs.\\nDog is a warm-blooded animal.\\n```\\n\\nThe `super()` function is a built-in function in Python, and it's a very useful tool for working with inheritance.\""
      ]
     },
     "execution_count": 59,
     "metadata": {},
     "output_type": "execute_result"
    }
   ],
   "source": [
    "'''In Python, the `super()` function is used to call a method from a parent class in a subclass. This is particularly useful when you have a method in a subclass that overrides a method in its parent class, but you still want to use some code from the overridden method.\n",
    "\n",
    "The `super()` function allows you to avoid hard-coding the parent class name in your methods, which can be especially handy if you later decide to change your class hierarchy. It also allows you to follow the Don't Repeat Yourself (DRY) principle by reusing code from the parent class.\n",
    "\n",
    "Here's an example of how you might use the `super()` function in Python:\n",
    "\n",
    "```python\n",
    "class Mammal:\n",
    "    def __init__(self, mammalName):\n",
    "        print(mammalName, 'is a warm-blooded animal.')\n",
    "\n",
    "class Dog(Mammal):\n",
    "    def __init__(self):\n",
    "        print('Dog has four legs.')\n",
    "        super().__init__('Dog')\n",
    "\n",
    "d1 = Dog()\n",
    "```\n",
    "In this example, the `Dog` class is a subclass of the `Mammal` class. The `Dog` class overrides the `__init__` method of the `Mammal` class, but it still wants to use the `__init__` method of the `Mammal` class. So, it calls `super().__init__('Dog')` to do this.\n",
    "\n",
    "This will output:\n",
    "\n",
    "```\n",
    "Dog has four legs.\n",
    "Dog is a warm-blooded animal.\n",
    "```\n",
    "\n",
    "The `super()` function is a built-in function in Python, and it's a very useful tool for working with inheritance.'''"
   ]
  },
  {
   "cell_type": "code",
   "execution_count": 58,
   "id": "11f0ccc6-d303-49f1-a268-0f75fb6a4065",
   "metadata": {},
   "outputs": [],
   "source": [
    "#7.Create a Python class called `Animal` with a method `speak()`. Then, create child classes `Dog` and `Cat` that inherit from `Animal` and override the `speak()` method. Provide an example of using these classes."
   ]
  },
  {
   "cell_type": "code",
   "execution_count": 60,
   "id": "8b9adb45-ed6c-46ca-bd0d-c5fad4704e35",
   "metadata": {},
   "outputs": [
    {
     "data": {
      "text/plain": [
       "'Sure, here\\'s how you can create an `Animal` class and `Dog` and `Cat` classes that inherit from `Animal`:\\n\\n```python\\nclass Animal:\\n    def speak(self):\\n        pass\\n\\nclass Dog(Animal):\\n    def speak(self):\\n        return \"Woof!\"\\n\\nclass Cat(Animal):\\n    def speak(self):\\n        return \"Meow!\"\\n\\n# Create instances of Dog and Cat\\nd = Dog()\\nc = Cat()\\n\\n# Call the speak method\\nprint(d.speak())  # Output: Woof!\\nprint(c.speak())  # Output: Meow!\\n```\\n\\nIn this code, `Animal` is the parent class with a method `speak()`. `Dog` and `Cat` are child classes that inherit from `Animal` and override the `speak()` method. When `speak()` is called on a `Dog` object, it returns \"Woof!\", and when `speak()` is called on a `Cat` object, it returns \"Meow!\" '"
      ]
     },
     "execution_count": 60,
     "metadata": {},
     "output_type": "execute_result"
    }
   ],
   "source": [
    "'''Sure, here's how you can create an `Animal` class and `Dog` and `Cat` classes that inherit from `Animal`:\n",
    "\n",
    "```python\n",
    "class Animal:\n",
    "    def speak(self):\n",
    "        pass\n",
    "\n",
    "class Dog(Animal):\n",
    "    def speak(self):\n",
    "        return \"Woof!\"\n",
    "\n",
    "class Cat(Animal):\n",
    "    def speak(self):\n",
    "        return \"Meow!\"\n",
    "\n",
    "# Create instances of Dog and Cat\n",
    "d = Dog()\n",
    "c = Cat()\n",
    "\n",
    "# Call the speak method\n",
    "print(d.speak())  # Output: Woof!\n",
    "print(c.speak())  # Output: Meow!\n",
    "```\n",
    "\n",
    "In this code, `Animal` is the parent class with a method `speak()`. `Dog` and `Cat` are child classes that inherit from `Animal` and override the `speak()` method. When `speak()` is called on a `Dog` object, it returns \"Woof!\", and when `speak()` is called on a `Cat` object, it returns \"Meow!\" '''"
   ]
  },
  {
   "cell_type": "code",
   "execution_count": 61,
   "id": "c2539078-fb38-43b5-9af2-8b9a3ee51bf5",
   "metadata": {},
   "outputs": [],
   "source": [
    "#8. Explain the role of the `isinstance()` function in Python and how it relates to inheritance."
   ]
  },
  {
   "cell_type": "code",
   "execution_count": 62,
   "id": "aa0e9915-5028-474e-be68-c5cc33919c0d",
   "metadata": {},
   "outputs": [
    {
     "data": {
      "text/plain": [
       "'The `isinstance()` function in Python is used to check if an object is an instance of a particular class or a subclass thereof. It takes two parameters: the first is the object that needs to be checked, and the second is the class information.\\n\\nIn the context of inheritance, `isinstance()` is particularly useful because it considers the entire class hierarchy. If you have a class hierarchy where class B is a subclass of class A, `isinstance()` will return `True` for an instance of class B being checked against class A, because class B inherits from class A¹⁴.\\n\\nHere\\'s an example:\\n\\n```python\\nclass A:\\n    pass\\n\\nclass B(A):\\n    pass\\n\\nb = B()\\nprint(isinstance(b, B))  # Output: True\\nprint(isinstance(b, A))  # Output: True\\n```\\n\\nIn this example, `B` is a subclass of `A`. So, an instance of `B` is also considered an instance of `A`. This is because of the \"is-a\" relationship in inheritance - if `B` inherits from `A`, then an instance of `B` is also an instance of `A`.\\n\\nThe `isinstance()` function is a built-in function in Python, and it\\'s a very useful tool for working with inheritance,'"
      ]
     },
     "execution_count": 62,
     "metadata": {},
     "output_type": "execute_result"
    }
   ],
   "source": [
    "'''The `isinstance()` function in Python is used to check if an object is an instance of a particular class or a subclass thereof. It takes two parameters: the first is the object that needs to be checked, and the second is the class information.\n",
    "\n",
    "In the context of inheritance, `isinstance()` is particularly useful because it considers the entire class hierarchy. If you have a class hierarchy where class B is a subclass of class A, `isinstance()` will return `True` for an instance of class B being checked against class A, because class B inherits from class A¹⁴.\n",
    "\n",
    "Here's an example:\n",
    "\n",
    "```python\n",
    "class A:\n",
    "    pass\n",
    "\n",
    "class B(A):\n",
    "    pass\n",
    "\n",
    "b = B()\n",
    "print(isinstance(b, B))  # Output: True\n",
    "print(isinstance(b, A))  # Output: True\n",
    "```\n",
    "\n",
    "In this example, `B` is a subclass of `A`. So, an instance of `B` is also considered an instance of `A`. This is because of the \"is-a\" relationship in inheritance - if `B` inherits from `A`, then an instance of `B` is also an instance of `A`.\n",
    "\n",
    "The `isinstance()` function is a built-in function in Python, and it's a very useful tool for working with inheritance,'''"
   ]
  },
  {
   "cell_type": "code",
   "execution_count": 63,
   "id": "2820792f-078f-4606-87b7-2815b5a36cf4",
   "metadata": {},
   "outputs": [],
   "source": [
    "#9. What is the purpose of the `issubclass()` function in Python? Provide an example.\n"
   ]
  },
  {
   "cell_type": "code",
   "execution_count": null,
   "id": "d9a3da23-0578-40d4-851d-99a7eade01ff",
   "metadata": {},
   "outputs": [],
   "source": [
    "'''The `issubclass()` function in Python is used to check if a class is a subclass of another class. It takes two parameters: the first is the class that needs to be checked, and the second is the class information.\n",
    "The function returns `True` if the first class is a subclass of the second class, and `False` otherwise. This can be useful in situations where you need to check the relationship between two classes in your code.\n",
    "\n",
    "Here's an example:\n",
    "\n",
    "```python\n",
    "class Vehicle:\n",
    "    pass\n",
    "\n",
    "class Car(Vehicle):\n",
    "    pass\n",
    "\n",
    "print(issubclass(Car, Vehicle))  # Output: True\n",
    "print(issubclass(Vehicle, Car))  # Output: False\n",
    "```\n",
    "\n",
    "In this example, `Car` is a subclass of `Vehicle`, so `issubclass(Car, Vehicle)` returns `True`. On the other hand, `Vehicle` is not a subclass of `Car`, so `issubclass(Vehicle, Car)` returns `False`'''"
   ]
  },
  {
   "cell_type": "code",
   "execution_count": 64,
   "id": "5170a511-8278-45fc-991a-471215f976fc",
   "metadata": {},
   "outputs": [],
   "source": [
    "#10. Discuss the concept of constructor inheritance in Python. How are constructors inherited in child classes?"
   ]
  },
  {
   "cell_type": "code",
   "execution_count": 65,
   "id": "22bb7ea1-2322-45b3-8b73-6a8611e190f8",
   "metadata": {},
   "outputs": [
    {
     "data": {
      "text/plain": [
       "'In Python, constructors are special methods that are used to initialize objects. The constructor method is automatically called when an object of a class is created. It is defined using the `__init__()` method.\\n\\nIn the context of inheritance, constructors are also inherited in child classes. This means that when you create an instance of a subclass, Python will automatically call the constructor of the parent class, unless the subclass overrides this constructor.\\n\\nHere\\'s an example:\\n\\n```python\\nclass Parent:\\n    def __init__(self):\\n        print(\"This is the Parent class constructor\")\\n\\nclass Child(Parent):\\n    pass\\n\\nc = Child()  # Output: This is the Parent class constructor\\n```\\n\\nIn this example, `Child` is a subclass of `Parent`, but it doesn\\'t define its own constructor. So, when we create an instance of `Child`, Python calls the constructor of `Parent`.\\n\\nIf you want to override the parent class constructor in the child class, you can do so by defining an `__init__()` method in the child class¹². If you still want to call the parent class constructor from the child class, you can use the `super()` function\\n\\nHere\\'s an example:\\n\\n```python\\nclass Parent:\\n    def __init__(self):\\n        print(\"This is the Parent class constructor\")\\n\\nclass Child(Parent):\\n    def __init__(self):\\n        super().__init__()\\n        print(\"This is the Child class constructor\")\\n\\nc = Child()  \\n# Output: \\n# This is the Parent class constructor\\n# This is the Child class constructor\\n```\\n\\nIn this example, `Child` overrides the constructor of `Parent`, but it still calls the `Parent` constructor using `super().__init__()`¹². This is a common pattern when you need to extend the behavior of the parent class constructor rather than entirely replace it'"
      ]
     },
     "execution_count": 65,
     "metadata": {},
     "output_type": "execute_result"
    }
   ],
   "source": [
    "'''In Python, constructors are special methods that are used to initialize objects. The constructor method is automatically called when an object of a class is created. It is defined using the `__init__()` method.\n",
    "\n",
    "In the context of inheritance, constructors are also inherited in child classes. This means that when you create an instance of a subclass, Python will automatically call the constructor of the parent class, unless the subclass overrides this constructor.\n",
    "\n",
    "Here's an example:\n",
    "\n",
    "```python\n",
    "class Parent:\n",
    "    def __init__(self):\n",
    "        print(\"This is the Parent class constructor\")\n",
    "\n",
    "class Child(Parent):\n",
    "    pass\n",
    "\n",
    "c = Child()  # Output: This is the Parent class constructor\n",
    "```\n",
    "\n",
    "In this example, `Child` is a subclass of `Parent`, but it doesn't define its own constructor. So, when we create an instance of `Child`, Python calls the constructor of `Parent`.\n",
    "\n",
    "If you want to override the parent class constructor in the child class, you can do so by defining an `__init__()` method in the child class¹². If you still want to call the parent class constructor from the child class, you can use the `super()` function\n",
    "\n",
    "Here's an example:\n",
    "\n",
    "```python\n",
    "class Parent:\n",
    "    def __init__(self):\n",
    "        print(\"This is the Parent class constructor\")\n",
    "\n",
    "class Child(Parent):\n",
    "    def __init__(self):\n",
    "        super().__init__()\n",
    "        print(\"This is the Child class constructor\")\n",
    "\n",
    "c = Child()  \n",
    "# Output: \n",
    "# This is the Parent class constructor\n",
    "# This is the Child class constructor\n",
    "```\n",
    "\n",
    "In this example, `Child` overrides the constructor of `Parent`, but it still calls the `Parent` constructor using `super().__init__()`¹². This is a common pattern when you need to extend the behavior of the parent class constructor rather than entirely replace it'''"
   ]
  },
  {
   "cell_type": "code",
   "execution_count": 66,
   "id": "bbd4d91b-c33e-4ff9-85b0-39f89474b212",
   "metadata": {},
   "outputs": [],
   "source": [
    "#11. Create a Python class called `Shape` with a method `area()` that calculates the area of a shape. Then, create child classes `Circle` and `Rectangle` that inherit from `Shape` and implement the `area()` method accordingly. Provide an example."
   ]
  },
  {
   "cell_type": "code",
   "execution_count": 67,
   "id": "3e505e82-dcde-40a1-9d28-b8173f4d35b8",
   "metadata": {},
   "outputs": [
    {
     "data": {
      "text/plain": [
       "\"Sure, here's how you can create a `Shape` class and `Circle` and `Rectangle` classes that inherit from `Shape`:\\n\\n```python\\nimport math\\n\\nclass Shape:\\n    def area(self):\\n        pass\\n\\nclass Circle(Shape):\\n    def __init__(self, radius):\\n        self.radius = radius\\n\\n    def area(self):\\n        return math.pi * (self.radius ** 2)\\n\\nclass Rectangle(Shape):\\n    def __init__(self, length, width):\\n        self.length = length\\n        self.width = width\\n\\n    def area(self):\\n        return self.length * self.width\\n```\\n\\nIn this code, `Shape` is the parent class with a method `area()`. `Circle` and `Rectangle` are child classes that inherit from `Shape` and implement the `area()` method.\\n\\nYou can use these classes like this:\\n\\n```python\\nc = Circle(5)\\nr = Rectangle(4, 6)\\n\\nprint(c.area())  # Output: 78.53981633974483\\nprint(r.area())  # Output: 24\\n```\\n\\nIn this example, `c` is an instance of the `Circle` class with a radius of 5, and `r` is an instance of the `Rectangle` class with a length of 4 and a width of 6. The `area()` method is called on both `c` and `r` to calculate and print the area of the circle and the rectangle, respectively.\""
      ]
     },
     "execution_count": 67,
     "metadata": {},
     "output_type": "execute_result"
    }
   ],
   "source": [
    "'''Sure, here's how you can create a `Shape` class and `Circle` and `Rectangle` classes that inherit from `Shape`:\n",
    "\n",
    "```python\n",
    "import math\n",
    "\n",
    "class Shape:\n",
    "    def area(self):\n",
    "        pass\n",
    "\n",
    "class Circle(Shape):\n",
    "    def __init__(self, radius):\n",
    "        self.radius = radius\n",
    "\n",
    "    def area(self):\n",
    "        return math.pi * (self.radius ** 2)\n",
    "\n",
    "class Rectangle(Shape):\n",
    "    def __init__(self, length, width):\n",
    "        self.length = length\n",
    "        self.width = width\n",
    "\n",
    "    def area(self):\n",
    "        return self.length * self.width\n",
    "```\n",
    "\n",
    "In this code, `Shape` is the parent class with a method `area()`. `Circle` and `Rectangle` are child classes that inherit from `Shape` and implement the `area()` method.\n",
    "\n",
    "You can use these classes like this:\n",
    "\n",
    "```python\n",
    "c = Circle(5)\n",
    "r = Rectangle(4, 6)\n",
    "\n",
    "print(c.area())  # Output: 78.53981633974483\n",
    "print(r.area())  # Output: 24\n",
    "```\n",
    "\n",
    "In this example, `c` is an instance of the `Circle` class with a radius of 5, and `r` is an instance of the `Rectangle` class with a length of 4 and a width of 6. The `area()` method is called on both `c` and `r` to calculate and print the area of the circle and the rectangle, respectively.'''"
   ]
  },
  {
   "cell_type": "code",
   "execution_count": 68,
   "id": "d859f104-9137-4571-81f4-49dfd68a5c3f",
   "metadata": {},
   "outputs": [],
   "source": [
    "#12. Explain the use of abstract base classes (ABCs) in Python and how they relate to inheritance. Provide an example using the `abc` module."
   ]
  },
  {
   "cell_type": "code",
   "execution_count": 69,
   "id": "00a7283f-ecc1-428d-bb5e-dba78a35be33",
   "metadata": {},
   "outputs": [
    {
     "data": {
      "text/plain": [
       "'Abstract Base Classes (ABCs) in Python are a form of interface checking more strict than individual `hasattr` checks for particular methods. By defining an abstract base class, you can define a common API for a set of subclasses. This capability is especially useful in situations where a class is designed to be subclassed.\\n\\nAn abstract base class can be created by simply deriving from `ABC` which is provided by the `abc` module. The `abc` module also provides the `ABCMeta` metaclass for defining ABCs. Every abstract class must use `ABCMeta` metaclass.\\n\\nHere\\'s an example of how to use the `abc` module to create an abstract base class and a subclass:\\n\\n```python\\nfrom abc import ABC, abstractmethod\\n\\nclass AbstractClassExample(ABC):\\n    @abstractmethod\\n    def do_something(self):\\n        pass\\n\\nclass AnotherSubclass(AbstractClassExample):\\n    def do_something(self):\\n        super().do_something()\\n        print(\"The subclass is doing something\")\\n\\nx = AnotherSubclass()\\nx.do_something()\\n```\\n\\nIn this example, `AbstractClassExample` is an abstract base class that declares the abstract method `do_something()`. `AnotherSubclass` is a subclass that inherits from `AbstractClassExample` and provides an implementation of `do_something()`.\\n\\nThe `abstractmethod` decorator indicates that the method must be implemented in any non-abstract child class². If you create a subclass that does not override all abstract methods, Python will raise a `TypeError` when you try to create an instance of that subclass.\\n\\nAbstract base classes are a key part of the inheritance concept in Python, allowing for polymorphism and providing a way to define interfaces'"
      ]
     },
     "execution_count": 69,
     "metadata": {},
     "output_type": "execute_result"
    }
   ],
   "source": [
    "'''Abstract Base Classes (ABCs) in Python are a form of interface checking more strict than individual `hasattr` checks for particular methods. By defining an abstract base class, you can define a common API for a set of subclasses. This capability is especially useful in situations where a class is designed to be subclassed.\n",
    "\n",
    "An abstract base class can be created by simply deriving from `ABC` which is provided by the `abc` module. The `abc` module also provides the `ABCMeta` metaclass for defining ABCs. Every abstract class must use `ABCMeta` metaclass.\n",
    "\n",
    "Here's an example of how to use the `abc` module to create an abstract base class and a subclass:\n",
    "\n",
    "```python\n",
    "from abc import ABC, abstractmethod\n",
    "\n",
    "class AbstractClassExample(ABC):\n",
    "    @abstractmethod\n",
    "    def do_something(self):\n",
    "        pass\n",
    "\n",
    "class AnotherSubclass(AbstractClassExample):\n",
    "    def do_something(self):\n",
    "        super().do_something()\n",
    "        print(\"The subclass is doing something\")\n",
    "\n",
    "x = AnotherSubclass()\n",
    "x.do_something()\n",
    "```\n",
    "\n",
    "In this example, `AbstractClassExample` is an abstract base class that declares the abstract method `do_something()`. `AnotherSubclass` is a subclass that inherits from `AbstractClassExample` and provides an implementation of `do_something()`.\n",
    "\n",
    "The `abstractmethod` decorator indicates that the method must be implemented in any non-abstract child class². If you create a subclass that does not override all abstract methods, Python will raise a `TypeError` when you try to create an instance of that subclass.\n",
    "\n",
    "Abstract base classes are a key part of the inheritance concept in Python, allowing for polymorphism and providing a way to define interfaces'''"
   ]
  },
  {
   "cell_type": "code",
   "execution_count": 70,
   "id": "e091cb8f-99a4-4660-96aa-23739c115e52",
   "metadata": {},
   "outputs": [],
   "source": [
    "#13. How can you prevent a child class from modifying certain attributes or methods inherited from a parent class in Python?"
   ]
  },
  {
   "cell_type": "code",
   "execution_count": null,
   "id": "7c7be78f-b55f-4575-be43-b066b013e8b0",
   "metadata": {},
   "outputs": [],
   "source": [
    "'''In Python, all attributes and methods of a parent class are accessible in its child classes. However, there are a few ways to control the visibility of certain attributes or methods:\n",
    "\n",
    "1. **Name Mangling**: You can prefix the attribute name with double underscores (`__`). This triggers Python's name mangling, which changes the name of the attribute in a way that makes it harder (but not impossible) to access outside the class. Here's an example:\n",
    "\n",
    "    ```python\n",
    "    class Parent:\n",
    "        def __init__(self):\n",
    "            self.__secret = \"This is a secret attribute\"\n",
    "\n",
    "    class Child(Parent):\n",
    "        pass\n",
    "\n",
    "    c = Child()\n",
    "    print(c.__secret)  # This will raise an AttributeError\n",
    "    ```\n",
    "\n",
    "    In this example, the `__secret` attribute is not directly accessible in the `Child` class.\n",
    "\n",
    "2. **Overriding Methods**: If you want to prevent a child class from modifying a method, you can override the method in the child class and raise an exception. Here's an example:\n",
    "\n",
    "    ```python\n",
    "    class Parent:\n",
    "        def important_method(self):\n",
    "            return \"This is an important method\"\n",
    "\n",
    "    class Child(Parent):\n",
    "        def important_method(self):\n",
    "            raise AttributeError(\"This method cannot be modified\")\n",
    "\n",
    "    c = Child()\n",
    "    print(c.important_method())  # This will raise an AttributeError\n",
    "    ```\n",
    "\n",
    "    In this example, the `important_method` is not modifiable in the `Child` class.\n",
    "\n",
    "Remember, Python follows the philosophy of \"we're all consenting adults here\", meaning it trusts its users to not misuse its features. So while you can make it harder to access or modify certain attributes or methods, you can't completely prevent it'''"
   ]
  },
  {
   "cell_type": "code",
   "execution_count": 71,
   "id": "d2e65693-12f6-4526-abd5-0fadd19b31d6",
   "metadata": {},
   "outputs": [],
   "source": [
    "#14. Create a Python class called `Employee` with attributes `name` and `salary`. Then, create a child class`Manager` that inherits from `Employee` and adds an attribute `department`. Provide an example."
   ]
  },
  {
   "cell_type": "code",
   "execution_count": null,
   "id": "7a31bc40-c656-476c-a944-6f6507e4e2e0",
   "metadata": {},
   "outputs": [],
   "source": [
    "'''Sure, here's how you can create an `Employee` class and a `Manager` class that inherits from `Employee`:\n",
    "\n",
    "```python\n",
    "class Employee:\n",
    "    def __init__(self, name, salary):\n",
    "        self.name = name\n",
    "        self.salary = salary\n",
    "\n",
    "class Manager(Employee):\n",
    "    def __init__(self, name, salary, department):\n",
    "        super().__init__(name, salary)\n",
    "        self.department = department\n",
    "```\n",
    "\n",
    "In this code, `Employee` is the parent class with attributes `name` and `salary`. `Manager` is a child class that inherits from `Employee` and adds an additional attribute `department`.\n",
    "\n",
    "You can create a `Manager` object like this:\n",
    "\n",
    "```python\n",
    "m = Manager(\"John Doe\", 50000, \"Sales\")\n",
    "print(m.name)  # Output: John Doe\n",
    "print(m.salary)  # Output: 50000\n",
    "print(m.department)  # Output: Sales\n",
    "```\n",
    "\n",
    "In this example, `m` is an instance of the `Manager` class with a name of \"John Doe\", a salary of 50000, and a department of \"Sales\". The `print` statements display the attributes of the `m` object'''"
   ]
  },
  {
   "cell_type": "code",
   "execution_count": 72,
   "id": "1064353f-70b3-4301-ad9d-9b314f2aeb80",
   "metadata": {},
   "outputs": [],
   "source": [
    "#15 Discuss the concept of method overloading in Python inheritance. How does it differ from method overriding?"
   ]
  },
  {
   "cell_type": "code",
   "execution_count": 73,
   "id": "d69597c5-1d6b-4311-bfe9-ee08d10a9980",
   "metadata": {},
   "outputs": [
    {
     "data": {
      "text/plain": [
       "'**Method Overloading**:\\nIn many object-oriented programming languages, method overloading is a feature that allows a class to have multiple methods with the same name but different parameters⁵. However, Python does not support method overloading in the traditional sense. When we define a method with the same name as an already existing method, Python replaces the old method with the new method. \\nHere\\'s an example:\\n\\n```python\\ndef add(datatype, *args):\\n    if datatype ==\\'int\\':\\n        answer = 0\\n    if datatype ==\\'str\\':\\n        answer =\\'\\'\\n    for x in args:\\n        answer = answer + x\\n    print(answer)\\n\\nadd(\\'int\\', 5, 6)\\nadd(\\'str\\', \\'Hi \\', \\'Geeks\\')\\n```\\nIn this example, the `add` method can take different numbers and types of arguments depending on the `datatype` parameter⁵.\\n\\n**Method Overriding**:\\nMethod overriding, on the other hand, is a feature of object-oriented programming that allows a subclass to provide a different implementation of a method that is already defined in its superclass. It is used to change the behavior of existing methods. Here\\'s an example:\\n\\n```python\\nclass Animal:\\n    def speak(self):\\n        print(\"Animal Speaking!\")\\n\\nclass Dog(Animal):\\n    def speak(self):\\n        print(\"Dog barking!\")\\n\\nobj = Dog()\\nobj.speak()  # Output: Dog barking!\\n```\\nIn this example, the `Dog` class overrides the `speak` method of the `Animal` class.\\n\\n**Differences between Method Overloading and Method Overriding**:\\n1. **Parameters**: In method overloading, methods must have the same name but different parameters. In method overriding, methods must have the same name and same parameters.\\n2. **Polymorphism**: Method overloading is a form of compile-time polymorphism, while method overriding is a form of run-time polymorphism.\\n3. **Inheritance**: Method overloading can be performed within a single class and does not require inheritance. Method overriding, on the other hand, requires inheritance as it is done between parent class and child class methods.\\n4. **Purpose**: Method overloading is used to add more to the behavior of methods, while method overriding is used to change the behavior of existing methods.\\n5. **Support in Python**: Python does not support method overloading natively, but it does support method overriding.'"
      ]
     },
     "execution_count": 73,
     "metadata": {},
     "output_type": "execute_result"
    }
   ],
   "source": [
    "'''**Method Overloading**:\n",
    "In many object-oriented programming languages, method overloading is a feature that allows a class to have multiple methods with the same name but different parameters⁵. However, Python does not support method overloading in the traditional sense. When we define a method with the same name as an already existing method, Python replaces the old method with the new method. \n",
    "Here's an example:\n",
    "\n",
    "```python\n",
    "def add(datatype, *args):\n",
    "    if datatype =='int':\n",
    "        answer = 0\n",
    "    if datatype =='str':\n",
    "        answer =''\n",
    "    for x in args:\n",
    "        answer = answer + x\n",
    "    print(answer)\n",
    "\n",
    "add('int', 5, 6)\n",
    "add('str', 'Hi ', 'Geeks')\n",
    "```\n",
    "In this example, the `add` method can take different numbers and types of arguments depending on the `datatype` parameter⁵.\n",
    "\n",
    "**Method Overriding**:\n",
    "Method overriding, on the other hand, is a feature of object-oriented programming that allows a subclass to provide a different implementation of a method that is already defined in its superclass. It is used to change the behavior of existing methods. Here's an example:\n",
    "\n",
    "```python\n",
    "class Animal:\n",
    "    def speak(self):\n",
    "        print(\"Animal Speaking!\")\n",
    "\n",
    "class Dog(Animal):\n",
    "    def speak(self):\n",
    "        print(\"Dog barking!\")\n",
    "\n",
    "obj = Dog()\n",
    "obj.speak()  # Output: Dog barking!\n",
    "```\n",
    "In this example, the `Dog` class overrides the `speak` method of the `Animal` class.\n",
    "\n",
    "**Differences between Method Overloading and Method Overriding**:\n",
    "1. **Parameters**: In method overloading, methods must have the same name but different parameters. In method overriding, methods must have the same name and same parameters.\n",
    "2. **Polymorphism**: Method overloading is a form of compile-time polymorphism, while method overriding is a form of run-time polymorphism.\n",
    "3. **Inheritance**: Method overloading can be performed within a single class and does not require inheritance. Method overriding, on the other hand, requires inheritance as it is done between parent class and child class methods.\n",
    "4. **Purpose**: Method overloading is used to add more to the behavior of methods, while method overriding is used to change the behavior of existing methods.\n",
    "5. **Support in Python**: Python does not support method overloading natively, but it does support method overriding.'''\n"
   ]
  },
  {
   "cell_type": "code",
   "execution_count": 74,
   "id": "6b6fc75c-2fda-4f2b-9c98-b8c7fa3d5d68",
   "metadata": {},
   "outputs": [],
   "source": [
    "#16. Explain the purpose of the `__init__()` method in Python inheritance and how it is utilized in child classes."
   ]
  },
  {
   "cell_type": "code",
   "execution_count": 75,
   "id": "b6655c16-c212-4d50-aa86-920f1564b158",
   "metadata": {},
   "outputs": [
    {
     "data": {
      "text/plain": [
       "'In Python, the `__init__()` method is a special method used to initialize objects of a class. It\\'s also called a constructor. The task of constructors is to initialize (assign values) to the data members of the class when an object of the class is created. It is run as soon as an object of a class is instantiated.\\nIn the context of inheritance, the `__init__()` method of a parent class is automatically called when an object of a child class is created, unless the child class overrides this method. If a child class overrides the `__init__()` method and still wants to call the parent class\\'s `__init__()` method, it can do so using the `super()` function.\\n\\nHere\\'s an example:\\n\\n```python\\nclass Parent:\\n    def __init__(self):\\n        print(\"Parent class constructor called\")\\n\\nclass Child(Parent):\\n    def __init__(self):\\n        super().__init__()\\n        print(\"Child class constructor called\")\\n\\nc = Child()\\n```\\n\\nIn this example, the `Child` class overrides the `__init__()` method of the `Parent` class, but it still calls the `Parent` constructor using `super().__init__()`. The output of this code will be:\\n\\n```\\nParent class constructor called\\nChild class constructor called\\n```\\n\\nThis shows that the parent class constructor is called first, followed by the child class constructor. However, in Python, it is not compulsory that the parent class constructor will always be called first. The order in which the `__init__()` method is called for a parent or a child class can be modified. This can simply be done by calling the parent class constructor after the body of the child class constructor.'"
      ]
     },
     "execution_count": 75,
     "metadata": {},
     "output_type": "execute_result"
    }
   ],
   "source": [
    "'''In Python, the `__init__()` method is a special method used to initialize objects of a class. It's also called a constructor. The task of constructors is to initialize (assign values) to the data members of the class when an object of the class is created. It is run as soon as an object of a class is instantiated.\n",
    "In the context of inheritance, the `__init__()` method of a parent class is automatically called when an object of a child class is created, unless the child class overrides this method. If a child class overrides the `__init__()` method and still wants to call the parent class's `__init__()` method, it can do so using the `super()` function.\n",
    "\n",
    "Here's an example:\n",
    "\n",
    "```python\n",
    "class Parent:\n",
    "    def __init__(self):\n",
    "        print(\"Parent class constructor called\")\n",
    "\n",
    "class Child(Parent):\n",
    "    def __init__(self):\n",
    "        super().__init__()\n",
    "        print(\"Child class constructor called\")\n",
    "\n",
    "c = Child()\n",
    "```\n",
    "\n",
    "In this example, the `Child` class overrides the `__init__()` method of the `Parent` class, but it still calls the `Parent` constructor using `super().__init__()`. The output of this code will be:\n",
    "\n",
    "```\n",
    "Parent class constructor called\n",
    "Child class constructor called\n",
    "```\n",
    "\n",
    "This shows that the parent class constructor is called first, followed by the child class constructor. However, in Python, it is not compulsory that the parent class constructor will always be called first. The order in which the `__init__()` method is called for a parent or a child class can be modified. This can simply be done by calling the parent class constructor after the body of the child class constructor.'''"
   ]
  },
  {
   "cell_type": "code",
   "execution_count": 76,
   "id": "6a22c41f-8742-44f4-8e1b-392aad65b703",
   "metadata": {},
   "outputs": [],
   "source": [
    "#17. Create a Python class called `Bird` with a method `fly()`. Then, create child classes `Eagle` and `Sparrow` that inherit from `Bird` and implement the `fly()` method differently. Provide an example of using these classes."
   ]
  },
  {
   "cell_type": "code",
   "execution_count": 77,
   "id": "c6cf4f4b-c45a-480e-a3b9-6df190dfa02c",
   "metadata": {},
   "outputs": [
    {
     "data": {
      "text/plain": [
       "'Sure, here\\'s how you can create a `Bird` class and `Eagle` and `Sparrow` classes that inherit from `Bird`:\\n\\n```python\\nclass Bird:\\n    def fly(self):\\n        pass\\n\\nclass Eagle(Bird):\\n    def fly(self):\\n        return \"Eagle soars high in the sky!\"\\n\\nclass Sparrow(Bird):\\n    def fly(self):\\n        return \"Sparrow flutters around!\"\\n\\n# Create instances of Eagle and Sparrow\\ne = Eagle()\\ns = Sparrow()\\n\\n# Call the fly method\\nprint(e.fly())  # Output: Eagle soars high in the sky!\\nprint(s.fly())  # Output: Sparrow flutters around!\\n```\\n\\nIn this code, `Bird` is the parent class with a method `fly()`. `Eagle` and `Sparrow` are child classes that inherit from `Bird` and implement the `fly()` method differently. When `fly()` is called on an `Eagle` object, it returns \"Eagle soars high in the sky!\", and when `fly()` is called on a `Sparrow` object, it returns \"Sparrow flutters around!\",'"
      ]
     },
     "execution_count": 77,
     "metadata": {},
     "output_type": "execute_result"
    }
   ],
   "source": [
    "'''Sure, here's how you can create a `Bird` class and `Eagle` and `Sparrow` classes that inherit from `Bird`:\n",
    "\n",
    "```python\n",
    "class Bird:\n",
    "    def fly(self):\n",
    "        pass\n",
    "\n",
    "class Eagle(Bird):\n",
    "    def fly(self):\n",
    "        return \"Eagle soars high in the sky!\"\n",
    "\n",
    "class Sparrow(Bird):\n",
    "    def fly(self):\n",
    "        return \"Sparrow flutters around!\"\n",
    "\n",
    "# Create instances of Eagle and Sparrow\n",
    "e = Eagle()\n",
    "s = Sparrow()\n",
    "\n",
    "# Call the fly method\n",
    "print(e.fly())  # Output: Eagle soars high in the sky!\n",
    "print(s.fly())  # Output: Sparrow flutters around!\n",
    "```\n",
    "\n",
    "In this code, `Bird` is the parent class with a method `fly()`. `Eagle` and `Sparrow` are child classes that inherit from `Bird` and implement the `fly()` method differently. When `fly()` is called on an `Eagle` object, it returns \"Eagle soars high in the sky!\", and when `fly()` is called on a `Sparrow` object, it returns \"Sparrow flutters around!\",'''"
   ]
  },
  {
   "cell_type": "code",
   "execution_count": 78,
   "id": "299f8170-3523-4341-8e86-58d9f8aff9f1",
   "metadata": {},
   "outputs": [],
   "source": [
    "#18 What is the \"diamond problem\" in multiple inheritance, and how does Python address it?"
   ]
  },
  {
   "cell_type": "code",
   "execution_count": 75,
   "id": "64250473-bc25-47ae-92f9-e15bc35ee27f",
   "metadata": {},
   "outputs": [
    {
     "data": {
      "text/plain": [
       "'The \"diamond problem\" is a common issue that arises in multiple inheritance. It refers to an ambiguity that occurs when a class inherits from two or more classes that have a common superclass. If there is a method that is overridden in one or both of the parent classes, then it\\'s unclear which version of the method the subclass should inherit.\\n\\nHere\\'s a simple illustration of the diamond problem:\\n\\n```python\\nclass Class1:\\n    def m(self):\\n        print(\"In Class1\")\\n\\nclass Class2(Class1):\\n    def m(self):\\n        print(\"In Class2\")\\n\\nclass Class3(Class1):\\n    def m(self):\\n        print(\"In Class3\")\\n\\nclass Class4(Class2, Class3):\\n    pass\\n\\nobj = Class4()\\nobj.m()  # Which `m` should be called?\\n```\\n\\nIn this example, both `Class2` and `Class3` override the `m` method from `Class1`, and `Class4` inherits from both `Class2` and `Class3`. So, it\\'s ambiguous which `m` method `Class4` should inherit¹.\\n\\nPython addresses the diamond problem through the Method Resolution Order (MRO). The MRO determines the order in which the base classes are searched when executing a method¹²³⁴. Python\\'s MRO follows the C3 linearization or just \"C3\" which ensures that the child classes are checked before parent classes, and also preserves the order of the classes in the inheritance list.\\n\\nIn the above example, when you call `obj.m()`, the output is \"In Class2\" because `Class2` is listed before `Class3` in the inheritance list of `Class4. If `Class4` is declared as `Class4(Class3, Class2)`, then the output of `obj.m()` will be \"In Class3\". This shows how Python\\'s MRO resolves the diamond problem.'"
      ]
     },
     "execution_count": 75,
     "metadata": {},
     "output_type": "execute_result"
    }
   ],
   "source": [
    "'''The \"diamond problem\" is a common issue that arises in multiple inheritance. It refers to an ambiguity that occurs when a class inherits from two or more classes that have a common superclass. If there is a method that is overridden in one or both of the parent classes, then it's unclear which version of the method the subclass should inherit.\n",
    "\n",
    "Here's a simple illustration of the diamond problem:\n",
    "\n",
    "```python\n",
    "class Class1:\n",
    "    def m(self):\n",
    "        print(\"In Class1\")\n",
    "\n",
    "class Class2(Class1):\n",
    "    def m(self):\n",
    "        print(\"In Class2\")\n",
    "\n",
    "class Class3(Class1):\n",
    "    def m(self):\n",
    "        print(\"In Class3\")\n",
    "\n",
    "class Class4(Class2, Class3):\n",
    "    pass\n",
    "\n",
    "obj = Class4()\n",
    "obj.m()  # Which `m` should be called?\n",
    "```\n",
    "\n",
    "In this example, both `Class2` and `Class3` override the `m` method from `Class1`, and `Class4` inherits from both `Class2` and `Class3`. So, it's ambiguous which `m` method `Class4` should inherit¹.\n",
    "\n",
    "Python addresses the diamond problem through the Method Resolution Order (MRO). The MRO determines the order in which the base classes are searched when executing a method. Python's MRO follows the C3 linearization or just \"C3\" which ensures that the child classes are checked before parent classes, and also preserves the order of the classes in the inheritance list.\n",
    "\n",
    "In the above example, when you call `obj.m()`, the output is \"In Class2\" because `Class2` is listed before `Class3` in the inheritance list of `Class4. If `Class4` is declared as `Class4(Class3, Class2)`, then the output of `obj.m()` will be \"In Class3\". This shows how Python's MRO resolves the diamond problem.'''"
   ]
  },
  {
   "cell_type": "code",
   "execution_count": 79,
   "id": "654fc7dc-a95a-4c7f-a01e-893614b33a78",
   "metadata": {},
   "outputs": [],
   "source": [
    "#19. Discuss the concept of \"is-a\" and \"has-a\" relationships in inheritance, and provide examples of each."
   ]
  },
  {
   "cell_type": "code",
   "execution_count": null,
   "id": "7d3357f2-f2c6-4a3e-b2db-6d52738b6eee",
   "metadata": {},
   "outputs": [],
   "source": [
    "'''Sure, let's discuss these two fundamental concepts in object-oriented programming:\n",
    "1. **Is-A Relationship (Inheritance)**: The \"is-a\" relationship is based on inheritance, which is a mechanism that allows one class to inherit properties from another class. This relationship is also known as an inheritance or \"is-a\" relationship because it represents a parent-child relationship between classes. For example, if you have a `Bird` class (parent) and a `Sparrow` class (child), the `Sparrow` class is a `Bird`, so there's an \"is-a\" relationship between them³.\n",
    "\n",
    "    Here's a Python example of an \"is-a\" relationship:\n",
    "\n",
    "    ```python\n",
    "    class Bird:\n",
    "        def fly(self):\n",
    "            print(\"Bird is flying\")\n",
    "\n",
    "    class Sparrow(Bird):\n",
    "        pass\n",
    "\n",
    "    s = Sparrow()\n",
    "    s.fly()  # Output: Bird is flying\n",
    "    ```\n",
    "\n",
    "    In this example, `Sparrow` is a subclass of `Bird`, so it inherits the `fly` method from `Bird`²⁴.\n",
    "\n",
    "2. **Has-A Relationship (Composition)**: The \"has-a\" relationship is based on composition, which is a concept that models a relationship between two classes where one contains an instance of another¹². This relationship is also known as a composition or \"has-a\" relationship¹². For example, a `Car` class might have a `Engine` class, so there's a \"has-a\" relationship between them.\n",
    "Here's a Python example of a \"has-a\" relationship:\n",
    "\n",
    "    ```python\n",
    "    class Engine:\n",
    "        def start(self):\n",
    "            print(\"Engine started\")\n",
    "\n",
    "    class Car:\n",
    "        def __init__(self):\n",
    "            self.engine = Engine()\n",
    "\n",
    "        def start_engine(self):\n",
    "            self.engine.start()\n",
    "\n",
    "    c = Car()\n",
    "    c.start_engine()  # Output: Engine started\n",
    "    ```\n",
    "\n",
    "    In this example, `Car` has an instance of `Engine`, so it has a \"has-a\" relationship with `Engine`¹.\n",
    "\n",
    "These two types of relationships are fundamental to object-oriented programming and allow for flexible and reusable code'''"
   ]
  },
  {
   "cell_type": "code",
   "execution_count": 80,
   "id": "2344a58f-fa8a-45ee-ab44-33807e788f35",
   "metadata": {},
   "outputs": [],
   "source": [
    "#20. Create a Python class hierarchy for a university system. Start with a base class `Person` and create child classes `Student` and `Professor`, each with their own attributes and methods. Provide an example of using these classes in a university context."
   ]
  },
  {
   "cell_type": "code",
   "execution_count": 81,
   "id": "aae44a3a-2ca0-418c-88af-198b1e577edb",
   "metadata": {},
   "outputs": [
    {
     "data": {
      "text/plain": [
       "'Sure, here\\'s a simple Python class hierarchy for a university system:\\n\\n```python\\nclass Person:\\n    def __init__(self, name, age):\\n        self.name = name\\n        self.age = age\\n\\nclass Student(Person):\\n    def __init__(self, name, age, student_id):\\n        super().__init__(name, age)\\n        self.student_id = student_id\\n\\n    def study(self, course):\\n        return f\"{self.name} is studying {course}\"\\n\\nclass Professor(Person):\\n    def __init__(self, name, age, department):\\n        super().__init__(name, age)\\n        self.department = department\\n\\n    def teach(self, course):\\n        return f\"Professor {self.name} is teaching {course}\"\\n```\\n\\nIn this code, `Person` is the base class with attributes `name` and `age`. `Student` and `Professor` are child classes that inherit from `Person` and add their own attributes and methods.\\n\\nYou can use these classes in a university context like this:\\n\\n```python\\ns = Student(\"John Doe\", 20, \"123456\")\\np = Professor(\"Jane Smith\", 45, \"Computer Science\")\\n\\nprint(s.study(\"Python Programming\"))  # Output: John Doe is studying Python Programming\\nprint(p.teach(\"Data Structures\"))  # Output: Professor Jane Smith is teaching Data Structures\\n```\\n\\nIn this example, `s` is an instance of the `Student` class and `p` is an instance of the `Professor` class. The `study` method is called on `s` and the `teach` method is called on `p`, simulating a typical university scenario. '"
      ]
     },
     "execution_count": 81,
     "metadata": {},
     "output_type": "execute_result"
    }
   ],
   "source": [
    "'''Sure, here's a simple Python class hierarchy for a university system:\n",
    "\n",
    "```python\n",
    "class Person:\n",
    "    def __init__(self, name, age):\n",
    "        self.name = name\n",
    "        self.age = age\n",
    "\n",
    "class Student(Person):\n",
    "    def __init__(self, name, age, student_id):\n",
    "        super().__init__(name, age)\n",
    "        self.student_id = student_id\n",
    "\n",
    "    def study(self, course):\n",
    "        return f\"{self.name} is studying {course}\"\n",
    "\n",
    "class Professor(Person):\n",
    "    def __init__(self, name, age, department):\n",
    "        super().__init__(name, age)\n",
    "        self.department = department\n",
    "\n",
    "    def teach(self, course):\n",
    "        return f\"Professor {self.name} is teaching {course}\"\n",
    "```\n",
    "\n",
    "In this code, `Person` is the base class with attributes `name` and `age`. `Student` and `Professor` are child classes that inherit from `Person` and add their own attributes and methods.\n",
    "\n",
    "You can use these classes in a university context like this:\n",
    "\n",
    "```python\n",
    "s = Student(\"John Doe\", 20, \"123456\")\n",
    "p = Professor(\"Jane Smith\", 45, \"Computer Science\")\n",
    "\n",
    "print(s.study(\"Python Programming\"))  # Output: John Doe is studying Python Programming\n",
    "print(p.teach(\"Data Structures\"))  # Output: Professor Jane Smith is teaching Data Structures\n",
    "```\n",
    "\n",
    "In this example, `s` is an instance of the `Student` class and `p` is an instance of the `Professor` class. The `study` method is called on `s` and the `teach` method is called on `p`, simulating a typical university scenario. '''"
   ]
  },
  {
   "cell_type": "code",
   "execution_count": 82,
   "id": "c2e79adb-1829-49e6-acc4-72417ec026b1",
   "metadata": {},
   "outputs": [],
   "source": [
    "#Encapsulation:\n",
    "#1 Explain the concept of encapsulation in Python. What is its role in object-oriented programming?"
   ]
  },
  {
   "cell_type": "code",
   "execution_count": 90,
   "id": "109e09c4-d189-42ae-a351-90103c11778f",
   "metadata": {},
   "outputs": [
    {
     "data": {
      "text/plain": [
       "'Encapsulation is one of the fundamental concepts in object-oriented programming (OOP)¹²³⁴. It refers to the bundling of data with the methods that operate on that data within one unit¹²³⁴. This concept is used to hide the values or state of a structured data object inside a class, preventing unauthorized parties\\' direct access to them.\\n\\nIn Python, encapsulation is achieved by declaring the instance variables of a class as private, which means they can only be accessed within the class. To allow outside access to the instance variables, public methods called getters and setters are defined, which are used to retrieve and modify the values of the instance variables, respectively². By using getters and setters, the class can enforce its own data validation rules and ensure that its internal state remains consistent².\\n\\nHere\\'s an example of encapsulation in Python:\\n\\n```python\\nclass Person:\\n    def __init__(self, name, age):\\n        self.__name = name\\n        self.__age = age\\n\\n    def get_name(self):\\n        return self.__name\\n\\n    def set_name(self, name):\\n        self.__name = name\\n\\n    def get_age(self):\\n        return self.__age\\n\\n    def set_age(self, age):\\n        self.__age = age\\n```\\n\\nIn this example, `Person` is a class with private attributes `__name` and `__age`, and public getter and setter methods for these attributes.\\n\\nThe role of encapsulation in OOP includes:\\n\\n1. **Data Hiding**: Encapsulation provides a way to protect data from accidental modification by hiding the implementation details of a class from outside access.\\n2. **Increased Flexibility and Security**: Encapsulation allows the internal representation of an object to be changed without affecting the way objects interact with it.\\n3. **Modular Code**: Encapsulation makes the code more manageable and self-contained by bundling related data and functions together.\\n4. **Easier Debugging and Testing**: By limiting the scope of changes to a class, encapsulation makes it easier to debug and test the code.\\n5. **Control Over Data**: With encapsulation, a class has full control over what data gets stored. It can validate the data before storing it.\\n6. **Reusability**: Encapsulation enables the concept of \"data hiding,\" providing the objects with the ability to hide their data fields and prevent unauthorized access.\\n7. **Abstraction**: Encapsulation is a step towards object-oriented programming\\'s abstraction, which allows complex real-world problems to be broken down into simpler, manageable parts'"
      ]
     },
     "execution_count": 90,
     "metadata": {},
     "output_type": "execute_result"
    }
   ],
   "source": [
    "'''Encapsulation is one of the fundamental concepts in object-oriented programming (OOP)¹²³⁴. It refers to the bundling of data with the methods that operate on that data within one unit¹²³⁴. This concept is used to hide the values or state of a structured data object inside a class, preventing unauthorized parties' direct access to them.\n",
    "\n",
    "In Python, encapsulation is achieved by declaring the instance variables of a class as private, which means they can only be accessed within the class. To allow outside access to the instance variables, public methods called getters and setters are defined, which are used to retrieve and modify the values of the instance variables, respectively². By using getters and setters, the class can enforce its own data validation rules and ensure that its internal state remains consistent².\n",
    "\n",
    "Here's an example of encapsulation in Python:\n",
    "\n",
    "```python\n",
    "class Person:\n",
    "    def __init__(self, name, age):\n",
    "        self.__name = name\n",
    "        self.__age = age\n",
    "\n",
    "    def get_name(self):\n",
    "        return self.__name\n",
    "\n",
    "    def set_name(self, name):\n",
    "        self.__name = name\n",
    "\n",
    "    def get_age(self):\n",
    "        return self.__age\n",
    "\n",
    "    def set_age(self, age):\n",
    "        self.__age = age\n",
    "```\n",
    "\n",
    "In this example, `Person` is a class with private attributes `__name` and `__age`, and public getter and setter methods for these attributes.\n",
    "\n",
    "The role of encapsulation in OOP includes:\n",
    "\n",
    "1. **Data Hiding**: Encapsulation provides a way to protect data from accidental modification by hiding the implementation details of a class from outside access.\n",
    "2. **Increased Flexibility and Security**: Encapsulation allows the internal representation of an object to be changed without affecting the way objects interact with it.\n",
    "3. **Modular Code**: Encapsulation makes the code more manageable and self-contained by bundling related data and functions together.\n",
    "4. **Easier Debugging and Testing**: By limiting the scope of changes to a class, encapsulation makes it easier to debug and test the code.\n",
    "5. **Control Over Data**: With encapsulation, a class has full control over what data gets stored. It can validate the data before storing it.\n",
    "6. **Reusability**: Encapsulation enables the concept of \"data hiding,\" providing the objects with the ability to hide their data fields and prevent unauthorized access.\n",
    "7. **Abstraction**: Encapsulation is a step towards object-oriented programming's abstraction, which allows complex real-world problems to be broken down into simpler, manageable parts'''"
   ]
  },
  {
   "cell_type": "code",
   "execution_count": 91,
   "id": "156de4ca-0706-4419-a762-ad253f2f8116",
   "metadata": {},
   "outputs": [],
   "source": [
    "#2. Describe the key principles of encapsulation, including access control and data hiding."
   ]
  },
  {
   "cell_type": "code",
   "execution_count": 85,
   "id": "354f57c3-64d9-42b7-9861-23882461e2f4",
   "metadata": {},
   "outputs": [
    {
     "data": {
      "text/plain": [
       "'Encapsulation is a fundamental concept in object-oriented programming (OOP) that describes the idea of bundling data and the methods that work on data within one unit. It provides a way to protect data from accidental modification by hiding the implementation details of a class from outside access. This concept is used to hide the values or state of a structured data object inside a class, preventing unauthorized parties\\' direct access to them¹²³⁴.\\n\\nThe key principles of encapsulation are:\\n\\n1. **Data Hiding**: Data hiding is a concept which underlines the hiding of data or information from the user. It includes object details such as data members, internal work¹⁶. Data hiding excludes full data entry to class members and defends object integrity by preventing unintended changes¹⁶. Data hiding in Python is performed using the `__` double underscore before the attribute name. This makes the class members non-public and isolated from the other classes⁶.\\n\\n2. **Access Control**: Python provides access modifiers to control the visibility and accessibility of class attributes and methods. Although Python does not have strict access modifiers like some other languages (e.g., Java), it provides a convention to indicate the intended visibility of an attribute or method⁷. The access modifiers commonly used in Python are:\\n    - **Public (No underscore prefix)**: Public attributes and methods can be accessed from anywhere, both within and outside the class⁷.\\n    - **Protected (Single underscore prefix)**: Protected attributes and methods are intended to be accessed only from within the class and its subclasses⁷.\\n    - **Private (Double underscore prefix)**: Private attributes and methods are intended to be accessed only from within the class itself⁷.\\n\\nHere\\'s an example of encapsulation in Python:\\n\\n```python\\nclass BankAccount:\\n    def __init__(self, account_number, balance):\\n        self.__account_number = account_number\\n        self.__balance = balance\\n\\n    def get_account_number(self):\\n        return self.__account_number\\n\\n    def get_balance(self):\\n        return self.__balance\\n\\n    def deposit(self, amount):\\n        self.__balance += amount\\n\\n    def withdraw(self, amount):\\n        if self.__balance >= amount:\\n            self.__balance -= amount\\n        else:\\n            print(\"Insufficient balance!\")\\n```\\n\\nIn this example, the `BankAccount` class has two private (hidden) attributes - `__account_number` and `__balance`. These attributes can only be accessed through the public methods `get_account_number()` and `get_balance()`. Attempting to access them directly, like `bank_account.__balance`, will result in an error'"
      ]
     },
     "execution_count": 85,
     "metadata": {},
     "output_type": "execute_result"
    }
   ],
   "source": [
    "'''Encapsulation is a fundamental concept in object-oriented programming (OOP) that describes the idea of bundling data and the methods that work on data within one unit. It provides a way to protect data from accidental modification by hiding the implementation details of a class from outside access. This concept is used to hide the values or state of a structured data object inside a class, preventing unauthorized parties' direct access to them.\n",
    "\n",
    "The key principles of encapsulation are:\n",
    "\n",
    "1. **Data Hiding**: Data hiding is a concept which underlines the hiding of data or information from the user. It includes object details such as data members, internal work¹⁶. Data hiding excludes full data entry to class members and defends object integrity by preventing unintended changes¹⁶. Data hiding in Python is performed using the `__` double underscore before the attribute name. This makes the class members non-public and isolated from the other classes⁶.\n",
    "\n",
    "2. **Access Control**: Python provides access modifiers to control the visibility and accessibility of class attributes and methods. Although Python does not have strict access modifiers like some other languages (e.g., Java), it provides a convention to indicate the intended visibility of an attribute or method⁷. The access modifiers commonly used in Python are:\n",
    "    - **Public (No underscore prefix)**: Public attributes and methods can be accessed from anywhere, both within and outside the class⁷.\n",
    "    - **Protected (Single underscore prefix)**: Protected attributes and methods are intended to be accessed only from within the class and its subclasses⁷.\n",
    "    - **Private (Double underscore prefix)**: Private attributes and methods are intended to be accessed only from within the class itself⁷.\n",
    "\n",
    "Here's an example of encapsulation in Python:\n",
    "\n",
    "```python\n",
    "class BankAccount:\n",
    "    def __init__(self, account_number, balance):\n",
    "        self.__account_number = account_number\n",
    "        self.__balance = balance\n",
    "\n",
    "    def get_account_number(self):\n",
    "        return self.__account_number\n",
    "\n",
    "    def get_balance(self):\n",
    "        return self.__balance\n",
    "\n",
    "    def deposit(self, amount):\n",
    "        self.__balance += amount\n",
    "\n",
    "    def withdraw(self, amount):\n",
    "        if self.__balance >= amount:\n",
    "            self.__balance -= amount\n",
    "        else:\n",
    "            print(\"Insufficient balance!\")\n",
    "```\n",
    "\n",
    "In this example, the `BankAccount` class has two private (hidden) attributes - `__account_number` and `__balance`. These attributes can only be accessed through the public methods `get_account_number()` and `get_balance()`. Attempting to access them directly, like `bank_account.__balance`, will result in an error'''"
   ]
  },
  {
   "cell_type": "code",
   "execution_count": 86,
   "id": "fbc05b90-39fa-46b8-8da7-52bd98232b47",
   "metadata": {},
   "outputs": [],
   "source": [
    "#3How can you achieve encapsulation in Python classes? Provide an example."
   ]
  },
  {
   "cell_type": "code",
   "execution_count": 77,
   "id": "019d4240-b596-4943-aa95-f39c9966abc6",
   "metadata": {},
   "outputs": [
    {
     "data": {
      "text/plain": [
       "\"Encapsulation is a fundamental concept in object-oriented programming (OOP) that describes the idea of bundling data and the methods that work on data within one unit. It provides a way to protect data from accidental modification by hiding the implementation details of a class from outside access. This concept is used to hide the values or state of a structured data object inside a class, preventing unauthorized parties' direct access to them.\\nIn Python, encapsulation can be achieved by declaring the data members and methods of a class either as private or protected. But in Python, we don’t have direct access modifiers like public, private, and protected¹²³⁴. We can achieve this by using single underscore and double underscores.\\n\\nHere's an example of encapsulation in Python:\\n\\n```python\\nclass Employee:\\n    def __init__(self, name, salary):\\n        self.__name = name\\n        self.__salary = salary\\n\\n    def get_name(self):\\n        return self.__name\\n\\n    def set_name(self, name):\\n        self.__name = name\\n\\n    def get_salary(self):\\n        return self.__salary\\n\\n    def set_salary(self, salary):\\n        self.__salary = salary\\n```\\n\\nIn this example, the `Employee` class has two private attributes - `__name` and `__salary`. These attributes can only be accessed through the public methods `get_name()`, `set_name()`, `get_salary()`, and `set_salary()`. Attempting to access them directly, like `employee.__salary`, will result in an error\""
      ]
     },
     "execution_count": 77,
     "metadata": {},
     "output_type": "execute_result"
    }
   ],
   "source": [
    "'''Encapsulation is a fundamental concept in object-oriented programming (OOP) that describes the idea of bundling data and the methods that work on data within one unit. It provides a way to protect data from accidental modification by hiding the implementation details of a class from outside access. This concept is used to hide the values or state of a structured data object inside a class, preventing unauthorized parties' direct access to them.\n",
    "In Python, encapsulation can be achieved by declaring the data members and methods of a class either as private or protected. But in Python, we don’t have direct access modifiers like public, private, and protected¹²³⁴. We can achieve this by using single underscore and double underscores.\n",
    "\n",
    "Here's an example of encapsulation in Python:\n",
    "\n",
    "```python\n",
    "class Employee:\n",
    "    def __init__(self, name, salary):\n",
    "        self.__name = name\n",
    "        self.__salary = salary\n",
    "\n",
    "    def get_name(self):\n",
    "        return self.__name\n",
    "\n",
    "    def set_name(self, name):\n",
    "        self.__name = name\n",
    "\n",
    "    def get_salary(self):\n",
    "        return self.__salary\n",
    "\n",
    "    def set_salary(self, salary):\n",
    "        self.__salary = salary\n",
    "```\n",
    "\n",
    "In this example, the `Employee` class has two private attributes - `__name` and `__salary`. These attributes can only be accessed through the public methods `get_name()`, `set_name()`, `get_salary()`, and `set_salary()`. Attempting to access them directly, like `employee.__salary`, will result in an error'''"
   ]
  },
  {
   "cell_type": "code",
   "execution_count": 78,
   "id": "a06f7c3f-4650-425a-b0bd-7f67ead2e9fd",
   "metadata": {},
   "outputs": [],
   "source": [
    "#4.Discuss the difference between public, private, and protected access modifiers in Python."
   ]
  },
  {
   "cell_type": "code",
   "execution_count": 79,
   "id": "96ed2e5d-eb4d-4ef3-ba4d-3488f3565670",
   "metadata": {},
   "outputs": [
    {
     "data": {
      "text/plain": [
       "\"In Python, all members of a class are public by default. However, Python uses a convention to indicate the intended visibility of an attribute or method:\\n\\n1. **Public Members**: Public members are accessible from anywhere, both within and outside the class. They are declared by simply stating the variable or method name without any prefix. For example:\\n\\n    ```python\\n    class Student:\\n        schoolName = 'XYZ School'  # public class attribute\\n\\n        def __init__(self, name, age):\\n            self.name = name  # public instance attribute\\n            self.age = age  # public instance attribute\\n    ```\\n\\n2. **Protected Members**: Protected members are intended to be accessed only from within the class and its subclasses. They are declared by adding a single underscore `_` prefix before the variable or method name. For example:\\n\\n    ```python\\n    class Student:\\n        _schoolName = 'XYZ School'  # protected class attribute\\n\\n        def __init__(self, name, age):\\n            self._name = name  # protected instance attribute\\n            self._age = age  # protected instance attribute\\n    ```\\n\\n3. **Private Members**: Private members are intended to be accessed only from within the class itself. They are declared by adding a double underscore `__` prefix before the variable or method name. For example:\\n\\n    ```python\\n    class Student:\\n        __schoolName = 'XYZ School'  # private class attribute\\n\\n        def __init__(self, name, age):\\n            self.__name = name  # private instance attribute\\n            self.__age = age  # private instance attribute\\n    ```\\n\\nIt's important to note that Python's access control is not as strict as in some other languages (like Java or C++). The single and double underscore prefixes are more of a convention to indicate that a variable or method is intended for internal use within the class. They can still be accessed from outside the class, but doing so is generally discouraged\""
      ]
     },
     "execution_count": 79,
     "metadata": {},
     "output_type": "execute_result"
    }
   ],
   "source": [
    "'''In Python, all members of a class are public by default. However, Python uses a convention to indicate the intended visibility of an attribute or method:\n",
    "\n",
    "1. **Public Members**: Public members are accessible from anywhere, both within and outside the class. They are declared by simply stating the variable or method name without any prefix. For example:\n",
    "\n",
    "    ```python\n",
    "    class Student:\n",
    "        schoolName = 'XYZ School'  # public class attribute\n",
    "\n",
    "        def __init__(self, name, age):\n",
    "            self.name = name  # public instance attribute\n",
    "            self.age = age  # public instance attribute\n",
    "    ```\n",
    "\n",
    "2. **Protected Members**: Protected members are intended to be accessed only from within the class and its subclasses. They are declared by adding a single underscore `_` prefix before the variable or method name. For example:\n",
    "\n",
    "    ```python\n",
    "    class Student:\n",
    "        _schoolName = 'XYZ School'  # protected class attribute\n",
    "\n",
    "        def __init__(self, name, age):\n",
    "            self._name = name  # protected instance attribute\n",
    "            self._age = age  # protected instance attribute\n",
    "    ```\n",
    "\n",
    "3. **Private Members**: Private members are intended to be accessed only from within the class itself. They are declared by adding a double underscore `__` prefix before the variable or method name. For example:\n",
    "\n",
    "    ```python\n",
    "    class Student:\n",
    "        __schoolName = 'XYZ School'  # private class attribute\n",
    "\n",
    "        def __init__(self, name, age):\n",
    "            self.__name = name  # private instance attribute\n",
    "            self.__age = age  # private instance attribute\n",
    "    ```\n",
    "\n",
    "It's important to note that Python's access control is not as strict as in some other languages (like Java or C++). The single and double underscore prefixes are more of a convention to indicate that a variable or method is intended for internal use within the class. They can still be accessed from outside the class, but doing so is generally discouraged'''"
   ]
  },
  {
   "cell_type": "code",
   "execution_count": 80,
   "id": "54a067f4-7c76-4a5f-8909-cda218eab3a7",
   "metadata": {},
   "outputs": [],
   "source": [
    "#5. Create a Python class called `Person` with a private attribute `__name`. Provide methods to get and set the name attribute."
   ]
  },
  {
   "cell_type": "code",
   "execution_count": 81,
   "id": "e3c97a25-3d84-4f67-883e-076aaac52334",
   "metadata": {},
   "outputs": [
    {
     "data": {
      "text/plain": [
       "'Sure, here\\'s how you can create a `Person` class with a private attribute `__name` and provide methods to get and set the `name` attribute:\\n\\n```python\\nclass Person:\\n    def __init__(self, name):\\n        self.__name = name\\n\\n    def get_name(self):\\n        return self.__name\\n\\n    def set_name(self, name):\\n        self.__name = name\\n```\\n\\nIn this code, `Person` is a class with a private attribute `__name`. The `get_name()` method is used to access the value of `__name`, and the `set_name()` method is used to change the value of `__name`.\\n\\nYou can use this class like this:\\n\\n```python\\np = Person(\"John Doe\")\\nprint(p.get_name())  # Output: John Doe\\np.set_name(\"Jane Doe\")\\nprint(p.get_name())  # Output: Jane Doe\\n```\\n\\nIn this example, `p` is an instance of the `Person` class. The `get_name()` method is called to print the name of `p`, and the `set_name()` method is called to change the name of `p`. '"
      ]
     },
     "execution_count": 81,
     "metadata": {},
     "output_type": "execute_result"
    }
   ],
   "source": [
    "'''Sure, here's how you can create a `Person` class with a private attribute `__name` and provide methods to get and set the `name` attribute:\n",
    "\n",
    "```python\n",
    "class Person:\n",
    "    def __init__(self, name):\n",
    "        self.__name = name\n",
    "\n",
    "    def get_name(self):\n",
    "        return self.__name\n",
    "\n",
    "    def set_name(self, name):\n",
    "        self.__name = name\n",
    "```\n",
    "\n",
    "In this code, `Person` is a class with a private attribute `__name`. The `get_name()` method is used to access the value of `__name`, and the `set_name()` method is used to change the value of `__name`.\n",
    "\n",
    "You can use this class like this:\n",
    "\n",
    "```python\n",
    "p = Person(\"John Doe\")\n",
    "print(p.get_name())  # Output: John Doe\n",
    "p.set_name(\"Jane Doe\")\n",
    "print(p.get_name())  # Output: Jane Doe\n",
    "```\n",
    "\n",
    "In this example, `p` is an instance of the `Person` class. The `get_name()` method is called to print the name of `p`, and the `set_name()` method is called to change the name of `p`. '''"
   ]
  },
  {
   "cell_type": "code",
   "execution_count": 82,
   "id": "12f7c729-01c0-4d39-a1ea-a8f19048a8a2",
   "metadata": {},
   "outputs": [],
   "source": [
    "#6. Explain the purpose of getter and setter methods in encapsulation. Provide examples."
   ]
  },
  {
   "cell_type": "code",
   "execution_count": 94,
   "id": "c4976139-c9eb-4c78-b22a-f39d839970f2",
   "metadata": {},
   "outputs": [
    {
     "data": {
      "text/plain": [
       "\"In object-oriented programming, encapsulation is a mechanism of bundling the data (attributes) and the methods (functions) that manipulate the data into a single unit called a class. Encapsulation provides a way to protect data from accidental modification by hiding the implementation details of a class from outside access.\\n\\nGetter and setter methods are an integral part of encapsulation. They provide controlled access to an object's attributes:\\n\\n1. **Getter Methods**: These methods are used to access the value of private attributes. They return the value of the attribute they are associated with.\\n\\n2. **Setter Methods**: These methods are used to set or update the value of private attributes. They take a parameter and assign it to the attribute they are associated with.\\n\\nHere's an example of a class in Python that uses getter and setter methods:\\n\\n```python\\nclass Employee:\\n    def __init__(self, name):\\n        self.__name = name  # private attribute\\n\\n    # Getter method\\n    def get_name(self):\\n        return self.__name\\n\\n    # Setter method\\n    def set_name(self, name):\\n        self.__name = name\\n```\\n\\nIn this example, `Employee` is a class with a private attribute `__name`. The `get_name()` method is used to access the value of `__name`, and the `set_name()` method is used to change the value of `__name`.\\n\\nBy using getter and setter methods, the class can enforce its own data validation rules and ensure that its internal state remains consistent. This provides better control over class attributes and methods, increases the security of data, and makes the code more flexible\""
      ]
     },
     "execution_count": 94,
     "metadata": {},
     "output_type": "execute_result"
    }
   ],
   "source": [
    "'''In object-oriented programming, encapsulation is a mechanism of bundling the data (attributes) and the methods (functions) that manipulate the data into a single unit called a class. Encapsulation provides a way to protect data from accidental modification by hiding the implementation details of a class from outside access.\n",
    "\n",
    "Getter and setter methods are an integral part of encapsulation. They provide controlled access to an object's attributes:\n",
    "\n",
    "1. **Getter Methods**: These methods are used to access the value of private attributes. They return the value of the attribute they are associated with.\n",
    "\n",
    "2. **Setter Methods**: These methods are used to set or update the value of private attributes. They take a parameter and assign it to the attribute they are associated with.\n",
    "\n",
    "Here's an example of a class in Python that uses getter and setter methods:\n",
    "\n",
    "```python\n",
    "class Employee:\n",
    "    def __init__(self, name):\n",
    "        self.__name = name  # private attribute\n",
    "\n",
    "    # Getter method\n",
    "    def get_name(self):\n",
    "        return self.__name\n",
    "\n",
    "    # Setter method\n",
    "    def set_name(self, name):\n",
    "        self.__name = name\n",
    "```\n",
    "\n",
    "In this example, `Employee` is a class with a private attribute `__name`. The `get_name()` method is used to access the value of `__name`, and the `set_name()` method is used to change the value of `__name`.\n",
    "\n",
    "By using getter and setter methods, the class can enforce its own data validation rules and ensure that its internal state remains consistent. This provides better control over class attributes and methods, increases the security of data, and makes the code more flexible'''"
   ]
  },
  {
   "cell_type": "code",
   "execution_count": 84,
   "id": "d67b3300-6e6d-4548-8422-267cd9a33ab2",
   "metadata": {},
   "outputs": [],
   "source": [
    "#7. What is name mangling in Python, and how does it affect encapsulation?"
   ]
  },
  {
   "cell_type": "code",
   "execution_count": 85,
   "id": "53cb16d5-d735-47cf-a113-d236e1a71466",
   "metadata": {},
   "outputs": [
    {
     "data": {
      "text/plain": [
       "'Name mangling is a mechanism in Python by which class variables have different names inside and outside the class. It\\'s invoked when you use two leading underscores and at most one trailing underscore in an identifier within a class definition. For example, any identifier of the form `__variable` (at least two leading underscores or at most one trailing underscore) is textually replaced with `_classname__variable`, where `classname` is the current class name with leading underscore(s) stripped.\\n\\nHere\\'s an example:\\n\\n```python\\nclass Student:\\n    def __init__(self, name):\\n        self.__name = name\\n\\n    def displayName(self):\\n        print(self.__name)\\n\\ns1 = Student(\"Santhosh\")\\ns1.displayName()  # Output: Santhosh\\nprint(s1.__name)  # Raises AttributeError: \\'Student\\' object has no attribute \\'__name\\'\\n```\\n\\nIn this example, the class variable `__name` is not accessible outside the class. It can be accessed only within the class¹. Any modification of the class variable can be done only inside the class¹.\\n\\nName mangling plays a crucial role in encapsulation as it helps to make a class variable private¹³. It provides a way to access the class variables from outside the class¹. The class variables can be accessed by adding `_classname` to it. The name mangling is closest to private, not exactly private. For example, the class variable can be accessed from outside the class with the name `_Student__name`.\\n\\n```python\\nclass Student:\\n    def __init__(self, name):\\n        self.__name = name\\n\\ns1 = Student(\"Santhosh\")\\nprint(s1._Student__name)  # Output: Santhosh\\n```\\n\\nDue to name mangling, there is limited support for a valid use-case for class-private members, basically to avoid name clashes of names with names defined by subclasses¹. As long as it occurs within the definition of the class, this mangling is done'"
      ]
     },
     "execution_count": 85,
     "metadata": {},
     "output_type": "execute_result"
    }
   ],
   "source": [
    "'''Name mangling is a mechanism in Python by which class variables have different names inside and outside the class. It's invoked when you use two leading underscores and at most one trailing underscore in an identifier within a class definition. For example, any identifier of the form `__variable` (at least two leading underscores or at most one trailing underscore) is textually replaced with `_classname__variable`, where `classname` is the current class name with leading underscore(s) stripped.\n",
    "\n",
    "Here's an example:\n",
    "\n",
    "```python\n",
    "class Student:\n",
    "    def __init__(self, name):\n",
    "        self.__name = name\n",
    "\n",
    "    def displayName(self):\n",
    "        print(self.__name)\n",
    "\n",
    "s1 = Student(\"Santhosh\")\n",
    "s1.displayName()  # Output: Santhosh\n",
    "print(s1.__name)  # Raises AttributeError: 'Student' object has no attribute '__name'\n",
    "```\n",
    "\n",
    "In this example, the class variable `__name` is not accessible outside the class. It can be accessed only within the class¹. Any modification of the class variable can be done only inside the class¹.\n",
    "\n",
    "Name mangling plays a crucial role in encapsulation as it helps to make a class variable private¹³. It provides a way to access the class variables from outside the class¹. The class variables can be accessed by adding `_classname` to it. The name mangling is closest to private, not exactly private. For example, the class variable can be accessed from outside the class with the name `_Student__name`.\n",
    "\n",
    "```python\n",
    "class Student:\n",
    "    def __init__(self, name):\n",
    "        self.__name = name\n",
    "\n",
    "s1 = Student(\"Santhosh\")\n",
    "print(s1._Student__name)  # Output: Santhosh\n",
    "```\n",
    "\n",
    "Due to name mangling, there is limited support for a valid use-case for class-private members, basically to avoid name clashes of names with names defined by subclasses¹. As long as it occurs within the definition of the class, this mangling is done'''"
   ]
  },
  {
   "cell_type": "code",
   "execution_count": 86,
   "id": "599b0185-ba43-4437-bf5e-b6da9f151db7",
   "metadata": {},
   "outputs": [],
   "source": [
    "#8. Create a Python class called `'BankAccount' with private attributes for the account balance (`__balance'`) and account number('__account_number'). provide methods for depositing and withdrawing money"
   ]
  },
  {
   "cell_type": "code",
   "execution_count": 87,
   "id": "1a172eed-3bbb-423e-bee5-d145c34a0f60",
   "metadata": {},
   "outputs": [],
   "source": [
    "class BankAccount:\n",
    "    def __init__(self, account_number, balance):\n",
    "        self.__account_number = account_number\n",
    "        self.__balance = balance\n",
    "\n",
    "    def deposit(self, amount):\n",
    "        self.__balance += amount\n",
    "        return self.__balance\n",
    "\n",
    "    def withdraw(self, amount):\n",
    "        if self.__balance >= amount:\n",
    "            self.__balance -= amount\n",
    "        else:\n",
    "            return \"Insufficient balance\"\n",
    "        return self.__balance\n"
   ]
  },
  {
   "cell_type": "code",
   "execution_count": 88,
   "id": "2cff117f-8375-4a01-9076-2de123e2d2be",
   "metadata": {},
   "outputs": [],
   "source": [
    "#9Discuss the advantages of encapsulation in terms of code maintainability and security."
   ]
  },
  {
   "cell_type": "code",
   "execution_count": 89,
   "id": "7babf84f-deb5-4cb9-8393-5285151691d1",
   "metadata": {},
   "outputs": [
    {
     "data": {
      "text/plain": [
       "\"Encapsulation is a fundamental concept in object-oriented programming that provides several advantages in terms of code maintainability and security:\\n\\n1. **Data Protection**: Encapsulation prevents unauthorized access and manipulation of an object's data. The internal state of an object is hidden from external interference, which reduces the risk of data corruption.\\n\\n2. **Code Maintainability**: Encapsulation enhances code maintainability by organizing related data and functionality within a single class. It allows changes to the implementation without affecting the code that uses the object. This promotes a clean and understandable code structure.\\n\\n3. **Security Enhancement**: Encapsulation enhances security by preventing unauthorized modification of data. It only exposes the necessary methods to interact with the object.\\n\\n4. **Flexibility**: Encapsulation promotes flexibility and adaptability in software development². You can change the internal representation of an object without affecting the external code.\\n\\n5. **Code Reusability**: The methods can be changed and the code is reusable.\\n\\nIn summary, encapsulation is a powerful tool for improving the structure, security, and maintainability of your code. It's a key principle in object-oriented programming that helps to keep your code organized, secure, and easy to manage.\""
      ]
     },
     "execution_count": 89,
     "metadata": {},
     "output_type": "execute_result"
    }
   ],
   "source": [
    "'''Encapsulation is a fundamental concept in object-oriented programming that provides several advantages in terms of code maintainability and security:\n",
    "\n",
    "1. **Data Protection**: Encapsulation prevents unauthorized access and manipulation of an object's data. The internal state of an object is hidden from external interference, which reduces the risk of data corruption.\n",
    "\n",
    "2. **Code Maintainability**: Encapsulation enhances code maintainability by organizing related data and functionality within a single class. It allows changes to the implementation without affecting the code that uses the object. This promotes a clean and understandable code structure.\n",
    "\n",
    "3. **Security Enhancement**: Encapsulation enhances security by preventing unauthorized modification of data. It only exposes the necessary methods to interact with the object.\n",
    "\n",
    "4. **Flexibility**: Encapsulation promotes flexibility and adaptability in software development². You can change the internal representation of an object without affecting the external code.\n",
    "\n",
    "5. **Code Reusability**: The methods can be changed and the code is reusable.\n",
    "\n",
    "In summary, encapsulation is a powerful tool for improving the structure, security, and maintainability of your code. It's a key principle in object-oriented programming that helps to keep your code organized, secure, and easy to manage.'''"
   ]
  },
  {
   "cell_type": "code",
   "execution_count": 13,
   "id": "03baeeb1-223b-4868-8661-f14693749f3c",
   "metadata": {},
   "outputs": [],
   "source": [
    "#10 How can you access private attributes in Python? Provide an example demonstrating the use of name mangling."
   ]
  },
  {
   "cell_type": "code",
   "execution_count": 14,
   "id": "cd282eb8-bceb-4573-9da9-87366ba4a046",
   "metadata": {},
   "outputs": [
    {
     "data": {
      "text/plain": [
       "'In Python, private attributes are not truly private. Python uses a mechanism called **name mangling** where it changes the name of the variable in a way that makes it harder to create collisions when the class is extended. This is why you might see that private attributes are prefixed with an underscore `_`.\\n\\nHowever, you can still access these attributes directly if you know the name of the attribute you are trying to access. The syntax to access private variables is `object._classname__varname`.\\n\\nHere\\'s an example:\\n\\n```python\\nclass MyClass:\\n    def __init__(self):\\n        self.__private_var = \"Private Variable\"\\n\\n# Create an instance of MyClass\\nobj = MyClass()\\n\\n# Access the private variable\\nprint(obj._MyClass__private_var)  # Output: Private Variable\\n```\\n\\nIn this example, `__private_var` is a private variable inside `MyClass`. Although it\\'s not directly accessible using `obj.__private_var`, we can still access it using `obj._MyClass__private_var`.\\n\\nRemember, this is not a practice that you should use regularly. The whole point of making a variable private is so that it\\'s not accessible from outside the class. This is just a demonstration that it\\'s technically possible.'"
      ]
     },
     "execution_count": 14,
     "metadata": {},
     "output_type": "execute_result"
    }
   ],
   "source": [
    "'''In Python, private attributes are not truly private. Python uses a mechanism called **name mangling** where it changes the name of the variable in a way that makes it harder to create collisions when the class is extended. This is why you might see that private attributes are prefixed with an underscore `_`.\n",
    "\n",
    "However, you can still access these attributes directly if you know the name of the attribute you are trying to access. The syntax to access private variables is `object._classname__varname`.\n",
    "\n",
    "Here's an example:\n",
    "\n",
    "```python\n",
    "class MyClass:\n",
    "    def __init__(self):\n",
    "        self.__private_var = \"Private Variable\"\n",
    "\n",
    "# Create an instance of MyClass\n",
    "obj = MyClass()\n",
    "\n",
    "# Access the private variable\n",
    "print(obj._MyClass__private_var)  # Output: Private Variable\n",
    "```\n",
    "\n",
    "In this example, `__private_var` is a private variable inside `MyClass`. Although it's not directly accessible using `obj.__private_var`, we can still access it using `obj._MyClass__private_var`.\n",
    "\n",
    "Remember, this is not a practice that you should use regularly. The whole point of making a variable private is so that it's not accessible from outside the class. This is just a demonstration that it's technically possible.'''"
   ]
  },
  {
   "cell_type": "code",
   "execution_count": 15,
   "id": "1e161d74-0775-45d8-989c-cbc852bfef18",
   "metadata": {},
   "outputs": [],
   "source": [
    "#11. Create a Python class hierarchy for a school system, including classes for students, teachers, and courses, and implement encapsulation principles to protect sensitive information."
   ]
  },
  {
   "cell_type": "code",
   "execution_count": null,
   "id": "7dd89ef9-311b-4b36-b1f3-09445d4dc303",
   "metadata": {},
   "outputs": [],
   "source": [
    "'''Sure, here's a simple example of a Python class hierarchy for a school system. This example includes classes for students, teachers, and courses. It also demonstrates the principle of encapsulation to protect sensitive information:\n",
    "\n",
    "```python\n",
    "class Person:\n",
    "    def __init__(self, name, age):\n",
    "        self._name = name\n",
    "        self._age = age\n",
    "\n",
    "    def get_name(self):\n",
    "        return self._name\n",
    "\n",
    "    def get_age(self):\n",
    "        return self._age\n",
    "\n",
    "\n",
    "class Student(Person):\n",
    "    def __init__(self, name, age, student_id):\n",
    "        super().__init__(name, age)\n",
    "        self.__student_id = student_id\n",
    "\n",
    "    def get_student_id(self):\n",
    "        return self.__student_id\n",
    "\n",
    "\n",
    "class Teacher(Person):\n",
    "    def __init__(self, name, age, teacher_id):\n",
    "        super().__init__(name, age)\n",
    "        self.__teacher_id = teacher_id\n",
    "\n",
    "    def get_teacher_id(self):\n",
    "        return self.__teacher_id\n",
    "\n",
    "\n",
    "class Course:\n",
    "    def __init__(self, course_name, teacher):\n",
    "        self._course_name = course_name\n",
    "        self._teacher = teacher\n",
    "        self._students = []\n",
    "\n",
    "    def add_student(self, student):\n",
    "        self._students.append(student)\n",
    "\n",
    "    def get_course_name(self):\n",
    "        return self._course_name\n",
    "\n",
    "    def get_teacher(self):\n",
    "        return self._teacher\n",
    "\n",
    "    def get_students(self):\n",
    "        return self._students\n",
    "```\n",
    "\n",
    "In this example, `Person` is a base class for `Student` and `Teacher`. The `Course` class has a `Teacher` and a list of `Students`. The private attributes are accessed via getter methods, which is a way to implement encapsulation in Python. The double underscore `__` before an instance variable makes it private, meaning it can't be accessed directly outside the class. Instead, we use getter methods to access these variables. This is a way to ensure data is kept safe or encapsulated. It's important to note that Python does not have strong encapsulation at the language level, and these are conventions followed by Python developers.'''"
   ]
  },
  {
   "cell_type": "code",
   "execution_count": 16,
   "id": "335deb0b-b345-4a8f-bc0a-15f80975c0a8",
   "metadata": {},
   "outputs": [],
   "source": [
    "#12. Explain the concept of property decorators in Python and how they relate to encapsulation."
   ]
  },
  {
   "cell_type": "code",
   "execution_count": 17,
   "id": "b6d15e9a-1dda-4a96-8e2d-bd3015ce7bc5",
   "metadata": {},
   "outputs": [
    {
     "data": {
      "text/plain": [
       "'In Python, the `@property` decorator is a built-in decorator that provides a way to use getter, setter, and deleter methods for a class attribute¹². This is closely related to the concept of encapsulation, a fundamental principle in object-oriented programming that restricts direct access to some of an object\\'s components.\\n\\nHere\\'s how it works:\\n\\n1. **Getter**: The `@property` decorator turns a method into a \"getter\" for a read-only attribute¹². For example, if you have a method that returns a private attribute, you can decorate it with `@property`, and it can be accessed like a normal attribute.\\n\\n2. **Setter**: The `@propertyname.setter` decorator allows the class to change the value of the property¹². If you have a method intended to change the value of a private attribute, you can decorate it with `@propertyname.setter`, and it will be used as the setter method.\\n\\n3. **Deleter**: The `@propertyname.deleter` decorator allows the class to control the deletion of the property¹². If you have a method intended to delete the private attribute, you can decorate it with `@propertyname.deleter`, and it will be used as the deleter method.\\n\\nHere\\'s an example:\\n\\n```python\\nclass MyClass:\\n    def __init__(self):\\n        self.__private_var = \"Private Variable\"\\n\\n    @property\\n    def private_var(self):\\n        return self.__private_var\\n\\n    @private_var.setter\\n    def private_var(self, value):\\n        self.__private_var = value\\n\\n    @private_var.deleter\\n    def private_var(self):\\n        del self.__private_var\\n```\\n\\nIn this example, `private_var` is a property object provides interface to the private attribute `__private_var`. The `@property` decorator makes `private_var` method as a getter, `@private_var.setter` makes `private_var` method as a setter, and `@private_var.deleter` makes `private_var` method as a deleter.\\n\\nThis way, the `@property` decorator allows encapsulation of internal state. Other code can read and modify properties without accessing private internal data directly³. It also enables abstraction by hiding implementation details behind a simple interface³. Think of properties as the public API for your class. Keep the internals private.'"
      ]
     },
     "execution_count": 17,
     "metadata": {},
     "output_type": "execute_result"
    }
   ],
   "source": [
    "'''In Python, the `@property` decorator is a built-in decorator that provides a way to use getter, setter, and deleter methods for a class attribute¹². This is closely related to the concept of encapsulation, a fundamental principle in object-oriented programming that restricts direct access to some of an object's components.\n",
    "\n",
    "Here's how it works:\n",
    "\n",
    "1. **Getter**: The `@property` decorator turns a method into a \"getter\" for a read-only attribute¹². For example, if you have a method that returns a private attribute, you can decorate it with `@property`, and it can be accessed like a normal attribute.\n",
    "\n",
    "2. **Setter**: The `@propertyname.setter` decorator allows the class to change the value of the property¹². If you have a method intended to change the value of a private attribute, you can decorate it with `@propertyname.setter`, and it will be used as the setter method.\n",
    "\n",
    "3. **Deleter**: The `@propertyname.deleter` decorator allows the class to control the deletion of the property¹². If you have a method intended to delete the private attribute, you can decorate it with `@propertyname.deleter`, and it will be used as the deleter method.\n",
    "\n",
    "Here's an example:\n",
    "\n",
    "```python\n",
    "class MyClass:\n",
    "    def __init__(self):\n",
    "        self.__private_var = \"Private Variable\"\n",
    "\n",
    "    @property\n",
    "    def private_var(self):\n",
    "        return self.__private_var\n",
    "\n",
    "    @private_var.setter\n",
    "    def private_var(self, value):\n",
    "        self.__private_var = value\n",
    "\n",
    "    @private_var.deleter\n",
    "    def private_var(self):\n",
    "        del self.__private_var\n",
    "```\n",
    "\n",
    "In this example, `private_var` is a property object provides interface to the private attribute `__private_var`. The `@property` decorator makes `private_var` method as a getter, `@private_var.setter` makes `private_var` method as a setter, and `@private_var.deleter` makes `private_var` method as a deleter.\n",
    "\n",
    "This way, the `@property` decorator allows encapsulation of internal state. Other code can read and modify properties without accessing private internal data directly³. It also enables abstraction by hiding implementation details behind a simple interface³. Think of properties as the public API for your class. Keep the internals private.'''"
   ]
  },
  {
   "cell_type": "code",
   "execution_count": 18,
   "id": "e9de2f3c-07d7-4871-8630-43bac9cd6a45",
   "metadata": {},
   "outputs": [],
   "source": [
    "#13. What is data hiding, and why is it important in encapsulation? Provide examples."
   ]
  },
  {
   "cell_type": "code",
   "execution_count": 19,
   "id": "00d3487f-165c-409c-a9e2-870e59aecf35",
   "metadata": {},
   "outputs": [
    {
     "data": {
      "text/plain": [
       "'Data hiding is a concept in object-oriented programming that restricts direct access to some of an object\\'s components. It\\'s one of the key aspects of encapsulation, which is the idea of wrapping data and the methods that work on data within one unit. This puts restrictions on accessing variables and methods directly and can prevent the accidental modification of data¹.\\n\\nData hiding is important in encapsulation for several reasons:\\n\\n1. **Prevents Damage or Misuse**: It helps to prevent damage or misuse of volatile data by hiding it from the public.\\n2. **Isolates Objects**: The class objects are disconnected from the irrelevant data². It isolates objects as the basic concept of OOP.\\n3. **Increases Security**: It increases the security against hackers that are unable to access important data².\\n\\nHere are some examples of data hiding and encapsulation in Python:\\n\\n**Example 1: Encapsulation and Data Hiding**\\n\\n```python\\nclass Base:\\n    def __init__(self):\\n        self._a = 2  # Protected member\\n\\nclass Derived(Base):\\n    def __init__(self):\\n        Base.__init__(self)\\n        print(\"Calling protected member of base class: \", self._a)\\n        self._a = 3\\n        print(\"Calling modified protected member outside class: \", self._a)\\n\\nobj1 = Derived()\\nobj2 = Base()\\nprint(\"Accessing protected member of obj1: \", obj1._a)\\nprint(\"Accessing protected member of obj2: \", obj2._a)\\n```\\n\\nIn this example, `_a` is a protected member of the `Base` class. It can be accessed and modified in the derived class `Derived`.\\n\\n**Example 2: Data Hiding**\\n\\n```python\\nclass Solution:\\n    __privateCounter = 0  # Private member\\n\\n    def sum(self):\\n        self.__privateCounter += 1\\n        print(self.__privateCounter)\\n\\ncount = Solution()\\ncount.sum()\\ncount.sum()\\nprint(count._Solution__privateCounter)  # Accessing private member\\n```\\n\\nIn this example, `__privateCounter` is a private member of the `Solution` class. It\\'s hidden from direct access and can only be accessed through the class name.'"
      ]
     },
     "execution_count": 19,
     "metadata": {},
     "output_type": "execute_result"
    }
   ],
   "source": [
    "'''Data hiding is a concept in object-oriented programming that restricts direct access to some of an object's components. It's one of the key aspects of encapsulation, which is the idea of wrapping data and the methods that work on data within one unit. This puts restrictions on accessing variables and methods directly and can prevent the accidental modification of data¹.\n",
    "\n",
    "Data hiding is important in encapsulation for several reasons:\n",
    "\n",
    "1. **Prevents Damage or Misuse**: It helps to prevent damage or misuse of volatile data by hiding it from the public.\n",
    "2. **Isolates Objects**: The class objects are disconnected from the irrelevant data². It isolates objects as the basic concept of OOP.\n",
    "3. **Increases Security**: It increases the security against hackers that are unable to access important data².\n",
    "\n",
    "Here are some examples of data hiding and encapsulation in Python:\n",
    "\n",
    "**Example 1: Encapsulation and Data Hiding**\n",
    "\n",
    "```python\n",
    "class Base:\n",
    "    def __init__(self):\n",
    "        self._a = 2  # Protected member\n",
    "\n",
    "class Derived(Base):\n",
    "    def __init__(self):\n",
    "        Base.__init__(self)\n",
    "        print(\"Calling protected member of base class: \", self._a)\n",
    "        self._a = 3\n",
    "        print(\"Calling modified protected member outside class: \", self._a)\n",
    "\n",
    "obj1 = Derived()\n",
    "obj2 = Base()\n",
    "print(\"Accessing protected member of obj1: \", obj1._a)\n",
    "print(\"Accessing protected member of obj2: \", obj2._a)\n",
    "```\n",
    "\n",
    "In this example, `_a` is a protected member of the `Base` class. It can be accessed and modified in the derived class `Derived`.\n",
    "\n",
    "**Example 2: Data Hiding**\n",
    "\n",
    "```python\n",
    "class Solution:\n",
    "    __privateCounter = 0  # Private member\n",
    "\n",
    "    def sum(self):\n",
    "        self.__privateCounter += 1\n",
    "        print(self.__privateCounter)\n",
    "\n",
    "count = Solution()\n",
    "count.sum()\n",
    "count.sum()\n",
    "print(count._Solution__privateCounter)  # Accessing private member\n",
    "```\n",
    "\n",
    "In this example, `__privateCounter` is a private member of the `Solution` class. It's hidden from direct access and can only be accessed through the class name.'''"
   ]
  },
  {
   "cell_type": "code",
   "execution_count": 20,
   "id": "2c5a4a47-263e-4ad3-b93d-8fbbe83fd808",
   "metadata": {},
   "outputs": [],
   "source": [
    "#14. Create a Python class called `Employee` with private attributes for salary (`__salary`) and employee ID (`__employee_id`). Provide a method to calculate yearly bonuses."
   ]
  },
  {
   "cell_type": "code",
   "execution_count": 21,
   "id": "7e428a84-ed65-4c35-87a9-b60eb89d9942",
   "metadata": {},
   "outputs": [],
   "source": [
    "class Employee:\n",
    "    def __init__(self, employee_id, salary):\n",
    "        self.__employee_id = employee_id\n",
    "        self.__salary = salary\n",
    "\n",
    "    def get_employee_id(self):\n",
    "        return self.__employee_id\n",
    "\n",
    "    def get_salary(self):\n",
    "        return self.__salary\n",
    "\n",
    "    def calculate_yearly_bonus(self):\n",
    "        # Let's assume the bonus is 10% of the salary\n",
    "        bonus = self.__salary * 0.10\n",
    "        return bonus"
   ]
  },
  {
   "cell_type": "code",
   "execution_count": 22,
   "id": "e01d2988-cafb-4b4a-ab09-4595628dd4fc",
   "metadata": {},
   "outputs": [],
   "source": [
    "#15. Discuss the use of accessors and mutators in encapsulation. How do they help maintain control over attribute access?"
   ]
  },
  {
   "cell_type": "code",
   "execution_count": 23,
   "id": "a9d6d02e-140d-4a9b-80d2-d6d7a762f274",
   "metadata": {},
   "outputs": [
    {
     "data": {
      "text/plain": [
       "\"Accessors and mutators, also known as getters and setters, are methods used in object-oriented programming to control access to an object's attributes¹². They are a key part of the encapsulation principle, which is about hiding the internal state of an object and providing an interface to interact with the object.\\n\\n**Accessors** (getters) are methods that allow you to retrieve the value of an object's private instance variables¹². They provide read-only access to the object's state¹². By using accessor methods, you can ensure that the object's state is not modified accidentally or maliciously by external code¹².\\n\\n**Mutators** (setters) are methods that allow you to modify the value of an object's private instance variables¹². They provide write-only access to the object's state¹². By using mutator methods, you can ensure that the object's state is modified only through a controlled interface¹².\\n\\nHere's an example in Python:\\n\\n```python\\nclass Employee:\\n    def __init__(self, id, salary):\\n        self.__id = id\\n        self.__salary = salary\\n\\n    @property\\n    def id(self):\\n        return self.__id\\n\\n    @property\\n    def salary(self):\\n        return self.__salary\\n\\n    @salary.setter\\n    def salary(self, value):\\n        if value > 0:\\n            self.__salary = value\\n```\\n\\nIn this example, `id` and `salary` are private attributes. The `@property` decorator is used to create getter methods for `id` and `salary`, and `@salary.setter` is used to create a setter method for `salary`. This way, the `salary` attribute can be safely accessed and modified, while the `id` attribute is read-only.\\n\\nIn summary, accessors and mutators help maintain control over attribute access by providing a controlled interface to interact with an object's state. They enhance encapsulation by ensuring that the internal state of an object is accessed and modified in a controlled and safe manner.\""
      ]
     },
     "execution_count": 23,
     "metadata": {},
     "output_type": "execute_result"
    }
   ],
   "source": [
    "'''Accessors and mutators, also known as getters and setters, are methods used in object-oriented programming to control access to an object's attributes¹². They are a key part of the encapsulation principle, which is about hiding the internal state of an object and providing an interface to interact with the object.\n",
    "\n",
    "**Accessors** (getters) are methods that allow you to retrieve the value of an object's private instance variables¹². They provide read-only access to the object's state¹². By using accessor methods, you can ensure that the object's state is not modified accidentally or maliciously by external code¹².\n",
    "\n",
    "**Mutators** (setters) are methods that allow you to modify the value of an object's private instance variables¹². They provide write-only access to the object's state¹². By using mutator methods, you can ensure that the object's state is modified only through a controlled interface¹².\n",
    "\n",
    "Here's an example in Python:\n",
    "\n",
    "```python\n",
    "class Employee:\n",
    "    def __init__(self, id, salary):\n",
    "        self.__id = id\n",
    "        self.__salary = salary\n",
    "\n",
    "    @property\n",
    "    def id(self):\n",
    "        return self.__id\n",
    "\n",
    "    @property\n",
    "    def salary(self):\n",
    "        return self.__salary\n",
    "\n",
    "    @salary.setter\n",
    "    def salary(self, value):\n",
    "        if value > 0:\n",
    "            self.__salary = value\n",
    "```\n",
    "\n",
    "In this example, `id` and `salary` are private attributes. The `@property` decorator is used to create getter methods for `id` and `salary`, and `@salary.setter` is used to create a setter method for `salary`. This way, the `salary` attribute can be safely accessed and modified, while the `id` attribute is read-only.\n",
    "\n",
    "In summary, accessors and mutators help maintain control over attribute access by providing a controlled interface to interact with an object's state. They enhance encapsulation by ensuring that the internal state of an object is accessed and modified in a controlled and safe manner.'''"
   ]
  },
  {
   "cell_type": "code",
   "execution_count": 24,
   "id": "14a4baa5-6e6f-428e-92d6-11ec2ab73050",
   "metadata": {},
   "outputs": [],
   "source": [
    "#16.What are the potential drawbacks or disadvantages of using encapsulation in Python?"
   ]
  },
  {
   "cell_type": "code",
   "execution_count": 25,
   "id": "3b6758af-d574-49d8-88c8-4835fa6cea63",
   "metadata": {},
   "outputs": [
    {
     "data": {
      "text/plain": [
       "\"While encapsulation is a fundamental concept in object-oriented programming and provides numerous benefits, it does come with a few potential drawbacks:\\n\\n1. **Added Complexity**: Encapsulation can add extra layers of complexity to the code, which might make it more difficult to understand⁴. This is especially true for those who are new to object-oriented programming.\\n\\n2. **Performance Overhead**: Encapsulation might introduce a slight performance overhead due to the additional function calls involved in using getter and setter methods.\\n\\n3. **Design Difficulty**: Properly designing encapsulated code requires careful thought and planning. Deciding what should be exposed and what should be kept private can be a challenging task.\\n\\n4. **Limited Access**: While encapsulation is used to protect the data, it can sometimes be restrictive. Developers might need access to some data for legitimate reasons, and encapsulation can make this difficult.\\n\\n5. **Python Specific**: Python does not have keywords like `public`, `private`, and `protected` as in the case of languages like Java³. Instead, it achieves encapsulation by using single and double underscores. This might be confusing for developers coming from other programming languages.\\n\\nRemember, the advantages of encapsulation usually outweigh these potential drawbacks. It's all about finding the right balance based on the specific needs of your project.\""
      ]
     },
     "execution_count": 25,
     "metadata": {},
     "output_type": "execute_result"
    }
   ],
   "source": [
    "'''While encapsulation is a fundamental concept in object-oriented programming and provides numerous benefits, it does come with a few potential drawbacks:\n",
    "\n",
    "1. **Added Complexity**: Encapsulation can add extra layers of complexity to the code, which might make it more difficult to understand⁴. This is especially true for those who are new to object-oriented programming.\n",
    "\n",
    "2. **Performance Overhead**: Encapsulation might introduce a slight performance overhead due to the additional function calls involved in using getter and setter methods.\n",
    "\n",
    "3. **Design Difficulty**: Properly designing encapsulated code requires careful thought and planning. Deciding what should be exposed and what should be kept private can be a challenging task.\n",
    "\n",
    "4. **Limited Access**: While encapsulation is used to protect the data, it can sometimes be restrictive. Developers might need access to some data for legitimate reasons, and encapsulation can make this difficult.\n",
    "\n",
    "5. **Python Specific**: Python does not have keywords like `public`, `private`, and `protected` as in the case of languages like Java³. Instead, it achieves encapsulation by using single and double underscores. This might be confusing for developers coming from other programming languages.\n",
    "\n",
    "Remember, the advantages of encapsulation usually outweigh these potential drawbacks. It's all about finding the right balance based on the specific needs of your project.'''"
   ]
  },
  {
   "cell_type": "code",
   "execution_count": 26,
   "id": "e2972498-989f-4490-a31e-2d71f2a2602e",
   "metadata": {},
   "outputs": [],
   "source": [
    "#17. Create a Python class for a library system that encapsulates book information, including titles, authors, and availability status."
   ]
  },
  {
   "cell_type": "code",
   "execution_count": 27,
   "id": "e418a44d-2aa4-4f17-92cb-1439eba67770",
   "metadata": {},
   "outputs": [],
   "source": [
    "class Book:\n",
    "    def __init__(self, title, author):\n",
    "        self.__title = title\n",
    "        self.__author = author\n",
    "        self.__available = True\n",
    "\n",
    "    @property\n",
    "    def title(self):\n",
    "        return self.__title\n",
    "\n",
    "    @property\n",
    "    def author(self):\n",
    "        return self.__author\n",
    "\n",
    "    @property\n",
    "    def available(self):\n",
    "        return self.__available\n",
    "\n",
    "    @available.setter\n",
    "    def available(self, status):\n",
    "        if isinstance(status, bool):\n",
    "            self.__available = status\n",
    "        else:\n",
    "            print(\"Invalid status. Please enter a boolean value.\")\n",
    "\n",
    "    def __str__(self):\n",
    "        return f\"Title: {self.__title}, Author: {self.__author}, Available: {self.__available}\"\n"
   ]
  },
  {
   "cell_type": "code",
   "execution_count": 28,
   "id": "71f70bd5-9678-4147-83aa-410397023bb7",
   "metadata": {},
   "outputs": [],
   "source": [
    "#18.Explain how encapsulation enhances code reusability and modularity in Python programs."
   ]
  },
  {
   "cell_type": "code",
   "execution_count": 29,
   "id": "4e193d53-0b05-4b7f-90eb-cb01836e30b3",
   "metadata": {},
   "outputs": [
    {
     "data": {
      "text/plain": [
       "\"Encapsulation is a fundamental concept in object-oriented programming (OOP) that enhances code reusability and modularity in Python programs:\\n\\n1. **Code Reusability**: Encapsulation allows for greater code reusability. By encapsulating data and behavior within objects, you can reuse these objects across different parts of a program or even in other programs. This reduces the need to write duplicate code.\\n\\n2. **Modularity**: Encapsulation enhances modularity by allowing you to build programs out of separate, interchangeable components known as modules. Each module is a self-contained unit that encapsulates specific functionality. Modules can be developed, tested, and debugged independently, then linked together to form a complete system.\\n\\nHere's an example of encapsulation in Python:\\n\\n```python\\nclass Employee:\\n    def __init__(self, id, salary):\\n        self.__id = id\\n        self.__salary = salary\\n\\n    @property\\n    def id(self):\\n        return self.__id\\n\\n    @property\\n    def salary(self):\\n        return self.__salary\\n\\n    @salary.setter\\n    def salary(self, value):\\n        if value > 0:\\n            self.__salary = value\\n```\\n\\nIn this example, `Employee` is a class that encapsulates the data (`id` and `salary`) and the methods that operate on the data. The `@property` decorator is used to create getter methods for `id` and `salary`, and `@salary.setter` is used to create a setter method for `salary`. This way, the `salary` attribute can be safely accessed and modified, while the `id` attribute is read-only¹²³⁴. This class can be reused in different parts of a program or in other programs, demonstrating the principles of code reusability and modularity.\""
      ]
     },
     "execution_count": 29,
     "metadata": {},
     "output_type": "execute_result"
    }
   ],
   "source": [
    "'''Encapsulation is a fundamental concept in object-oriented programming (OOP) that enhances code reusability and modularity in Python programs:\n",
    "\n",
    "1. **Code Reusability**: Encapsulation allows for greater code reusability. By encapsulating data and behavior within objects, you can reuse these objects across different parts of a program or even in other programs. This reduces the need to write duplicate code.\n",
    "\n",
    "2. **Modularity**: Encapsulation enhances modularity by allowing you to build programs out of separate, interchangeable components known as modules. Each module is a self-contained unit that encapsulates specific functionality. Modules can be developed, tested, and debugged independently, then linked together to form a complete system.\n",
    "\n",
    "Here's an example of encapsulation in Python:\n",
    "\n",
    "```python\n",
    "class Employee:\n",
    "    def __init__(self, id, salary):\n",
    "        self.__id = id\n",
    "        self.__salary = salary\n",
    "\n",
    "    @property\n",
    "    def id(self):\n",
    "        return self.__id\n",
    "\n",
    "    @property\n",
    "    def salary(self):\n",
    "        return self.__salary\n",
    "\n",
    "    @salary.setter\n",
    "    def salary(self, value):\n",
    "        if value > 0:\n",
    "            self.__salary = value\n",
    "```\n",
    "\n",
    "In this example, `Employee` is a class that encapsulates the data (`id` and `salary`) and the methods that operate on the data. The `@property` decorator is used to create getter methods for `id` and `salary`, and `@salary.setter` is used to create a setter method for `salary`. This way, the `salary` attribute can be safely accessed and modified, while the `id` attribute is read-only. This class can be reused in different parts of a program or in other programs, demonstrating the principles of code reusability and modularity.'''"
   ]
  },
  {
   "cell_type": "code",
   "execution_count": 30,
   "id": "44c1664e-7952-4b75-85b1-f2d9a8d3c9e8",
   "metadata": {},
   "outputs": [],
   "source": [
    "#19. Describe the concept of information hiding in encapsulation. Why is it essential in software development?"
   ]
  },
  {
   "cell_type": "code",
   "execution_count": 1,
   "id": "012f779d-7058-4016-9d09-5f90834ff5ae",
   "metadata": {},
   "outputs": [
    {
     "data": {
      "text/plain": [
       "\"Information hiding is a principle in object-oriented programming that segregates the design decisions in a computer program that are most likely to change, thus protecting other parts of the program from extensive modification if the design decision is changed¹. It's a key aspect of encapsulation, which is the process of compartmentalizing the elements of an abstraction that constitute its structure and behavior.\\n\\nInformation hiding is essential in software development for several reasons:\\n\\n1. **Simplifies Interface**: Information hiding allows us to simplify the interface used to interact with an object. Instead of needing to know everything about a particular class of objects in order to use or interact with those objects, we only need to understand the exposed interface.\\n\\n2. **Reduces Complexity**: By encapsulating the details of how objects or components work internally and exposing only what is necessary for their interaction, it makes large software systems easier to manage, maintain, and understand⁴.\\n\\n3. **Enhances Modularity**: Information hiding enhances modularity by allowing you to build programs out of separate, interchangeable components known as modules¹. Each module is a self-contained unit that encapsulates specific functionality¹.\\n\\n4. **Improves Code Reusability**: Encapsulation allows for greater code reusability¹. By encapsulating data and behavior within objects, you can reuse these objects across different parts of a program or even in other programs¹.\\n\\nIn summary, information hiding is a crucial aspect of encapsulation that helps to enhance the modularity, reusability, and maintainability of software systems\""
      ]
     },
     "execution_count": 1,
     "metadata": {},
     "output_type": "execute_result"
    }
   ],
   "source": [
    "'''Information hiding is a principle in object-oriented programming that segregates the design decisions in a computer program that are most likely to change, thus protecting other parts of the program from extensive modification if the design decision is changed¹. It's a key aspect of encapsulation, which is the process of compartmentalizing the elements of an abstraction that constitute its structure and behavior.\n",
    "\n",
    "Information hiding is essential in software development for several reasons:\n",
    "\n",
    "1. **Simplifies Interface**: Information hiding allows us to simplify the interface used to interact with an object. Instead of needing to know everything about a particular class of objects in order to use or interact with those objects, we only need to understand the exposed interface.\n",
    "\n",
    "2. **Reduces Complexity**: By encapsulating the details of how objects or components work internally and exposing only what is necessary for their interaction, it makes large software systems easier to manage, maintain, and understand⁴.\n",
    "\n",
    "3. **Enhances Modularity**: Information hiding enhances modularity by allowing you to build programs out of separate, interchangeable components known as modules¹. Each module is a self-contained unit that encapsulates specific functionality¹.\n",
    "\n",
    "4. **Improves Code Reusability**: Encapsulation allows for greater code reusability¹. By encapsulating data and behavior within objects, you can reuse these objects across different parts of a program or even in other programs¹.\n",
    "\n",
    "In summary, information hiding is a crucial aspect of encapsulation that helps to enhance the modularity, reusability, and maintainability of software systems'''"
   ]
  },
  {
   "cell_type": "code",
   "execution_count": 2,
   "id": "03610d75-b0ce-44b2-84c6-d2d8967af233",
   "metadata": {},
   "outputs": [],
   "source": [
    "#20. Create a Python class called `Customer` with private attributes for customer details like name, address,and contact information. Implement encapsulation to ensure data integrity and security.\n",
    "\n"
   ]
  },
  {
   "cell_type": "code",
   "execution_count": 3,
   "id": "19dd65fb-0a53-4616-9958-ca2ddfecdb0c",
   "metadata": {},
   "outputs": [],
   "source": [
    "class Customer:\n",
    "    def __init__(self, name, address, contact_info):\n",
    "        self.__name = name\n",
    "        self.__address = address\n",
    "        self.__contact_info = contact_info\n",
    "\n",
    "    @property\n",
    "    def name(self):\n",
    "        return self.__name\n",
    "\n",
    "    @property\n",
    "    def address(self):\n",
    "        return self.__address\n",
    "\n",
    "    @property\n",
    "    def contact_info(self):\n",
    "        return self.__contact_info\n",
    "\n",
    "    @name.setter\n",
    "    def name(self, value):\n",
    "        if isinstance(value, str):\n",
    "            self.__name = value\n",
    "        else:\n",
    "            print(\"Invalid name. Please enter a string.\")\n",
    "\n",
    "    @address.setter\n",
    "    def address(self, value):\n",
    "        if isinstance(value, str):\n",
    "            self.__address = value\n",
    "        else:\n",
    "            print(\"Invalid address. Please enter a string.\")\n",
    "\n",
    "    @contact_info.setter\n",
    "    def contact_info(self, value):\n",
    "        if isinstance(value, str):\n",
    "            self.__contact_info = value\n",
    "        else:\n",
    "            print(\"Invalid contact information. Please enter a string.\")"
   ]
  },
  {
   "cell_type": "code",
   "execution_count": 4,
   "id": "128510aa-976b-4650-a8ea-551737493d3d",
   "metadata": {},
   "outputs": [],
   "source": [
    "#Polymorphism:\n",
    "#1. What is polymorphism in Python? Explain how it is related to object-oriented programming."
   ]
  },
  {
   "cell_type": "code",
   "execution_count": 5,
   "id": "a5cd4df2-1c98-450f-8b0c-c44eeafbc405",
   "metadata": {},
   "outputs": [
    {
     "data": {
      "text/plain": [
       "\"Polymorphism is a fundamental concept in object-oriented programming (OOP) that refers to the ability of a single entity (like a method, operator, or object) to represent different types in different scenarios¹²⁴. In Python, polymorphism allows a single operator, function, or class method to have multiple uses.\\n\\nHere's how polymorphism is related to OOP and how it works in Python:\\n\\n1. **Polymorphism with Operators and Functions**: A single operator or function can perform different operations based on the context. For example, the `+` operator performs arithmetic addition for numbers and concatenation for strings². Similarly, built-in functions like `len()` can work with many data types.\\n\\n2. **Polymorphism with Class Methods**: Python allows different classes to have methods with the same name¹². For instance, you can create a `for` loop that iterates through a tuple of objects and call the methods without being concerned about which class type each object is.\\n\\n3. **Polymorphism with Inheritance**: In Python, polymorphism lets us define methods in the child class with the same name as the methods in the parent class¹. The child class inherits the methods from the parent class, but it's possible to modify a method in the child class that it has inherited from the parent class¹. This process of re-implementing a method in the child class is known as Method Overriding.\\n\\nIn summary, polymorphism is a crucial aspect of OOP that makes Python a more efficient language³. It enables you to write functions that are agnostic to the specific types of objects they handle, leading to code that's not only more flexible but also more expressive\""
      ]
     },
     "execution_count": 5,
     "metadata": {},
     "output_type": "execute_result"
    }
   ],
   "source": [
    "'''Polymorphism is a fundamental concept in object-oriented programming (OOP) that refers to the ability of a single entity (like a method, operator, or object) to represent different types in different scenarios¹²⁴. In Python, polymorphism allows a single operator, function, or class method to have multiple uses.\n",
    "\n",
    "Here's how polymorphism is related to OOP and how it works in Python:\n",
    "\n",
    "1. **Polymorphism with Operators and Functions**: A single operator or function can perform different operations based on the context. For example, the `+` operator performs arithmetic addition for numbers and concatenation for strings². Similarly, built-in functions like `len()` can work with many data types.\n",
    "\n",
    "2. **Polymorphism with Class Methods**: Python allows different classes to have methods with the same name¹². For instance, you can create a `for` loop that iterates through a tuple of objects and call the methods without being concerned about which class type each object is.\n",
    "\n",
    "3. **Polymorphism with Inheritance**: In Python, polymorphism lets us define methods in the child class with the same name as the methods in the parent class¹. The child class inherits the methods from the parent class, but it's possible to modify a method in the child class that it has inherited from the parent class¹. This process of re-implementing a method in the child class is known as Method Overriding.\n",
    "\n",
    "In summary, polymorphism is a crucial aspect of OOP that makes Python a more efficient language³. It enables you to write functions that are agnostic to the specific types of objects they handle, leading to code that's not only more flexible but also more expressive'''"
   ]
  },
  {
   "cell_type": "code",
   "execution_count": 6,
   "id": "954e504c-8917-42d4-938f-0a068674f589",
   "metadata": {},
   "outputs": [],
   "source": [
    "#2. Describe the difference between compile-time polymorphism and runtime polymorphism in Python.\n"
   ]
  },
  {
   "cell_type": "code",
   "execution_count": 7,
   "id": "0f66ab1e-11fb-4d3a-9b0d-90fd7b21cb25",
   "metadata": {},
   "outputs": [
    {
     "data": {
      "text/plain": [
       "\"In the context of object-oriented programming, polymorphism refers to the ability of an object to take on many forms. The two main types of polymorphism are compile-time polymorphism and runtime polymorphism.\\n\\n1. **Compile-Time Polymorphism**: Also known as static or early binding, compile-time polymorphism occurs when the object is bound with its functionality at compile time. In Python, this is typically achieved through method overloading, where multiple methods in a class have the same name but different parameters¹². However, Python does not support method overloading directly. But we can achieve something similar to method overloading by providing default values to arguments or using variable-length arguments.\\n\\n2. **Runtime Polymorphism**: Also known as dynamic or late binding, runtime polymorphism occurs when the object is bound with its functionality at runtime¹². In Python, this is typically achieved through method overriding, where a subclass provides a specific implementation for a method that is already defined in its superclass¹². The correct method to call is determined at runtime based on the actual object type.\\n\\nHere's a summary of the differences between compile-time and runtime polymorphism:\\n\\n- **Resolution**: In compile-time polymorphism, the call is resolved by the compiler. In runtime polymorphism, the call is not resolved by the compiler.\\n- **Binding**: Compile-time polymorphism is also known as static binding, early binding, and overloading. Runtime polymorphism is also known as dynamic binding, late binding, and overriding.\\n- **Performance**: Compile-time polymorphism is generally faster because the method to execute is known at compile tim⁵. Runtime polymorphism might be slower because the method to execute is determined at runtime.\\n\\nRemember, Python is a dynamically-typed language, so the distinction between compile-time and runtime polymorphism is not as clear as in statically-typed languages like Java or C++\""
      ]
     },
     "execution_count": 7,
     "metadata": {},
     "output_type": "execute_result"
    }
   ],
   "source": [
    "'''In the context of object-oriented programming, polymorphism refers to the ability of an object to take on many forms. The two main types of polymorphism are compile-time polymorphism and runtime polymorphism.\n",
    "\n",
    "1. **Compile-Time Polymorphism**: Also known as static or early binding, compile-time polymorphism occurs when the object is bound with its functionality at compile time. In Python, this is typically achieved through method overloading, where multiple methods in a class have the same name but different parameters¹². However, Python does not support method overloading directly. But we can achieve something similar to method overloading by providing default values to arguments or using variable-length arguments.\n",
    "\n",
    "2. **Runtime Polymorphism**: Also known as dynamic or late binding, runtime polymorphism occurs when the object is bound with its functionality at runtime¹². In Python, this is typically achieved through method overriding, where a subclass provides a specific implementation for a method that is already defined in its superclass¹². The correct method to call is determined at runtime based on the actual object type.\n",
    "\n",
    "Here's a summary of the differences between compile-time and runtime polymorphism:\n",
    "\n",
    "- **Resolution**: In compile-time polymorphism, the call is resolved by the compiler. In runtime polymorphism, the call is not resolved by the compiler.\n",
    "- **Binding**: Compile-time polymorphism is also known as static binding, early binding, and overloading. Runtime polymorphism is also known as dynamic binding, late binding, and overriding.\n",
    "- **Performance**: Compile-time polymorphism is generally faster because the method to execute is known at compile tim⁵. Runtime polymorphism might be slower because the method to execute is determined at runtime.\n",
    "\n",
    "Remember, Python is a dynamically-typed language, so the distinction between compile-time and runtime polymorphism is not as clear as in statically-typed languages like Java or C++'''"
   ]
  },
  {
   "cell_type": "code",
   "execution_count": 8,
   "id": "2cbbdcfc-b319-4ea8-b886-852378780030",
   "metadata": {},
   "outputs": [],
   "source": [
    "#3. Create a Python class hierarchy for shapes (e.g., circle, square, triangle) and demonstrate polymorphismthrough a common method, such as `calculate_area()'.\n"
   ]
  },
  {
   "cell_type": "code",
   "execution_count": 9,
   "id": "9862ffa0-65bf-489c-9521-4c952746c9c0",
   "metadata": {},
   "outputs": [
    {
     "name": "stdout",
     "output_type": "stream",
     "text": [
      "78.53981633974483\n",
      "16\n",
      "9.0\n"
     ]
    }
   ],
   "source": [
    "from math import pi\n",
    "\n",
    "class Shape:\n",
    "    def calculate_area(self):\n",
    "        pass\n",
    "\n",
    "class Circle(Shape):\n",
    "    def __init__(self, radius):\n",
    "        self.radius = radius\n",
    "\n",
    "    def calculate_area(self):\n",
    "        return pi * self.radius ** 2\n",
    "\n",
    "class Square(Shape):\n",
    "    def __init__(self, side):\n",
    "        self.side = side\n",
    "\n",
    "    def calculate_area(self):\n",
    "        return self.side ** 2\n",
    "\n",
    "class Triangle(Shape):\n",
    "    def __init__(self, base, height):\n",
    "        self.base = base\n",
    "        self.height = height\n",
    "\n",
    "    def calculate_area(self):\n",
    "        return 0.5 * self.base * self.height\n",
    "\n",
    "circle = Circle(5)\n",
    "print(circle.calculate_area()) \n",
    "\n",
    "square = Square(4)\n",
    "print(square.calculate_area())  \n",
    "\n",
    "triangle = Triangle(3, 6)\n",
    "print(triangle.calculate_area())  "
   ]
  },
  {
   "cell_type": "code",
   "execution_count": 10,
   "id": "f07d97e6-d9f4-4fb5-8626-2d4e789f44cf",
   "metadata": {},
   "outputs": [],
   "source": [
    "#4. Explain the concept of method overriding in polymorphism Provide an example."
   ]
  },
  {
   "cell_type": "code",
   "execution_count": 11,
   "id": "c867fb77-b901-400c-a887-b6d2b78b21ea",
   "metadata": {},
   "outputs": [
    {
     "data": {
      "text/plain": [
       "'Method overriding is a feature of object-oriented programming that allows a subclass to provide a specific implementation of a method that is already provided by its superclass. It\\'s a key aspect of polymorphism, which refers to the ability of a single entity to represent different types in different scenarios.\\n\\nWhen a method in a subclass has the same name, same parameters, and same return type as a method in its superclass, the method in the subclass is said to override the method in the superclass². The version of a method that is executed will be determined by the object that is used to invoke it.\\n\\nHere\\'s an example in Python:\\n\\n```python\\nclass Parent:\\n    def show(self):\\n        print(\"Inside Parent\")\\n\\nclass Child(Parent):\\n    def show(self):\\n        print(\"Inside Child\")\\n\\nobj1 = Parent()\\nobj2 = Child()\\n\\nobj1.show()  # Output: Inside Parent\\nobj2.show()  # Output: Inside Child\\n```\\n\\nIn this example, the `Child` class overrides the `show` method of the `Parent` class. When we call the `show` method on an object of the `Parent` class, the message \"Inside Parent\" is printed². When we call the `show` method on an object of the `Child` class, the message \"Inside Child\" is printed². This is because the `Child` class provides its own implementation of the `show` method.\\n\\nIn summary, method overriding is a form of runtime polymorphism where the call to an overridden method is resolved at runtime, not at compile time. This allows subclasses to define how they should behave in a way that\\'s appropriate for them, while still fitting into the general behavior defined by their superclass'"
      ]
     },
     "execution_count": 11,
     "metadata": {},
     "output_type": "execute_result"
    }
   ],
   "source": [
    "'''Method overriding is a feature of object-oriented programming that allows a subclass to provide a specific implementation of a method that is already provided by its superclass. It's a key aspect of polymorphism, which refers to the ability of a single entity to represent different types in different scenarios.\n",
    "\n",
    "When a method in a subclass has the same name, same parameters, and same return type as a method in its superclass, the method in the subclass is said to override the method in the superclass². The version of a method that is executed will be determined by the object that is used to invoke it.\n",
    "\n",
    "Here's an example in Python:\n",
    "\n",
    "```python\n",
    "class Parent:\n",
    "    def show(self):\n",
    "        print(\"Inside Parent\")\n",
    "\n",
    "class Child(Parent):\n",
    "    def show(self):\n",
    "        print(\"Inside Child\")\n",
    "\n",
    "obj1 = Parent()\n",
    "obj2 = Child()\n",
    "\n",
    "obj1.show()  # Output: Inside Parent\n",
    "obj2.show()  # Output: Inside Child\n",
    "```\n",
    "\n",
    "In this example, the `Child` class overrides the `show` method of the `Parent` class. When we call the `show` method on an object of the `Parent` class, the message \"Inside Parent\" is printed². When we call the `show` method on an object of the `Child` class, the message \"Inside Child\" is printed². This is because the `Child` class provides its own implementation of the `show` method.\n",
    "\n",
    "In summary, method overriding is a form of runtime polymorphism where the call to an overridden method is resolved at runtime, not at compile time. This allows subclasses to define how they should behave in a way that's appropriate for them, while still fitting into the general behavior defined by their superclass'''\n"
   ]
  },
  {
   "cell_type": "code",
   "execution_count": 12,
   "id": "f68ef080-8c61-4f31-a861-768bea780936",
   "metadata": {},
   "outputs": [],
   "source": [
    "#5. How is polymorphism different from method overloading in Python? Provide examples for both.\n"
   ]
  },
  {
   "cell_type": "code",
   "execution_count": 13,
   "id": "90a77234-27ac-4ae6-b4d2-5bb5c1ba3cfc",
   "metadata": {},
   "outputs": [
    {
     "data": {
      "text/plain": [
       "'Polymorphism and method overloading are both concepts in object-oriented programming, but they serve different purposes.\\n\\n**Polymorphism** refers to the ability of a single entity (like a method, operator, or object) to represent different types in different scenarios¹². In Python, polymorphism allows a single operator, function, or class method to have multiple uses¹². For example, the `+` operator performs arithmetic addition for numbers and concatenation for strings¹².\\n\\nHere\\'s an example of polymorphism in Python:\\n\\n```python\\nprint(len(\"geeks\"))  # Output: 5\\nprint(len([10, 20, 30]))  # Output: 3\\n```\\n\\nIn this example, the `len()` function is used with a string and a list, demonstrating polymorphism.\\n\\n**Method Overloading**, on the other hand, is a feature that allows a class to have more than one method with the same name, but with different parameters. However, Python does not support method overloading directly. But we can achieve something similar to method overloading by providing default values to arguments or using variable-length arguments.\\n\\nHere\\'s an example of how you might achieve something similar to method overloading in Python:\\n\\n```python\\ndef add(x, y, z=0):\\n    return x + y + z\\n\\nprint(add(2, 3))  # Output: 5\\nprint(add(2, 3, 4))  # Output: 9\\n```\\n\\nIn this example, the `add()` function can be called with either two or three arguments, demonstrating a form of method overloading¹².\\n\\nIn summary, while both polymorphism and method overloading allow methods to have multiple uses, they do so in different ways¹²⁴. Polymorphism allows a single method to have multiple uses based on the context, while method overloading allows multiple methods with the same name but different parameters'"
      ]
     },
     "execution_count": 13,
     "metadata": {},
     "output_type": "execute_result"
    }
   ],
   "source": [
    "'''Polymorphism and method overloading are both concepts in object-oriented programming, but they serve different purposes.\n",
    "\n",
    "**Polymorphism** refers to the ability of a single entity (like a method, operator, or object) to represent different types in different scenarios¹². In Python, polymorphism allows a single operator, function, or class method to have multiple uses¹². For example, the `+` operator performs arithmetic addition for numbers and concatenation for strings¹².\n",
    "\n",
    "Here's an example of polymorphism in Python:\n",
    "\n",
    "```python\n",
    "print(len(\"geeks\"))  # Output: 5\n",
    "print(len([10, 20, 30]))  # Output: 3\n",
    "```\n",
    "\n",
    "In this example, the `len()` function is used with a string and a list, demonstrating polymorphism.\n",
    "\n",
    "**Method Overloading**, on the other hand, is a feature that allows a class to have more than one method with the same name, but with different parameters. However, Python does not support method overloading directly. But we can achieve something similar to method overloading by providing default values to arguments or using variable-length arguments.\n",
    "\n",
    "Here's an example of how you might achieve something similar to method overloading in Python:\n",
    "\n",
    "```python\n",
    "def add(x, y, z=0):\n",
    "    return x + y + z\n",
    "\n",
    "print(add(2, 3))  # Output: 5\n",
    "print(add(2, 3, 4))  # Output: 9\n",
    "```\n",
    "\n",
    "In this example, the `add()` function can be called with either two or three arguments, demonstrating a form of method overloading¹².\n",
    "\n",
    "In summary, while both polymorphism and method overloading allow methods to have multiple uses, they do so in different ways¹²⁴. Polymorphism allows a single method to have multiple uses based on the context, while method overloading allows multiple methods with the same name but different parameters'''"
   ]
  },
  {
   "cell_type": "code",
   "execution_count": 14,
   "id": "7a075f1a-e0cc-4b21-ac5a-ad42a2d2f8f0",
   "metadata": {},
   "outputs": [
    {
     "name": "stdout",
     "output_type": "stream",
     "text": [
      "Woof!\n",
      "Meow!\n",
      "Chirp!\n"
     ]
    }
   ],
   "source": [
    "#6 Create a Python class called `Animal` with a method `speak()`. Then, create child classes like `Dog`, `Cat`, and `Bird`, each with their own `speak()` method. Demonstrate polymorphism by calling the `speak()` method on objects of different subclasses.\n",
    "class Animal:\n",
    "    def speak(self):\n",
    "        pass\n",
    "\n",
    "class Dog(Animal):\n",
    "    def speak(self):\n",
    "        return \"Woof!\"\n",
    "\n",
    "class Cat(Animal):\n",
    "    def speak(self):\n",
    "        return \"Meow!\"\n",
    "\n",
    "class Bird(Animal):\n",
    "    def speak(self):\n",
    "        return \"Chirp!\"\n",
    "\n",
    "# Create instances of each class\n",
    "dog = Dog()\n",
    "cat = Cat()\n",
    "bird = Bird()\n",
    "\n",
    "# Call the speak method on each instance\n",
    "print(dog.speak())  \n",
    "print(cat.speak())  \n",
    "print(bird.speak()) "
   ]
  },
  {
   "cell_type": "code",
   "execution_count": 15,
   "id": "6cfdb6b4-04cb-4034-8f4b-4cefe697eb7f",
   "metadata": {},
   "outputs": [],
   "source": [
    "#7. Discuss the use of abstract methods and classes in achieving polymorphism in Python. Provide an exampleusing the `abc` module."
   ]
  },
  {
   "cell_type": "code",
   "execution_count": 16,
   "id": "aa4f2075-2ac1-47da-8c4c-8201d31f0db9",
   "metadata": {},
   "outputs": [
    {
     "data": {
      "text/plain": [
       "\"Abstract methods and classes play a crucial role in achieving polymorphism in Python. \\n\\nAn **abstract class** is a class that contains one or more abstract methods An **abstract method** is a method declared in an abstract class but does not contain any implementation. Subclasses of this abstract class are generally expected to provide an implementation for these abstract methods.\\n\\nIn Python, abstract classes and methods are defined using the `abc` module. The `ABC` class that comes with the `abc` module is meant to be used as a base class for other classes. The `abstractmethod` decorator can be applied to a method to declare it as abstract.\\n\\nHere's an example:\\n\\n```python\\nfrom abc import ABC, abstractmethod\\n\\nclass Shape(ABC):\\n    @abstractmethod\\n    def area(self):\\n        pass\\n\\nclass Rectangle(Shape):\\n    def __init__(self, width, height):\\n        self.width = width\\n        self.height = height\\n\\n    def area(self):\\n        return self.width * self.height\\n\\nclass Circle(Shape):\\n    def __init__(self, radius):\\n        self.radius = radius\\n\\n    def area(self):\\n        return 3.14 * self.radius ** \\n```\\n\\nIn this example, `Shape` is an abstract base class with an abstract method `area()`. `Rectangle` and `Circle` are concrete classes that inherit from `Shape` and provide their own implementations of the `area()` method. This is an example of polymorphism, as the `area()` method behaves differently depending on whether it's called on an object of type `Rectangle` or `Circle\""
      ]
     },
     "execution_count": 16,
     "metadata": {},
     "output_type": "execute_result"
    }
   ],
   "source": [
    "'''Abstract methods and classes play a crucial role in achieving polymorphism in Python. \n",
    "\n",
    "An **abstract class** is a class that contains one or more abstract methods An **abstract method** is a method declared in an abstract class but does not contain any implementation. Subclasses of this abstract class are generally expected to provide an implementation for these abstract methods.\n",
    "\n",
    "In Python, abstract classes and methods are defined using the `abc` module. The `ABC` class that comes with the `abc` module is meant to be used as a base class for other classes. The `abstractmethod` decorator can be applied to a method to declare it as abstract.\n",
    "\n",
    "Here's an example:\n",
    "\n",
    "```python\n",
    "from abc import ABC, abstractmethod\n",
    "\n",
    "class Shape(ABC):\n",
    "    @abstractmethod\n",
    "    def area(self):\n",
    "        pass\n",
    "\n",
    "class Rectangle(Shape):\n",
    "    def __init__(self, width, height):\n",
    "        self.width = width\n",
    "        self.height = height\n",
    "\n",
    "    def area(self):\n",
    "        return self.width * self.height\n",
    "\n",
    "class Circle(Shape):\n",
    "    def __init__(self, radius):\n",
    "        self.radius = radius\n",
    "\n",
    "    def area(self):\n",
    "        return 3.14 * self.radius ** \n",
    "```\n",
    "\n",
    "In this example, `Shape` is an abstract base class with an abstract method `area()`. `Rectangle` and `Circle` are concrete classes that inherit from `Shape` and provide their own implementations of the `area()` method. This is an example of polymorphism, as the `area()` method behaves differently depending on whether it's called on an object of type `Rectangle` or `Circle'''"
   ]
  },
  {
   "cell_type": "code",
   "execution_count": 17,
   "id": "346971f5-b10e-4fb6-987a-a11e3bc972e5",
   "metadata": {},
   "outputs": [],
   "source": [
    "#8 Create a Python class hierarchy for a vehicle system (e.g., car, bicycle, boat) and implement a polymorphic `start()` method that prints a message specific to each vehicle type."
   ]
  },
  {
   "cell_type": "code",
   "execution_count": 18,
   "id": "4ac8dd36-498e-4a73-9de4-f3ddb15d6a7c",
   "metadata": {},
   "outputs": [
    {
     "data": {
      "text/plain": [
       "'Sure, here\\'s a simple example of a Python class hierarchy for a vehicle system that demonstrates polymorphism through a common method `start()`:\\n\\n```python\\nclass Vehicle:\\n    def start(self):\\n        pass\\n\\nclass Car(Vehicle):\\n    def start(self):\\n        return \"The car is starting with the turn of a key.\"\\n\\nclass Bicycle(Vehicle):\\n    def start(self):\\n        return \"The bicycle is starting with the push of a pedal.\"\\n\\nclass Boat(Vehicle):\\n    def start(self):\\n        return \"The boat is starting with the pull of a cord.\"\\n```\\n\\nIn this example, `Vehicle` is the base class with a method `start()`. `Car`, `Bicycle`, and `Boat` are subclasses that inherit from `Vehicle` and override the `start()` method to provide their own implementations. This is an example of polymorphism, as the `start()` method behaves differently depending on whether it\\'s called on an object of type `Car`, `Bicycle`, or `Boat`.\\n\\nYou can create instances of these classes and call `start()` on them like this:\\n\\n```python\\ncar = Car()\\nbicycle = Bicycle()\\nboat = Boat()\\n\\nprint(car.start())  # Output: The car is starting with the turn of a key.\\nprint(bicycle.start())  # Output: The bicycle is starting with the push of a pedal.\\nprint(boat.start())  # Output: The boat is starting with the pull of a cord.\\n```\\n\\nThis demonstrates that the correct version of the `start()` method is called based on the actual object type at runtime, which is the essence of polymorphism.'"
      ]
     },
     "execution_count": 18,
     "metadata": {},
     "output_type": "execute_result"
    }
   ],
   "source": [
    "'''Sure, here's a simple example of a Python class hierarchy for a vehicle system that demonstrates polymorphism through a common method `start()`:\n",
    "\n",
    "```python\n",
    "class Vehicle:\n",
    "    def start(self):\n",
    "        pass\n",
    "\n",
    "class Car(Vehicle):\n",
    "    def start(self):\n",
    "        return \"The car is starting with the turn of a key.\"\n",
    "\n",
    "class Bicycle(Vehicle):\n",
    "    def start(self):\n",
    "        return \"The bicycle is starting with the push of a pedal.\"\n",
    "\n",
    "class Boat(Vehicle):\n",
    "    def start(self):\n",
    "        return \"The boat is starting with the pull of a cord.\"\n",
    "```\n",
    "\n",
    "In this example, `Vehicle` is the base class with a method `start()`. `Car`, `Bicycle`, and `Boat` are subclasses that inherit from `Vehicle` and override the `start()` method to provide their own implementations. This is an example of polymorphism, as the `start()` method behaves differently depending on whether it's called on an object of type `Car`, `Bicycle`, or `Boat`.\n",
    "\n",
    "You can create instances of these classes and call `start()` on them like this:\n",
    "\n",
    "```python\n",
    "car = Car()\n",
    "bicycle = Bicycle()\n",
    "boat = Boat()\n",
    "\n",
    "print(car.start())  # Output: The car is starting with the turn of a key.\n",
    "print(bicycle.start())  # Output: The bicycle is starting with the push of a pedal.\n",
    "print(boat.start())  # Output: The boat is starting with the pull of a cord.\n",
    "```\n",
    "\n",
    "This demonstrates that the correct version of the `start()` method is called based on the actual object type at runtime, which is the essence of polymorphism.'''"
   ]
  },
  {
   "cell_type": "code",
   "execution_count": 19,
   "id": "ca5b78b0-2d2a-4df0-bb9b-ad65404e0bc0",
   "metadata": {},
   "outputs": [],
   "source": [
    "#9. Explain the significance of the `isinstance()` and `issubclass()` functions in Python polymorphism.\n"
   ]
  },
  {
   "cell_type": "code",
   "execution_count": 20,
   "id": "20f5bf81-c6e6-42bf-a78f-45dae76d85ca",
   "metadata": {},
   "outputs": [
    {
     "data": {
      "text/plain": [
       "\"The `isinstance()` and `issubclass()` functions in Python play a significant role in implementing polymorphism.\\n\\n1. **`isinstance(object, classinfo)`:** This function checks if an object is an instance of a class or any of its subclasses. It returns `True` if the object is an instance of the class or other classes derived from it, and `False` otherwise. This is useful in polymorphism where a method might be called on objects of different types.\\n\\n2. **`issubclass(class, classinfo)`:** This function checks if a class is a subclass of a different class. It returns `True` if `class` is a subclass (direct, indirect or virtual) of `classinfo`. A class is considered a subclass of itself³. This function is useful when you want to check if a class inherits from another class, which is a key aspect of polymorphism.\\n\\nHere's an example:\\n\\n```python\\nclass Parent:\\n    pass\\n\\nclass Child(Parent):\\n    pass\\n\\nchild = Child()\\n\\nprint(isinstance(child, Parent))  \\nprint(issubclass(Child, Parent))  \\n```\\n\\nIn this example, `Child` is a subclass of `Parent`, and `child` is an instance of `Child`. Therefore, `isinstance(child, Parent)` returns `True` because `child` is an instance of `Child`, which is a subclass of `Parent`. Similarly, `issubclass(Child, Parent)` returns `True` because `Child` is a subclass of `Parent\""
      ]
     },
     "execution_count": 20,
     "metadata": {},
     "output_type": "execute_result"
    }
   ],
   "source": [
    "'''The `isinstance()` and `issubclass()` functions in Python play a significant role in implementing polymorphism.\n",
    "\n",
    "1. **`isinstance(object, classinfo)`:** This function checks if an object is an instance of a class or any of its subclasses. It returns `True` if the object is an instance of the class or other classes derived from it, and `False` otherwise. This is useful in polymorphism where a method might be called on objects of different types.\n",
    "\n",
    "2. **`issubclass(class, classinfo)`:** This function checks if a class is a subclass of a different class. It returns `True` if `class` is a subclass (direct, indirect or virtual) of `classinfo`. A class is considered a subclass of itself³. This function is useful when you want to check if a class inherits from another class, which is a key aspect of polymorphism.\n",
    "\n",
    "Here's an example:\n",
    "\n",
    "```python\n",
    "class Parent:\n",
    "    pass\n",
    "\n",
    "class Child(Parent):\n",
    "    pass\n",
    "\n",
    "child = Child()\n",
    "\n",
    "print(isinstance(child, Parent))  \n",
    "print(issubclass(Child, Parent))  \n",
    "```\n",
    "\n",
    "In this example, `Child` is a subclass of `Parent`, and `child` is an instance of `Child`. Therefore, `isinstance(child, Parent)` returns `True` because `child` is an instance of `Child`, which is a subclass of `Parent`. Similarly, `issubclass(Child, Parent)` returns `True` because `Child` is a subclass of `Parent'''\n"
   ]
  },
  {
   "cell_type": "code",
   "execution_count": 21,
   "id": "7d1f6846-f8a0-4a34-a14b-d92ca88d5922",
   "metadata": {},
   "outputs": [],
   "source": [
    "#10. What is the role of the `@abstractmethod` decorator in achieving polymorphism in Python? Provide anexample.\n"
   ]
  },
  {
   "cell_type": "code",
   "execution_count": 22,
   "id": "22dfceba-a865-4005-894e-203b78bdda5f",
   "metadata": {},
   "outputs": [
    {
     "data": {
      "text/plain": [
       "'The `@abstractmethod` decorator in Python plays a crucial role in achieving polymorphism. It\\'s part of the `abc` (Abstract Base Classes) module and is used to declare methods that must be implemented within any child classes.\\n\\nThe `@abstractmethod` decorator indicates that a method is an abstract method. An abstract method is a method declared in an abstract class but does not contain any implementation. Subclasses of this abstract class are generally expected to provide an implementation for these abstract methods.\\n\\nHere\\'s an example:\\n\\n```python\\nfrom abc import ABC, abstractmethod\\n\\nclass Animal(ABC):\\n    @abstractmethod\\n    def sound(self):\\n        pass\\n\\nclass Dog(Animal):\\n    def sound(self):\\n        return \"Woof!\"\\n\\nclass Cat(Animal):\\n    def sound(self):\\n        return \"Meow!\"\\n```\\n\\nIn this example, `Animal` is an abstract base class with an abstract method `sound()`. `Dog` and `Cat` are concrete classes that inherit from `Animal` and provide their own implementations of the `sound()` method. This is an example of polymorphism, as the `sound()` method behaves differently depending on whether it\\'s called on an object of type `Dog` or `Cat'"
      ]
     },
     "execution_count": 22,
     "metadata": {},
     "output_type": "execute_result"
    }
   ],
   "source": [
    "'''The `@abstractmethod` decorator in Python plays a crucial role in achieving polymorphism. It's part of the `abc` (Abstract Base Classes) module and is used to declare methods that must be implemented within any child classes.\n",
    "\n",
    "The `@abstractmethod` decorator indicates that a method is an abstract method. An abstract method is a method declared in an abstract class but does not contain any implementation. Subclasses of this abstract class are generally expected to provide an implementation for these abstract methods.\n",
    "\n",
    "Here's an example:\n",
    "\n",
    "```python\n",
    "from abc import ABC, abstractmethod\n",
    "\n",
    "class Animal(ABC):\n",
    "    @abstractmethod\n",
    "    def sound(self):\n",
    "        pass\n",
    "\n",
    "class Dog(Animal):\n",
    "    def sound(self):\n",
    "        return \"Woof!\"\n",
    "\n",
    "class Cat(Animal):\n",
    "    def sound(self):\n",
    "        return \"Meow!\"\n",
    "```\n",
    "\n",
    "In this example, `Animal` is an abstract base class with an abstract method `sound()`. `Dog` and `Cat` are concrete classes that inherit from `Animal` and provide their own implementations of the `sound()` method. This is an example of polymorphism, as the `sound()` method behaves differently depending on whether it's called on an object of type `Dog` or `Cat'''\n"
   ]
  },
  {
   "cell_type": "code",
   "execution_count": 23,
   "id": "b7031cf8-51fe-4287-a1f9-8767e2e5588b",
   "metadata": {},
   "outputs": [],
   "source": [
    "#11. Create a Python class called `Shape` with a polymorphic method `area()` that calculates the area of different shapes (e.g., circle, rectangle, triangle)."
   ]
  },
  {
   "cell_type": "code",
   "execution_count": 24,
   "id": "139d4be4-8947-49e9-8f19-1f9cc546497e",
   "metadata": {},
   "outputs": [
    {
     "name": "stdout",
     "output_type": "stream",
     "text": [
      "78.53981633974483\n",
      "20\n",
      "9.0\n"
     ]
    }
   ],
   "source": [
    "from math import pi\n",
    "\n",
    "class Shape:\n",
    "    def area(self):\n",
    "        pass\n",
    "\n",
    "class Circle(Shape):\n",
    "    def __init__(self, radius):\n",
    "        self.radius = radius\n",
    "\n",
    "    def area(self):\n",
    "        return pi * self.radius ** 2\n",
    "\n",
    "class Rectangle(Shape):\n",
    "    def __init__(self, length, width):\n",
    "        self.length = length\n",
    "        self.width = width\n",
    "\n",
    "    def area(self):\n",
    "        return self.length * self.width\n",
    "\n",
    "class Triangle(Shape):\n",
    "    def __init__(self, base, height):\n",
    "        self.base = base\n",
    "        self.height = height\n",
    "\n",
    "    def area(self):\n",
    "        return 0.5 * self.base * self.height\n",
    "\n",
    "circle = Circle(5)\n",
    "print(circle.area())  \n",
    "\n",
    "rectangle = Rectangle(4, 5)\n",
    "print(rectangle.area()) \n",
    "\n",
    "triangle = Triangle(3, 6)\n",
    "print(triangle.area())  \n",
    "\n"
   ]
  },
  {
   "cell_type": "code",
   "execution_count": 25,
   "id": "3f5a2701-1019-4e29-b232-fdc9b32cf666",
   "metadata": {},
   "outputs": [],
   "source": [
    "#12. Discuss the benefits of polymorphism in terms of code reusability and flxibility in Python programs."
   ]
  },
  {
   "cell_type": "code",
   "execution_count": 27,
   "id": "2ffb9079-d618-4f60-ab8c-2e4196ce24ad",
   "metadata": {},
   "outputs": [
    {
     "ename": "SyntaxError",
     "evalue": "invalid syntax (740507600.py, line 31)",
     "output_type": "error",
     "traceback": [
      "\u001b[0;36m  Cell \u001b[0;32mIn[27], line 31\u001b[0;36m\u001b[0m\n\u001b[0;31m    In this example, `Animal` is a base class y added without modifying the existing code'''with a method `sound()`. `Dog` and `Cat` are subclasses that inherit from `Animal` and override the `sound()` method to provide their own implementations. This is an example of polymorphism, as the `sound()` method behaves differently depending on whether it's called on an object of type `Dog` or `Cat`. This demonstrates code reusability and flexibility, as the `sound()` method written for the `Animal` class is reused in the `Dog` and `Cat` classes, and new animal classes can be easily added without modifying the existing code'''\u001b[0m\n\u001b[0m                                                                                            ^\u001b[0m\n\u001b[0;31mSyntaxError\u001b[0m\u001b[0;31m:\u001b[0m invalid syntax\n"
     ]
    }
   ],
   "source": [
    "'''Polymorphism is a fundamental concept in object-oriented programming that provides several benefits in terms of code reusability and flexibility in Python programs:\n",
    "\n",
    "1. **Code Reusability**: Polymorphism allows you to reuse the code written for the base class, reducing redundancy and promoting cleaner, more concise code. This can save a lot of time and effort.\n",
    "\n",
    "2. **Flexibility and Extensibility**: With polymorphism, you can add new derived classes without modifying existing code. This makes your codebase more flexible and easily extensible. It also simplifies code maintenance¹.\n",
    "\n",
    "Here's an example of polymorphism in Python:\n",
    "\n",
    "```python\n",
    "class Animal:\n",
    "    def sound(self):\n",
    "        pass\n",
    "\n",
    "class Dog(Animal):\n",
    "    def sound(self):\n",
    "        return \"Woof!\"\n",
    "\n",
    "class Cat(Animal):\n",
    "    def sound(self):\n",
    "        return \"Meow!\"\n",
    "\n",
    "# Create instances of each class\n",
    "dog = Dog()\n",
    "cat = Cat()\n",
    "\n",
    "# Call the sound method on each instance\n",
    "print(dog.sound())  \n",
    "print(cat.sound())  \n",
    "```\n",
    "\n",
    "In this example, `Animal` is a base class y added without modifying the existing code'''with a method `sound()`. `Dog` and `Cat` are subclasses that inherit from `Animal` and override the `sound()` method to provide their own implementations. This is an example of polymorphism, as the `sound()` method behaves differently depending on whether it's called on an object of type `Dog` or `Cat`. This demonstrates code reusability and flexibility, as the `sound()` method written for the `Animal` class is reused in the `Dog` and `Cat` classes, and new animal classes can be easily added without modifying the existing code'''\n"
   ]
  },
  {
   "cell_type": "code",
   "execution_count": 28,
   "id": "21149e33-2f1c-43cf-8540-abc26a5dda6a",
   "metadata": {},
   "outputs": [],
   "source": [
    "#13. Explain the use of the `super()` function in Python polymorphism. How does it help call methods of parent classes?"
   ]
  },
  {
   "cell_type": "code",
   "execution_count": 92,
   "id": "7a1028b7-e74e-4a8a-9c2c-8a98ae25702b",
   "metadata": {},
   "outputs": [
    {
     "data": {
      "text/plain": [
       "\"The `super()` function in Python plays a crucial role in achieving polymorphism. It's used to call methods from the superclass within the context of the subclass. This enables the subclass to access and execute the method defined in the superclass, while still retaining the ability to customize the method’s behavior based on its specific requirements.\\n\\nThe `super()` function is typically used in the `__init__` method of a subclass to ensure that the initialization code in the superclass gets run, but it can be used to call any method in the superclass.\\n\\nHere's an example:\\n\\n```python\\nclass Parent:\\n    def __init__(self, name):\\n        self.name = name\\n\\nclass Child(Parent):\\n    def __init__(self, name, age):\\n        super().__init__(name)\\n        self.age = age\\n```\\n\\nIn this example, the `Child` class inherits from the `Parent` class. In the `__init__` method of the `Child` class, we use `super().__init__(name)` to call the `__init__` method of the `Parent` class. This allows us to initialize the `name` attribute in the `Parent` class, while also adding an additional `age` attribute in the `Child` class.\\n\\nIn summary, the `super()` function is a built-in function in Python that's used to call methods from the superclass. It plays a key role in achieving polymorphism, as it allows a subclass to both inherit methods from the superclass and also to override or extend these methods\""
      ]
     },
     "execution_count": 92,
     "metadata": {},
     "output_type": "execute_result"
    }
   ],
   "source": [
    "'''The `super()` function in Python plays a crucial role in achieving polymorphism. It's used to call methods from the superclass within the context of the subclass. This enables the subclass to access and execute the method defined in the superclass, while still retaining the ability to customize the method’s behavior based on its specific requirements.\n",
    "\n",
    "The `super()` function is typically used in the `__init__` method of a subclass to ensure that the initialization code in the superclass gets run, but it can be used to call any method in the superclass.\n",
    "\n",
    "Here's an example:\n",
    "\n",
    "```python\n",
    "class Parent:\n",
    "    def __init__(self, name):\n",
    "        self.name = name\n",
    "\n",
    "class Child(Parent):\n",
    "    def __init__(self, name, age):\n",
    "        super().__init__(name)\n",
    "        self.age = age\n",
    "```\n",
    "\n",
    "In this example, the `Child` class inherits from the `Parent` class. In the `__init__` method of the `Child` class, we use `super().__init__(name)` to call the `__init__` method of the `Parent` class. This allows us to initialize the `name` attribute in the `Parent` class, while also adding an additional `age` attribute in the `Child` class.\n",
    "\n",
    "In summary, the `super()` function is a built-in function in Python that's used to call methods from the superclass. It plays a key role in achieving polymorphism, as it allows a subclass to both inherit methods from the superclass and also to override or extend these methods'''"
   ]
  },
  {
   "cell_type": "code",
   "execution_count": 30,
   "id": "fed7d687-6e65-4ff6-b80e-56ec79520d63",
   "metadata": {},
   "outputs": [],
   "source": [
    "#14. Create a Python class hierarchy for a banking system with various account types (e.g., savings, checking, credit card) and demonstrate polymorphism by implementing a common `withdraw()` method."
   ]
  },
  {
   "cell_type": "code",
   "execution_count": 33,
   "id": "13566cac-27eb-4566-8c38-8a31e8d686fa",
   "metadata": {},
   "outputs": [
    {
     "name": "stdout",
     "output_type": "stream",
     "text": [
      "500\n",
      "Insufficient balance.\n",
      "2000\n",
      "-500\n"
     ]
    }
   ],
   "source": [
    "class Account:\n",
    "    def __init__(self, balance):\n",
    "        self.balance = balance\n",
    "\n",
    "    def withdraw(self, amount):\n",
    "        pass\n",
    "\n",
    "class SavingsAccount(Account):\n",
    "    def __init__(self, balance):\n",
    "        super().__init__(balance)\n",
    "\n",
    "    def withdraw(self, amount):\n",
    "        if amount <= self.balance:\n",
    "            self.balance -= amount\n",
    "        else:\n",
    "            print(\"Insufficient balance.\")\n",
    "        return self.balance\n",
    "\n",
    "class CheckingAccount(Account):\n",
    "    def __init__(self, balance):\n",
    "        super().__init__(balance)\n",
    "\n",
    "    def withdraw(self, amount):\n",
    "        if amount <= self.balance:\n",
    "            self.balance -= amount\n",
    "        else:\n",
    "            print(\"Insufficient balance.\")\n",
    "        return self.balance\n",
    "\n",
    "class CreditCardAccount(Account):\n",
    "    def __init__(self, balance):\n",
    "        super().__init__(balance)\n",
    "\n",
    "    def withdraw(self, amount):\n",
    "        if amount <= self.balance + 5000:  # Overdraft limit is 5000\n",
    "            self.balance -= amount\n",
    "        else:\n",
    "            print(\"Credit limit exceeded.\")\n",
    "        return self.balance\n",
    "\n",
    "\n",
    "savings = SavingsAccount(1000)\n",
    "checking = CheckingAccount(2000)\n",
    "credit_card = CreditCardAccount(3000)\n",
    "\n",
    "print(savings.withdraw(500))  \n",
    "print(checking.withdraw(2500)) \n",
    "print(credit_card.withdraw(3500)) \n",
    "\n"
   ]
  },
  {
   "cell_type": "code",
   "execution_count": 34,
   "id": "4d358ee8-dbac-4069-aeef-c2dec1ec4d4f",
   "metadata": {},
   "outputs": [],
   "source": [
    "#15. Describe the concept of operator overloading in Python and how it relates to polymorphism. Provideexamples using operators like `+` and `*`."
   ]
  },
  {
   "cell_type": "code",
   "execution_count": 35,
   "id": "d2291d91-d711-40af-b755-a4e88339cd30",
   "metadata": {},
   "outputs": [
    {
     "data": {
      "text/plain": [
       "'Operator overloading is a form of polymorphism in Python that allows operators to have extended meanings beyond their predefined operational functions. It refers to the ability of an operator to behave differently based on the type of operands being used.\\n\\nFor example, the `+` operator can perform arithmetic addition when used with numbers, and it can perform concatenation when used with strings. Similarly, the `*` operator can perform multiplication when used with numbers, and it can repeat a string a certain number of times when used with a string and a number.\\n\\nHere\\'s an example:\\n\\npython\\n# Using + operator with numbers\\nprint(1 + 2)  # Output: 3\\n\\n# Using + operator with strings\\nprint(\"Hello \" + \"World!\")  # Output: Hello World!\\n\\n# Using * operator with numbers\\nprint(3 * 4)  # Output: 12\\n\\n# Using * operator with a string and a number\\nprint(\"Hello \" * 3)  # Output: Hello Hello Hello \\n\\n\\nIn Python, you can also overload operators for custom classes by defining special methods, also known as magic methods. For example, you can overload the `+` operator for a custom class `A` like this:\\n\\npython\\nclass A:\\n    def __init__(self, a):\\n        self.a = a\\n\\n    def __add__(self, other):\\n        return self.a + other.a\\n\\nob1 = A(1)\\nob2 = A(2)\\nprint(ob1 + ob2) \\n\\n\\nIn this example, the `__add__` magic method is defined to overload the `+` operator for the `A` class. When we use the `+` operator with objects of the `A` class, the `__add__` method is called'"
      ]
     },
     "execution_count": 35,
     "metadata": {},
     "output_type": "execute_result"
    }
   ],
   "source": [
    "'''Operator overloading is a form of polymorphism in Python that allows operators to have extended meanings beyond their predefined operational functions. It refers to the ability of an operator to behave differently based on the type of operands being used.\n",
    "\n",
    "For example, the `+` operator can perform arithmetic addition when used with numbers, and it can perform concatenation when used with strings. Similarly, the `*` operator can perform multiplication when used with numbers, and it can repeat a string a certain number of times when used with a string and a number.\n",
    "\n",
    "Here's an example:\n",
    "\n",
    "python\n",
    "# Using + operator with numbers\n",
    "print(1 + 2)  # Output: 3\n",
    "\n",
    "# Using + operator with strings\n",
    "print(\"Hello \" + \"World!\")  # Output: Hello World!\n",
    "\n",
    "# Using * operator with numbers\n",
    "print(3 * 4)  # Output: 12\n",
    "\n",
    "# Using * operator with a string and a number\n",
    "print(\"Hello \" * 3)  # Output: Hello Hello Hello \n",
    "\n",
    "\n",
    "In Python, you can also overload operators for custom classes by defining special methods, also known as magic methods. For example, you can overload the `+` operator for a custom class `A` like this:\n",
    "\n",
    "python\n",
    "class A:\n",
    "    def __init__(self, a):\n",
    "        self.a = a\n",
    "\n",
    "    def __add__(self, other):\n",
    "        return self.a + other.a\n",
    "\n",
    "ob1 = A(1)\n",
    "ob2 = A(2)\n",
    "print(ob1 + ob2) \n",
    "\n",
    "\n",
    "In this example, the `__add__` magic method is defined to overload the `+` operator for the `A` class. When we use the `+` operator with objects of the `A` class, the `__add__` method is called'''"
   ]
  },
  {
   "cell_type": "code",
   "execution_count": 36,
   "id": "5882da57-6fd0-4f87-8b91-ce1c900770e2",
   "metadata": {},
   "outputs": [],
   "source": [
    "#16. What is dynamic polymorphism, and how is it achieved in Python?"
   ]
  },
  {
   "cell_type": "code",
   "execution_count": 71,
   "id": "b372640f-3924-413b-a8c8-a1a8c25955b4",
   "metadata": {},
   "outputs": [
    {
     "name": "stdout",
     "output_type": "stream",
     "text": [
      "Woof!\n",
      "Meow!\n"
     ]
    },
    {
     "data": {
      "text/plain": [
       "\"In this example, `Animal` is a base class with a method `sound()`. `Dog` and `Cat` are subclasses that inherit from `Animal` and override the `sound()` method to provide their own implementations. This is an example of dynamic polymorphism, as the `sound()` method behaves differently depending on whether it's called on an object of type `Dog` or `Cat`\""
      ]
     },
     "execution_count": 71,
     "metadata": {},
     "output_type": "execute_result"
    }
   ],
   "source": [
    "'''Dynamic polymorphism, also known as runtime polymorphism, is a concept in object-oriented programming where the exact method that should be called is determined at runtime. It's a form of polymorphism that allows us to override methods in subclasses.\n",
    "\n",
    "In Python, dynamic polymorphism is achieved through method overriding and duck typing. Method overriding allows a subclass to provide a different implementation of a method that is already defined in its superclass. Duck typing is a concept related to dynamic typing, where the type or the class of an object is less important than the methods it defines. When you use duck typing, you do not check types at all. Instead, you check for the presence of a given method or attribute.'''\n",
    "\n",
    "#Here's an example of dynamic polymorphism in Python:\n",
    "\n",
    "\n",
    "class Animal:\n",
    "    def sound(self):\n",
    "        pass\n",
    "\n",
    "class Dog(Animal):\n",
    "    def sound(self):\n",
    "        return \"Woof!\"\n",
    "\n",
    "class Cat(Animal):\n",
    "    def sound(self):\n",
    "        return \"Meow!\"\n",
    "\n",
    "# Create instances of each class\n",
    "dog = Dog()\n",
    "cat = Cat()\n",
    "\n",
    "# Call the sound method on each instance\n",
    "print(dog.sound())  # Output: Woof!\n",
    "print(cat.sound())  # Output: Meow!\n",
    "\n",
    "\n",
    "'''In this example, `Animal` is a base class with a method `sound()`. `Dog` and `Cat` are subclasses that inherit from `Animal` and override the `sound()` method to provide their own implementations. This is an example of dynamic polymorphism, as the `sound()` method behaves differently depending on whether it's called on an object of type `Dog` or `Cat`'''\n"
   ]
  },
  {
   "cell_type": "code",
   "execution_count": 40,
   "id": "35eba2a1-0021-4e06-9f4d-1b452c892ce7",
   "metadata": {},
   "outputs": [],
   "source": [
    "#17. Create a Python class hierarchy for employees in a company (e.g., manager, developer, designer) and implement polymorphism through a common `calculate_salary()` method."
   ]
  },
  {
   "cell_type": "code",
   "execution_count": 41,
   "id": "500cda2b-16a5-44ff-be28-c3570043b160",
   "metadata": {},
   "outputs": [
    {
     "name": "stdout",
     "output_type": "stream",
     "text": [
      "6000\n",
      "4200\n",
      "4000\n"
     ]
    }
   ],
   "source": [
    "class Employee:\n",
    "    def __init__(self, name, base_salary):\n",
    "        self.name = name\n",
    "        self.base_salary = base_salary\n",
    "\n",
    "    def calculate_salary(self):\n",
    "        pass\n",
    "\n",
    "class Manager(Employee):\n",
    "    def __init__(self, name, base_salary, bonus):\n",
    "        super().__init__(name, base_salary)\n",
    "        self.bonus = bonus\n",
    "\n",
    "    def calculate_salary(self):\n",
    "        return self.base_salary + self.bonus\n",
    "\n",
    "class Developer(Employee):\n",
    "    def __init__(self, name, base_salary, overtime_hours):\n",
    "        super().__init__(name, base_salary)\n",
    "        self.overtime_hours = overtime_hours\n",
    "\n",
    "    def calculate_salary(self):\n",
    "        return self.base_salary + (self.overtime_hours * 20)\n",
    "\n",
    "class Designer(Employee):\n",
    "    def __init__(self, name, base_salary, extra_projects):\n",
    "        super().__init__(name, base_salary)\n",
    "        self.extra_projects = extra_projects\n",
    "\n",
    "    def calculate_salary(self):\n",
    "        return self.base_salary + (self.extra_projects * 200)\n",
    "manager = Manager(\"Alice\", 5000, 1000)\n",
    "developer = Developer(\"Bob\", 4000, 10)\n",
    "designer = Designer(\"Charlie\", 3000, 5)\n",
    "\n",
    "print(manager.calculate_salary())  \n",
    "print(developer.calculate_salary())\n",
    "print(designer.calculate_salary())  \n"
   ]
  },
  {
   "cell_type": "code",
   "execution_count": 42,
   "id": "7a7a7afe-0e45-4277-9a5c-9f3c2565b5e8",
   "metadata": {},
   "outputs": [],
   "source": [
    "#18. Discuss the concept of function pointers and how they can be used to achieve polymorphism in Python."
   ]
  },
  {
   "cell_type": "code",
   "execution_count": 72,
   "id": "384899de-aa17-43f4-97b0-39ae358bf88a",
   "metadata": {},
   "outputs": [
    {
     "data": {
      "text/plain": [
       "'Function pointers, also known as first-class functions, are a feature of Python that contribute to its support for polymorphism. In Python, functions are first-class objects, which means they can be passed around and used as arguments, just like any other object (string, int, float, list, etc.).\\n\\nHere\\'s an example of how function pointers can be used to achieve polymorphism in Python:\\n\\n```python\\ndef shout(text):\\n    return text.upper()\\n\\ndef whisper(text):\\n    return text.lower()\\n\\ndef greet(func):\\n    # greeting is assigned the function passed in\\n    greeting = func(\"Hi, I am a Python function\")\\n    print(greeting)\\n\\ngreet(shout)\\ngreet(whisper)\\n```\\n\\nIn this example, `greet()` is a function that takes another function as an argument `shout()` and `whisper()` are both valid arguments for `greet()`, and the behavior of `greet()` changes depending on which function it is given. This is an example of polymorphism, as the `greet()` function is able to operate on several different forms of input.\\n\\nIn summary, function pointers allow for dynamic polymorphism in Python, where the exact behavior of the code is determined at runtime. This makes the code more flexible and reusable'"
      ]
     },
     "execution_count": 72,
     "metadata": {},
     "output_type": "execute_result"
    }
   ],
   "source": [
    "'''Function pointers, also known as first-class functions, are a feature of Python that contribute to its support for polymorphism. In Python, functions are first-class objects, which means they can be passed around and used as arguments, just like any other object (string, int, float, list, etc.).\n",
    "\n",
    "Here's an example of how function pointers can be used to achieve polymorphism in Python:\n",
    "\n",
    "```python\n",
    "def shout(text):\n",
    "    return text.upper()\n",
    "\n",
    "def whisper(text):\n",
    "    return text.lower()\n",
    "\n",
    "def greet(func):\n",
    "    # greeting is assigned the function passed in\n",
    "    greeting = func(\"Hi, I am a Python function\")\n",
    "    print(greeting)\n",
    "\n",
    "greet(shout)\n",
    "greet(whisper)\n",
    "```\n",
    "\n",
    "In this example, `greet()` is a function that takes another function as an argument `shout()` and `whisper()` are both valid arguments for `greet()`, and the behavior of `greet()` changes depending on which function it is given. This is an example of polymorphism, as the `greet()` function is able to operate on several different forms of input.\n",
    "\n",
    "In summary, function pointers allow for dynamic polymorphism in Python, where the exact behavior of the code is determined at runtime. This makes the code more flexible and reusable'''"
   ]
  },
  {
   "cell_type": "code",
   "execution_count": 44,
   "id": "cbd7a237-d53f-4950-88c8-6dff7e101e4a",
   "metadata": {},
   "outputs": [],
   "source": [
    "#19. Explain the role of interfaces and abstract classes in polymorphism, drawing comparisons between them."
   ]
  },
  {
   "cell_type": "code",
   "execution_count": null,
   "id": "ce265b88-f3d4-4b26-a948-5c6cbfd3b147",
   "metadata": {},
   "outputs": [],
   "source": [
    "\n",
    "**Polymorphism** is a fundamental concept in Object-Oriented Programming (OOP) that allows objects of different types to be treated as objects of a common type¹². It has many forms and can be implemented in Java using interfaces and abstract classes².\n",
    "\n",
    "**Abstract Classes**:\n",
    "- Abstract classes are used to deal with code duplication between subclasses, as they can share common logic and data³.\n",
    "- An abstract class is a class that cannot be instantiated and is used to define a set of common properties and behaviors that can be shared by multiple subclasses⁵.\n",
    "- They allow you to define methods that are deferred; specified in the parent class but must be implemented in a descendant class⁴.\n",
    "\n",
    "**Interfaces**:\n",
    "- Interfaces define a common contract for implementors.\n",
    "- An interface is a set of abstract methods and constants that can be implemented by any class⁵.\n",
    "- If there is no common implementation to share, then use an interface³.\n",
    "\n",
    "In terms of **polymorphism**, both interfaces and abstract classes enable you to write code that does not need to know the exact type of the object it is dealing with, only that the object adheres to a certain interface or extends a certain abstract class.\n",
    "\n",
    "Here's a comparison between them:\n",
    "\n",
    "- **Commonality**: Both interfaces and abstract classes are used to create a common structure for different classes.\n",
    "- **Implementation**: Abstract classes can have implemented methods while interfaces cannot³⁵.\n",
    "- **Multiple Inheritance**: A class can implement multiple interfaces but can only inherit from one abstract class.\n",
    "- **Flexibility**: Interfaces are generally more flexible than abstract classes because they allow classes to implement multiple interfaces.\n",
    "- **Usage**: If there is a need to define a default behavior for some methods, then abstract classes are beneficial. If the focus is more on typing, interfaces would be the way to go'''"
   ]
  },
  {
   "cell_type": "code",
   "execution_count": 45,
   "id": "af74219c-c4aa-4c99-89c9-2e1f4b7afdd8",
   "metadata": {},
   "outputs": [],
   "source": [
    "#20. Create a Python class for a zoo simulation, demonstrating polymorphism with different animal types (e.g., mammals, birds, reptiles) and their behavior (e.g., eating, sleeping, making sounds)."
   ]
  },
  {
   "cell_type": "code",
   "execution_count": 46,
   "id": "7ff35dfc-2777-448a-ba8e-0f9ec671c543",
   "metadata": {},
   "outputs": [
    {
     "name": "stdout",
     "output_type": "stream",
     "text": [
      "Elephant is eating.\n",
      "Elephant is sleeping.\n",
      "Elephant is making a sound.\n",
      "Parrot is pecking at food.\n",
      "Parrot is sleeping with one eye open.\n",
      "Parrot is chirping.\n",
      "Snake is eating slowly.\n",
      "Snake is sleeping in the sun.\n",
      "Snake is hissing.\n"
     ]
    }
   ],
   "source": [
    "class Animal:\n",
    "    def __init__(self, name):\n",
    "        self.name = name\n",
    "\n",
    "    def eat(self):\n",
    "        pass\n",
    "\n",
    "    def sleep(self):\n",
    "        pass\n",
    "\n",
    "    def make_sound(self):\n",
    "        pass\n",
    "\n",
    "class Mammal(Animal):\n",
    "    def eat(self):\n",
    "        return f\"{self.name} is eating.\"\n",
    "\n",
    "    def sleep(self):\n",
    "        return f\"{self.name} is sleeping.\"\n",
    "\n",
    "    def make_sound(self):\n",
    "        return f\"{self.name} is making a sound.\"\n",
    "\n",
    "class Bird(Animal):\n",
    "    def eat(self):\n",
    "        return f\"{self.name} is pecking at food.\"\n",
    "\n",
    "    def sleep(self):\n",
    "        return f\"{self.name} is sleeping with one eye open.\"\n",
    "\n",
    "    def make_sound(self):\n",
    "        return f\"{self.name} is chirping.\"\n",
    "\n",
    "class Reptile(Animal):\n",
    "    def eat(self):\n",
    "        return f\"{self.name} is eating slowly.\"\n",
    "\n",
    "    def sleep(self):\n",
    "        return f\"{self.name} is sleeping in the sun.\"\n",
    "\n",
    "    def make_sound(self):\n",
    "        return f\"{self.name} is hissing.\"\n",
    "\n",
    "# Create instances\n",
    "elephant = Mammal(\"Elephant\")\n",
    "parrot = Bird(\"Parrot\")\n",
    "snake = Reptile(\"Snake\")\n",
    "\n",
    "# Polymorphism in action\n",
    "animals = [elephant, parrot, snake]\n",
    "for animal in animals:\n",
    "    print(animal.eat())\n",
    "    print(animal.sleep())\n",
    "    print(animal.make_sound())\n"
   ]
  },
  {
   "cell_type": "code",
   "execution_count": 47,
   "id": "19b72311-7edc-4d61-af1b-d53c7f8db3d8",
   "metadata": {},
   "outputs": [],
   "source": [
    "#Abstraction:\n",
    "#1What is abstraction in Python, and how does it relate to object-oriented programming?"
   ]
  },
  {
   "cell_type": "code",
   "execution_count": 48,
   "id": "fdb61ea5-ec18-435c-a07d-727f5fcccce6",
   "metadata": {},
   "outputs": [
    {
     "data": {
      "text/plain": [
       "'Abstraction is a core concept of object-oriented programming (OOP) that helps you encapsulate the implementation details of a class from its users. In Python, abstraction allows you to interact with a class without understanding its internal workings. This is achieved through the use of abstract interfaces and classes³.\\n\\nIn OOP, abstraction simplifies complex reality by modeling classes based on the essential properties and behaviors an object should possess. It involves hiding complex implementation details while exposing only the necessary and relevant features⁵. This allows you to focus on what an object does instead of how it does it².\\n\\nIn Python, we can achieve data abstraction by using abstract classes¹. An abstract class is a class in which one or more abstract methods are defined¹. When a method is declared inside the class without its implementation, it is known as an abstract method. Abstract methods of a base class force its child class to write the implementation of all abstract methods defined in the base class¹. If we do not implement the abstract methods of the base class in the child class, our code will give an error.\\n\\nHere\\'s an example of an abstract class in Python:\\n\\n```python\\nfrom abc import ABC, abstractmethod\\n\\nclass AbstractClassExample(ABC):\\n    @abstractmethod\\n    def do_something(self):\\n        pass\\n\\nclass AnotherSubclass(AbstractClassExample):\\n    def do_something(self):\\n        super().do_something()\\n        print(\"The subclass is doing something\")\\n\\nx = AnotherSubclass()\\nx.do_something()\\n```\\n\\nIn this example, `AbstractClassExample` is an abstract base class and `do_something` is an abstract method. The `AnotherSubclass` class inherits from `AbstractClassExample` and provides an implementation for `do_something`.\\n\\nAbstraction, along with encapsulation, inheritance, and polymorphism, forms the four fundamental concepts of OOP. It enables programmers to hide complex implementation details while just showing users the most crucial data and functions¹. This abstraction makes it easier to design modular and well-organized code, makes it simpler to understand and maintain, promotes code reuse, and improves developer collaboration '"
      ]
     },
     "execution_count": 48,
     "metadata": {},
     "output_type": "execute_result"
    }
   ],
   "source": [
    "'''Abstraction is a core concept of object-oriented programming (OOP) that helps you encapsulate the implementation details of a class from its users. In Python, abstraction allows you to interact with a class without understanding its internal workings. This is achieved through the use of abstract interfaces and classes³.\n",
    "\n",
    "In OOP, abstraction simplifies complex reality by modeling classes based on the essential properties and behaviors an object should possess. It involves hiding complex implementation details while exposing only the necessary and relevant features⁵. This allows you to focus on what an object does instead of how it does it².\n",
    "\n",
    "In Python, we can achieve data abstraction by using abstract classes¹. An abstract class is a class in which one or more abstract methods are defined¹. When a method is declared inside the class without its implementation, it is known as an abstract method. Abstract methods of a base class force its child class to write the implementation of all abstract methods defined in the base class¹. If we do not implement the abstract methods of the base class in the child class, our code will give an error.\n",
    "\n",
    "Here's an example of an abstract class in Python:\n",
    "\n",
    "```python\n",
    "from abc import ABC, abstractmethod\n",
    "\n",
    "class AbstractClassExample(ABC):\n",
    "    @abstractmethod\n",
    "    def do_something(self):\n",
    "        pass\n",
    "\n",
    "class AnotherSubclass(AbstractClassExample):\n",
    "    def do_something(self):\n",
    "        super().do_something()\n",
    "        print(\"The subclass is doing something\")\n",
    "\n",
    "x = AnotherSubclass()\n",
    "x.do_something()\n",
    "```\n",
    "\n",
    "In this example, `AbstractClassExample` is an abstract base class and `do_something` is an abstract method. The `AnotherSubclass` class inherits from `AbstractClassExample` and provides an implementation for `do_something`.\n",
    "\n",
    "Abstraction, along with encapsulation, inheritance, and polymorphism, forms the four fundamental concepts of OOP. It enables programmers to hide complex implementation details while just showing users the most crucial data and functions¹. This abstraction makes it easier to design modular and well-organized code, makes it simpler to understand and maintain, promotes code reuse, and improves developer collaboration '''"
   ]
  },
  {
   "cell_type": "code",
   "execution_count": 49,
   "id": "1cb75250-34d8-4a4e-ae01-456635d914fe",
   "metadata": {},
   "outputs": [],
   "source": [
    "#2Describe the benefits of abstraction in terms of code organization and complexity reduction."
   ]
  },
  {
   "cell_type": "code",
   "execution_count": 50,
   "id": "b8d2dc5b-ab85-43de-82d2-c4ed9cb4b2c8",
   "metadata": {},
   "outputs": [
    {
     "data": {
      "text/plain": [
       "\"\\nAbstraction in programming offers several benefits in terms of code organization and complexity reduction:\\n\\n1. **Reduced Complexity**: Abstraction hides the implementation details of a class, allowing developers to interact with the class without understanding its internal workings. This reduces the complexity of the code, making it easier to understand and manage⁴.\\n\\n2. **Code Organization**: Abstraction helps in organizing code into logical layers of related ideas, creating a more efficient data model with fewer lines of code⁶. This makes the code easier to read, debug, and maintain⁶.\\n\\n3. **Code Reusability**: Abstraction allows for creating reusable components, reducing redundancy⁴. This leads to less code duplication and promotes code reuse¹.\\n\\n4. **Ease of Maintenance**: Changes in abstracted code have minimal impact on the client code, easing maintenance⁴. This shields essential parts of the software from unnecessary complexity, enhancing code clarity, and allowing more accessible modifications in the future.\\n\\n5. **Centralization**: Abstraction helps in centralizing common functionality, which can lead to better testing and simplicity.\\n\\n6. **Efficiency**: Abstraction frees the programmer from massive details of complexity, allowing them to focus on the bigger picture. This can lead to more efficient code development.\\n\\nRemember, while abstraction is a powerful tool for managing complexity and organizing code, it's important to strike a balance. Over-abstraction can lead to unnecessary complexity and can make the code harder to understand. So, it's crucial to create abstractions that are meaningful and beneficial to your specific use case\""
      ]
     },
     "execution_count": 50,
     "metadata": {},
     "output_type": "execute_result"
    }
   ],
   "source": [
    "'''\n",
    "Abstraction in programming offers several benefits in terms of code organization and complexity reduction:\n",
    "\n",
    "1. **Reduced Complexity**: Abstraction hides the implementation details of a class, allowing developers to interact with the class without understanding its internal workings. This reduces the complexity of the code, making it easier to understand and manage⁴.\n",
    "\n",
    "2. **Code Organization**: Abstraction helps in organizing code into logical layers of related ideas, creating a more efficient data model with fewer lines of code⁶. This makes the code easier to read, debug, and maintain⁶.\n",
    "\n",
    "3. **Code Reusability**: Abstraction allows for creating reusable components, reducing redundancy⁴. This leads to less code duplication and promotes code reuse¹.\n",
    "\n",
    "4. **Ease of Maintenance**: Changes in abstracted code have minimal impact on the client code, easing maintenance⁴. This shields essential parts of the software from unnecessary complexity, enhancing code clarity, and allowing more accessible modifications in the future.\n",
    "\n",
    "5. **Centralization**: Abstraction helps in centralizing common functionality, which can lead to better testing and simplicity.\n",
    "\n",
    "6. **Efficiency**: Abstraction frees the programmer from massive details of complexity, allowing them to focus on the bigger picture. This can lead to more efficient code development.\n",
    "\n",
    "Remember, while abstraction is a powerful tool for managing complexity and organizing code, it's important to strike a balance. Over-abstraction can lead to unnecessary complexity and can make the code harder to understand. So, it's crucial to create abstractions that are meaningful and beneficial to your specific use case'''"
   ]
  },
  {
   "cell_type": "code",
   "execution_count": 55,
   "id": "6691e069-2d86-41fd-8566-aaefe2746142",
   "metadata": {},
   "outputs": [],
   "source": [
    "#3. Create a Python class called `Shape` with an abstract method `calculate_area()`. Then, create child classes (e.g., `Circle`, `Rectangle`) that implement the `calculate_area()` method. Provide an example ofusing these classes."
   ]
  },
  {
   "cell_type": "code",
   "execution_count": 56,
   "id": "9b09f02d-78b1-4d2e-984f-ae37b662a925",
   "metadata": {},
   "outputs": [
    {
     "name": "stdout",
     "output_type": "stream",
     "text": [
      "The area of the circle is: 78.53981633974483\n",
      "The area of the rectangle is: 24\n"
     ]
    }
   ],
   "source": [
    "from abc import ABC, abstractmethod\n",
    "import math\n",
    "\n",
    "class SHAPE(ABC):\n",
    "    @abstractmethod\n",
    "    def calculate_area(self):\n",
    "        pass\n",
    "\n",
    "class Circle(SHAPE):\n",
    "    def __init__(self, radius):\n",
    "        self.radius = radius\n",
    "\n",
    "    def calculate_area(self):\n",
    "        return math.pi * (self.radius ** 2)\n",
    "\n",
    "class Rectangle(SHAPE):\n",
    "    def __init__(self, length, width):\n",
    "        self.length = length\n",
    "        self.width = width\n",
    "\n",
    "    def calculate_area(self):\n",
    "        return self.length * self.width\n",
    "\n",
    "# Create instances\n",
    "circle = Circle(5)\n",
    "rectangle = Rectangle(4, 6)\n",
    "\n",
    "# Calculate areas\n",
    "print(f\"The area of the circle is: {circle.calculate_area()}\")\n",
    "print(f\"The area of the rectangle is: {rectangle.calculate_area()}\")\n"
   ]
  },
  {
   "cell_type": "code",
   "execution_count": 57,
   "id": "7d6a2721-aacb-4b36-bc99-7860433aa608",
   "metadata": {},
   "outputs": [],
   "source": [
    "#4. Explain the concept of abstract classes in Python and how they are defined using the `abc` module. Providean example."
   ]
  },
  {
   "cell_type": "code",
   "execution_count": 58,
   "id": "e893e9bd-6287-4f14-b79f-4e8355a750d9",
   "metadata": {},
   "outputs": [
    {
     "ename": "SyntaxError",
     "evalue": "invalid character '¹' (U+00B9) (940419557.py, line 1)",
     "output_type": "error",
     "traceback": [
      "\u001b[0;36m  Cell \u001b[0;32mIn[58], line 1\u001b[0;36m\u001b[0m\n\u001b[0;31m    Abstract classes in Python are a blueprint for other classes, allowing you to define a set of methods that must be created within any child classes built from the abstract class¹. A class that contains one or more abstract methods is called an abstract class¹. An abstract method is a method that has a declaration but does not have an implementation¹.\u001b[0m\n\u001b[0m                                                                                                                                                                                     ^\u001b[0m\n\u001b[0;31mSyntaxError\u001b[0m\u001b[0;31m:\u001b[0m invalid character '¹' (U+00B9)\n"
     ]
    }
   ],
   "source": [
    "'''Abstract classes in Python are a blueprint for other classes, allowing you to define a set of methods that must be created within any child classes built from the abstract class¹. A class that contains one or more abstract methods is called an abstract class. An abstract method is a method that has a declaration but does not have an implementation¹.\n",
    "\n",
    "Python comes with a module named `abc` (Abstract Base Classes) that provides the base for defining abstract classes¹. The `abc` module works by decorating methods of the base class as abstract and then registering concrete classes as implementations of the abstract base¹. A method becomes abstract when decorated with the keyword `@abstractmethod`¹.\n",
    "\n",
    "Here's an example of how you can define an abstract class and its subclasses in Python:\n",
    "\n",
    "```python\n",
    "from abc import ABC, abstractmethod\n",
    "\n",
    "class AbstractClassExample(ABC):\n",
    "    @abstractmethod\n",
    "    def do_something(self):\n",
    "        pass\n",
    "\n",
    "class AnotherSubclass(AbstractClassExample):\n",
    "    def do_something(self):\n",
    "        super().do_something()\n",
    "        print(\"The subclass is doing something\")\n",
    "\n",
    "x = AnotherSubclass()\n",
    "x.do_something()\n",
    "```\n",
    "\n",
    "In this example, `AbstractClassExample` is an abstract base class and `do_something` is an abstract method. The `AnotherSubclass` class inherits from `AbstractClassExample` and provides an implementation for `do_something`. If you try to create an instance of `AbstractClassExample`, Python will raise a `TypeError`¹. This is because `AbstractClassExample` is only meant to serve as a blueprint for other classes'''"
   ]
  },
  {
   "cell_type": "code",
   "execution_count": 59,
   "id": "b3707ec3-2058-4120-b655-83dd749b9cf2",
   "metadata": {},
   "outputs": [],
   "source": [
    "#5. How do abstract classes differ from regular classes in Python? Discuss their use cases."
   ]
  },
  {
   "cell_type": "code",
   "execution_count": 60,
   "id": "92d38a52-c25e-406c-9118-7c138b15e0f3",
   "metadata": {},
   "outputs": [
    {
     "data": {
      "text/plain": [
       "'Abstract classes and regular classes in Python serve different purposes and have distinct characteristics:\\n\\n**Regular Classes**:\\n- Regular classes provide their own implementation of methods³.\\n- These implementations can sometimes be overridden, depending on the language³.\\n- Regular classes can be instantiated, meaning you can create an object from a regular class¹.\\n\\n**Abstract Classes**:\\n- Abstract classes, on the other hand, provide no default implementation¹.\\n- Every inheriting class needs to implement the methods on a case-by-case basis¹.\\n- Abstract classes cannot be instantiated¹. You cannot create an object from an abstract class¹.\\n- Abstract classes may contain both concrete (normal) methods and abstract methods².\\n- The concrete class provides an implementation of abstract methods².\\n- Abstract classes are used when you want to provide a common interface for different implementations of a component².\\n\\n**Use Cases**:\\n- If you use abstract classes, you force the core functionality to be implemented by the children¹. This is beneficial when you are designing large functional units².\\n- Abstract classes are useful in situations where a third party is going to provide implementations, such as with plugins².\\n- They can also help you when working in a large team or with a large code base where keeping all classes in your mind is difficult or not possible².\\n- On the other hand, regular classes are used when you want to create objects that have specific behaviors and attributes³.\\n\\nHere\\'s an example of an abstract class and a regular class in Python:\\n\\n```python\\nfrom abc import ABC, abstractmethod\\n\\n# Abstract class\\nclass AbstractClassExample(ABC):\\n    @abstractmethod\\n    def do_something(self):\\n        pass\\n\\nclass AnotherSubclass(AbstractClassExample):\\n    def do_something(self):\\n        super().do_something()\\n        print(\"The subclass is doing something\")\\n\\n# Regular class\\nclass RegularClassExample:\\n    def do_something(self):\\n        print(\"The regular class is doing something\")\\n\\n# Create instances\\nx = AnotherSubclass()\\nx.do_something()\\n\\ny = RegularClassExample()\\ny.do_something()\\n```\\n\\nIn this example, `AbstractClassExample` is an abstract base class and `do_something` is an abstract method. The `AnotherSubclass` class inherits from `AbstractClassExample` and provides an implementation for `do_something`. `RegularClassExample` is a regular class that has a `do_something` method'"
      ]
     },
     "execution_count": 60,
     "metadata": {},
     "output_type": "execute_result"
    }
   ],
   "source": [
    "'''Abstract classes and regular classes in Python serve different purposes and have distinct characteristics:\n",
    "\n",
    "**Regular Classes**:\n",
    "- Regular classes provide their own implementation of methods³.\n",
    "- These implementations can sometimes be overridden, depending on the language³.\n",
    "- Regular classes can be instantiated, meaning you can create an object from a regular class¹.\n",
    "\n",
    "**Abstract Classes**:\n",
    "- Abstract classes, on the other hand, provide no default implementation¹.\n",
    "- Every inheriting class needs to implement the methods on a case-by-case basis¹.\n",
    "- Abstract classes cannot be instantiated¹. You cannot create an object from an abstract class¹.\n",
    "- Abstract classes may contain both concrete (normal) methods and abstract methods².\n",
    "- The concrete class provides an implementation of abstract methods².\n",
    "- Abstract classes are used when you want to provide a common interface for different implementations of a component².\n",
    "\n",
    "**Use Cases**:\n",
    "- If you use abstract classes, you force the core functionality to be implemented by the children¹. This is beneficial when you are designing large functional units².\n",
    "- Abstract classes are useful in situations where a third party is going to provide implementations, such as with plugins².\n",
    "- They can also help you when working in a large team or with a large code base where keeping all classes in your mind is difficult or not possible².\n",
    "- On the other hand, regular classes are used when you want to create objects that have specific behaviors and attributes³.\n",
    "\n",
    "Here's an example of an abstract class and a regular class in Python:\n",
    "\n",
    "```python\n",
    "from abc import ABC, abstractmethod\n",
    "\n",
    "# Abstract class\n",
    "class AbstractClassExample(ABC):\n",
    "    @abstractmethod\n",
    "    def do_something(self):\n",
    "        pass\n",
    "\n",
    "class AnotherSubclass(AbstractClassExample):\n",
    "    def do_something(self):\n",
    "        super().do_something()\n",
    "        print(\"The subclass is doing something\")\n",
    "\n",
    "# Regular class\n",
    "class RegularClassExample:\n",
    "    def do_something(self):\n",
    "        print(\"The regular class is doing something\")\n",
    "\n",
    "# Create instances\n",
    "x = AnotherSubclass()\n",
    "x.do_something()\n",
    "\n",
    "y = RegularClassExample()\n",
    "y.do_something()\n",
    "```\n",
    "\n",
    "In this example, `AbstractClassExample` is an abstract base class and `do_something` is an abstract method. The `AnotherSubclass` class inherits from `AbstractClassExample` and provides an implementation for `do_something`. `RegularClassExample` is a regular class that has a `do_something` method'''"
   ]
  },
  {
   "cell_type": "code",
   "execution_count": 61,
   "id": "ef3648b8-327f-4b49-8142-f7abbb00092d",
   "metadata": {},
   "outputs": [],
   "source": [
    "#6. Create a Python class for a bank account and demonstrate abstraction by hiding the account balance andproviding methods to deposit and withdraw funds."
   ]
  },
  {
   "cell_type": "code",
   "execution_count": 62,
   "id": "8caebb54-58a2-4759-b179-500b1daa6ddf",
   "metadata": {},
   "outputs": [
    {
     "name": "stdout",
     "output_type": "stream",
     "text": [
      "Deposit successful. Your new balance is 100\n",
      "Withdrawal successful. Your new balance is 50\n"
     ]
    }
   ],
   "source": [
    "class BankAccount:\n",
    "    def __init__(self):\n",
    "        self.__balance = 0\n",
    "\n",
    "    def deposit(self, amount):\n",
    "        if amount > 0:\n",
    "            self.__balance += amount\n",
    "            return f\"Deposit successful. Your new balance is {self.__balance}\"\n",
    "        else:\n",
    "            return \"Invalid deposit amount.\"\n",
    "\n",
    "    def withdraw(self, amount):\n",
    "        if amount > 0 and amount <= self.__balance:\n",
    "            self.__balance -= amount\n",
    "            return f\"Withdrawal successful. Your new balance is {self.__balance}\"\n",
    "        else:\n",
    "            return \"Invalid withdrawal amount.\"\n",
    "\n",
    "# Create a bank account\n",
    "account = BankAccount()\n",
    "\n",
    "# Deposit money\n",
    "print(account.deposit(100))\n",
    "\n",
    "# Withdraw money\n",
    "print(account.withdraw(50))\n"
   ]
  },
  {
   "cell_type": "code",
   "execution_count": 64,
   "id": "de65db48-1dfa-43a4-a78d-fc1da4c1067b",
   "metadata": {},
   "outputs": [],
   "source": [
    "#7. Discuss the concept of interface classes in Python and their role in achieving abstraction."
   ]
  },
  {
   "cell_type": "code",
   "execution_count": null,
   "id": "f517143c-4a70-4c00-bfd8-88893fd48ed2",
   "metadata": {},
   "outputs": [],
   "source": [
    "'''In Python, the concept of an interface is similar to that of an abstract base class (ABC) with only abstract methods. An interface is a set of method signatures that the implementing class is expected to provide¹. It's a blueprint for designing classes¹.\n",
    "\n",
    "Interfaces play a crucial role in achieving abstraction in Python. They allow you to define what functionality must be provided by each subclass while leaving it up to the subclass to provide its own implementation details¹. This helps in writing ordered code and achieving abstraction¹.\n",
    "\n",
    "Here's an example of an interface in Python using the `abc` module:\n",
    "\n",
    "```python\n",
    "from abc import ABC, abstractmethod\n",
    "\n",
    "class Animal(ABC):\n",
    "    @abstractmethod\n",
    "    def move(self):\n",
    "        pass\n",
    "\n",
    "class Human(Animal):\n",
    "    def move(self):\n",
    "        print(\"I can walk and run\")\n",
    "\n",
    "class Snake(Animal):\n",
    "    def move(self):\n",
    "        print(\"I can crawl\")\n",
    "```\n",
    "\n",
    "In this example, `Animal` is an interface that declares an abstract method `move()`. The `Human` and `Snake` classes implement the `Animal` interface by providing their own implementations of the `move()` method.\n",
    "\n",
    "Interfaces, like abstract classes, are used to create a common structure for different classes. They are particularly useful when you want to specify a common interface for different implementations of a component. This allows you to ensure that a class adheres to a particular contract, which can be especially useful in large code bases'''"
   ]
  },
  {
   "cell_type": "code",
   "execution_count": 65,
   "id": "e445dd0f-2334-4b37-9499-1b153a95fa42",
   "metadata": {},
   "outputs": [],
   "source": [
    "#8. Create a Python class hierarchy for animals and implement abstraction by defining common methods (e.g., `eat()`, `sleep()`) in an abstract base class."
   ]
  },
  {
   "cell_type": "code",
   "execution_count": 66,
   "id": "5e51d074-4486-4326-835c-cb64f5fda98c",
   "metadata": {},
   "outputs": [
    {
     "name": "stdout",
     "output_type": "stream",
     "text": [
      "The mammal is eating.\n",
      "The mammal is sleeping.\n",
      "The bird is pecking at food.\n",
      "The bird is sleeping.\n"
     ]
    }
   ],
   "source": [
    "from abc import ABC, abstractmethod\n",
    "\n",
    "class Animal(ABC):\n",
    "    @abstractmethod\n",
    "    def eat(self):\n",
    "        pass\n",
    "\n",
    "    @abstractmethod\n",
    "    def sleep(self):\n",
    "        pass\n",
    "\n",
    "class Mammal(Animal):\n",
    "    def eat(self):\n",
    "        return \"The mammal is eating.\"\n",
    "\n",
    "    def sleep(self):\n",
    "        return \"The mammal is sleeping.\"\n",
    "\n",
    "class Bird(Animal):\n",
    "    def eat(self):\n",
    "        return \"The bird is pecking at food.\"\n",
    "\n",
    "    def sleep(self):\n",
    "        return \"The bird is sleeping.\"\n",
    "\n",
    "# Create instances\n",
    "mammal = Mammal()\n",
    "bird = Bird()\n",
    "\n",
    "# Call methods\n",
    "print(mammal.eat())\n",
    "print(mammal.sleep())\n",
    "print(bird.eat())\n",
    "print(bird.sleep())\n"
   ]
  },
  {
   "cell_type": "code",
   "execution_count": 67,
   "id": "fe86a537-5fda-4d66-99db-7673e83f2ea3",
   "metadata": {},
   "outputs": [],
   "source": [
    "#9. Explain the significance of encapsulation in achieving abstraction. Provide examples."
   ]
  },
  {
   "cell_type": "code",
   "execution_count": 74,
   "id": "a69cf1e9-c6da-4ab9-ad81-ace14b1bea51",
   "metadata": {},
   "outputs": [
    {
     "data": {
      "text/plain": [
       "'Encapsulation is a fundamental concept in object-oriented programming (OOP) that plays a crucial role in achieving abstraction. It refers to the bundling of data, and the methods that operate on that data, into a single unit called a class. This mechanism hides the internal state of an object and prevents direct access to it. Instead, access to the data is provided through public methods, thus providing a well-defined interface for manipulating the object\\'s state.\\n\\nHere are the key points that highlight the significance of encapsulation in achieving abstraction:\\n\\n1. **Information Hiding**: Encapsulation hides the complexity of the system by exposing only necessary details and hiding the internal implementation. This is a form of abstraction where the user interacts with only the necessary details and not the internal workings.\\n\\n2. **Data Security**: By encapsulating the data, we can make the fields of a class private, which means they cannot be accessed directly from outside the class. We can only access them through the methods of the current class. Therefore, encapsulation provides a way to protect data from accidental corruption.\\n\\n3. **Modularity**: Encapsulation helps in creating modular structures in programming. Each object has its own set of methods and variables and serves its own set of responsibilities. This makes the code more manageable and organized.\\n\\nHere\\'s an example of encapsulation in Python:\\n\\n```python\\nclass BankAccount:\\n    def __init__(self):\\n        self.__balance = 0\\n\\n    def deposit(self, amount):\\n        if amount > 0:\\n            self.__balance += amount\\n            return f\"Deposit successful. Your new balance is {self.__balance}\"\\n        else:\\n            return \"Invalid deposit amount.\"\\n\\n    def withdraw(self, amount):\\n        if amount > 0 and amount <= self.__balance:\\n            self.__balance -= amount\\n            return f\"Withdrawal successful. Your new balance is {self.__balance}\"\\n        else:\\n            return \"Invalid withdrawal amount.\"\\n```\\n\\nIn this code, `BankAccount` is a class that represents a bank account. The `__balance` attribute is private, which means it\\'s hidden from other classes and can\\'t be accessed directly. This is an example of data encapsulation. The `deposit` and `withdraw` methods are public and can be used to modify the `__balance`. This allows the `BankAccount` class to control how the `__balance` is changed and prevent invalid operations '"
      ]
     },
     "execution_count": 74,
     "metadata": {},
     "output_type": "execute_result"
    }
   ],
   "source": [
    "'''Encapsulation is a fundamental concept in object-oriented programming (OOP) that plays a crucial role in achieving abstraction. It refers to the bundling of data, and the methods that operate on that data, into a single unit called a class. This mechanism hides the internal state of an object and prevents direct access to it. Instead, access to the data is provided through public methods, thus providing a well-defined interface for manipulating the object's state.\n",
    "\n",
    "Here are the key points that highlight the significance of encapsulation in achieving abstraction:\n",
    "\n",
    "1. **Information Hiding**: Encapsulation hides the complexity of the system by exposing only necessary details and hiding the internal implementation. This is a form of abstraction where the user interacts with only the necessary details and not the internal workings.\n",
    "\n",
    "2. **Data Security**: By encapsulating the data, we can make the fields of a class private, which means they cannot be accessed directly from outside the class. We can only access them through the methods of the current class. Therefore, encapsulation provides a way to protect data from accidental corruption.\n",
    "\n",
    "3. **Modularity**: Encapsulation helps in creating modular structures in programming. Each object has its own set of methods and variables and serves its own set of responsibilities. This makes the code more manageable and organized.\n",
    "\n",
    "Here's an example of encapsulation in Python:\n",
    "\n",
    "```python\n",
    "class BankAccount:\n",
    "    def __init__(self):\n",
    "        self.__balance = 0\n",
    "\n",
    "    def deposit(self, amount):\n",
    "        if amount > 0:\n",
    "            self.__balance += amount\n",
    "            return f\"Deposit successful. Your new balance is {self.__balance}\"\n",
    "        else:\n",
    "            return \"Invalid deposit amount.\"\n",
    "\n",
    "    def withdraw(self, amount):\n",
    "        if amount > 0 and amount <= self.__balance:\n",
    "            self.__balance -= amount\n",
    "            return f\"Withdrawal successful. Your new balance is {self.__balance}\"\n",
    "        else:\n",
    "            return \"Invalid withdrawal amount.\"\n",
    "```\n",
    "\n",
    "In this code, `BankAccount` is a class that represents a bank account. The `__balance` attribute is private, which means it's hidden from other classes and can't be accessed directly. This is an example of data encapsulation. The `deposit` and `withdraw` methods are public and can be used to modify the `__balance`. This allows the `BankAccount` class to control how the `__balance` is changed and prevent invalid operations '''"
   ]
  },
  {
   "cell_type": "code",
   "execution_count": 95,
   "id": "91e26cb9-0644-427a-961b-7ef6e71eeea1",
   "metadata": {},
   "outputs": [],
   "source": [
    "#10. What is the purpose of abstract methods, and how do they enforce abstraction in Python classes?"
   ]
  },
  {
   "cell_type": "code",
   "execution_count": 96,
   "id": "dd214005-6b76-4e2c-8b9d-cf8fe01ae5c6",
   "metadata": {},
   "outputs": [
    {
     "data": {
      "text/plain": [
       "'Abstract methods in Python are methods that are declared in an abstract class but do not contain any implementation¹². Abstract methods are decorated with the `@abstractmethod` decorator. They serve as a blueprint for methods that must be implemented within any child classes built from the abstract class.\\n\\nAbstract methods play a crucial role in enforcing abstraction in Python classes¹². They allow you to define a common interface for a set of subclasses¹². This capability is especially useful in situations where a third party is going to provide implementations, such as with plugins¹². It can also help you when working in a large team or with a large code base where keeping all classes in your mind is difficult or not possible.\\n\\nHere\\'s an example of an abstract class with an abstract method in Python:\\n\\n```python\\nfrom abc import ABC, abstractmethod\\n\\nclass Polygon(ABC):\\n    @abstractmethod\\n    def noofsides(self):\\n        pass\\n\\nclass Triangle(Polygon):\\n    def noofsides(self):\\n        print(\"I have 3 sides\")\\n\\nclass Quadrilateral(Polygon):\\n    def noofsides(self):\\n        print(\"I have 4 sides\")\\n\\nR = Triangle()\\nR.noofsides()\\n\\nK = Quadrilateral()\\nK.noofsides()\\n```\\n\\nIn this example, `Polygon` is an abstract base class and `noofsides` is an abstract method. The `Triangle` and `Quadrilateral` classes inherit from `Polygon` and provide their own implementations of the `noofsides` method¹. This demonstrates polymorphism, as you can treat any `Triangle` or `Quadrilateral` as a `Polygon` and call the `noofsides` method, and the correct method will be called based on the actual type of the object '"
      ]
     },
     "execution_count": 96,
     "metadata": {},
     "output_type": "execute_result"
    }
   ],
   "source": [
    "'''Abstract methods in Python are methods that are declared in an abstract class but do not contain any implementation¹². Abstract methods are decorated with the `@abstractmethod` decorator. They serve as a blueprint for methods that must be implemented within any child classes built from the abstract class.\n",
    "\n",
    "Abstract methods play a crucial role in enforcing abstraction in Python classes¹². They allow you to define a common interface for a set of subclasses¹². This capability is especially useful in situations where a third party is going to provide implementations, such as with plugins¹². It can also help you when working in a large team or with a large code base where keeping all classes in your mind is difficult or not possible.\n",
    "\n",
    "Here's an example of an abstract class with an abstract method in Python:\n",
    "\n",
    "```python\n",
    "from abc import ABC, abstractmethod\n",
    "\n",
    "class Polygon(ABC):\n",
    "    @abstractmethod\n",
    "    def noofsides(self):\n",
    "        pass\n",
    "\n",
    "class Triangle(Polygon):\n",
    "    def noofsides(self):\n",
    "        print(\"I have 3 sides\")\n",
    "\n",
    "class Quadrilateral(Polygon):\n",
    "    def noofsides(self):\n",
    "        print(\"I have 4 sides\")\n",
    "\n",
    "R = Triangle()\n",
    "R.noofsides()\n",
    "\n",
    "K = Quadrilateral()\n",
    "K.noofsides()\n",
    "```\n",
    "\n",
    "In this example, `Polygon` is an abstract base class and `noofsides` is an abstract method. The `Triangle` and `Quadrilateral` classes inherit from `Polygon` and provide their own implementations of the `noofsides` method¹. This demonstrates polymorphism, as you can treat any `Triangle` or `Quadrilateral` as a `Polygon` and call the `noofsides` method, and the correct method will be called based on the actual type of the object '''"
   ]
  },
  {
   "cell_type": "code",
   "execution_count": 97,
   "id": "2cafebaa-bc4f-4e02-80ab-f16cb4b83c1f",
   "metadata": {},
   "outputs": [],
   "source": [
    "#11. Create a Python class for a vehicle system and demonstrate abstraction by defining common methods"
   ]
  },
  {
   "cell_type": "code",
   "execution_count": 98,
   "id": "78c75a89-41c9-40c1-ac2d-a4df0aeab3e1",
   "metadata": {},
   "outputs": [
    {
     "name": "stdout",
     "output_type": "stream",
     "text": [
      "The car's engine is starting.\n",
      "The car's engine is stopping.\n",
      "The motorcycle's engine is starting.\n",
      "The motorcycle's engine is stopping.\n"
     ]
    }
   ],
   "source": [
    "from abc import ABC, abstractmethod\n",
    "\n",
    "class Vehicle(ABC):\n",
    "    @abstractmethod\n",
    "    def start_engine(self):\n",
    "        pass\n",
    "\n",
    "    @abstractmethod\n",
    "    def stop_engine(self):\n",
    "        pass\n",
    "\n",
    "class Car(Vehicle):\n",
    "    def start_engine(self):\n",
    "        return \"The car's engine is starting.\"\n",
    "\n",
    "    def stop_engine(self):\n",
    "        return \"The car's engine is stopping.\"\n",
    "\n",
    "class Motorcycle(Vehicle):\n",
    "    def start_engine(self):\n",
    "        return \"The motorcycle's engine is starting.\"\n",
    "\n",
    "    def stop_engine(self):\n",
    "        return \"The motorcycle's engine is stopping.\"\n",
    "\n",
    "# Create instances\n",
    "car = Car()\n",
    "motorcycle = Motorcycle()\n",
    "\n",
    "# Call methods\n",
    "print(car.start_engine())\n",
    "print(car.stop_engine())\n",
    "print(motorcycle.start_engine())\n",
    "print(motorcycle.stop_engine())\n"
   ]
  },
  {
   "cell_type": "code",
   "execution_count": 99,
   "id": "7a54d13c-e78b-4f5f-8054-6386a12e0be9",
   "metadata": {},
   "outputs": [],
   "source": [
    "#12. Describe the use of abstract properties in Python and how they can be employed in abstract classes."
   ]
  },
  {
   "cell_type": "code",
   "execution_count": 101,
   "id": "a2986c99-935f-4f4c-a36f-89b72b3a0a7f",
   "metadata": {},
   "outputs": [
    {
     "data": {
      "text/plain": [
       "'Abstract properties in Python are a feature of abstract classes that allow you to define properties that must be implemented by any child classes. They are defined using the `@abstractproperty` decorator.\\nstraction in Python classes. They allow you to define a common interface for a set of subclasses¹²³. This capability is especially useful in situations where a third party is going to provide implementations, such as with plugins. It can also help you when working in a large team or with a large code base where keeping all classes in your mind is difficult or not possible.\\n\\nHere\\'s an example of how you can define an abstract property in Python:\\n\\n```python\\nfrom abc import ABC, abstractmethod\\n\\nclass AbstractClassExample(ABC):\\n    @property\\n    @abstractmethod\\n    def value(self):\\n        return \"Should never get here\"\\n```\\n\\nIn this example, `AbstractClassExample` is an abstract base class and `value` is an abstract property. Any class that inherits from `AbstractClassExample` will need to provide its own implementation of the `value` property '"
      ]
     },
     "execution_count": 101,
     "metadata": {},
     "output_type": "execute_result"
    }
   ],
   "source": [
    "'''Abstract properties in Python are a feature of abstract classes that allow you to define properties that must be implemented by any child classes. They are defined using the `@abstractproperty` decorator.\n",
    "straction in Python classes. They allow you to define a common interface for a set of subclasses¹²³. This capability is especially useful in situations where a third party is going to provide implementations, such as with plugins. It can also help you when working in a large team or with a large code base where keeping all classes in your mind is difficult or not possible.\n",
    "\n",
    "Here's an example of how you can define an abstract property in Python:\n",
    "\n",
    "```python\n",
    "from abc import ABC, abstractmethod\n",
    "\n",
    "class AbstractClassExample(ABC):\n",
    "    @property\n",
    "    @abstractmethod\n",
    "    def value(self):\n",
    "        return \"Should never get here\"\n",
    "```\n",
    "\n",
    "In this example, `AbstractClassExample` is an abstract base class and `value` is an abstract property. Any class that inherits from `AbstractClassExample` will need to provide its own implementation of the `value` property '''"
   ]
  },
  {
   "cell_type": "code",
   "execution_count": 100,
   "id": "bb11c9aa-b4f9-4129-bfa9-08e16a86d695",
   "metadata": {},
   "outputs": [],
   "source": [
    "#13. Create a Python class hierarchy for employees in a company (e.g., manager, developer, designer) and implement abstraction by defining a common `get_salary()` method."
   ]
  },
  {
   "cell_type": "code",
   "execution_count": 102,
   "id": "49754142-cdff-4a1e-bcf3-7ce860acc1ef",
   "metadata": {},
   "outputs": [
    {
     "name": "stdout",
     "output_type": "stream",
     "text": [
      "Alice is a Manager and earns 5000 per month.\n",
      "Bob is a Developer and earns 4000 per month.\n",
      "Charlie is a Designer and earns 3500 per month.\n"
     ]
    }
   ],
   "source": [
    "from abc import ABC, abstractmethod\n",
    "\n",
    "class Employee(ABC):\n",
    "    def __init__(self, name, salary):\n",
    "        self.name = name\n",
    "        self.salary = salary\n",
    "\n",
    "    @abstractmethod\n",
    "    def get_salary(self):\n",
    "        pass\n",
    "\n",
    "class Manager(Employee):\n",
    "    def get_salary(self):\n",
    "        return f\"{self.name} is a Manager and earns {self.salary} per month.\"\n",
    "\n",
    "class Developer(Employee):\n",
    "    def get_salary(self):\n",
    "        return f\"{self.name} is a Developer and earns {self.salary} per month.\"\n",
    "\n",
    "class Designer(Employee):\n",
    "    def get_salary(self):\n",
    "        return f\"{self.name} is a Designer and earns {self.salary} per month.\"\n",
    "\n",
    "# Create instances\n",
    "manager = Manager(\"Alice\", 5000)\n",
    "developer = Developer(\"Bob\", 4000)\n",
    "designer = Designer(\"Charlie\", 3500)\n",
    "\n",
    "# Call methods\n",
    "print(manager.get_salary())\n",
    "print(developer.get_salary())\n",
    "print(designer.get_salary())\n"
   ]
  },
  {
   "cell_type": "code",
   "execution_count": 103,
   "id": "3e375d8b-1e30-4d08-9923-751f7d4a1251",
   "metadata": {},
   "outputs": [],
   "source": [
    "#14. Discuss the differences between abstract classes and concrete classes in Python, including theirinstantiation."
   ]
  },
  {
   "cell_type": "code",
   "execution_count": 105,
   "id": "7cdbec19-1f83-45fb-9ea8-3ae79c0d272e",
   "metadata": {},
   "outputs": [
    {
     "data": {
      "text/plain": [
       "'Abstract classes and concrete classes in Python serve different purposes and have distinct characteristics:\\n\\n**Abstract Classes**:\\n- Abstract classes are a blueprint for other classes². They allow you to define a set of methods that must be created within any child classes built from the abstract class².\\n- A class that contains one or more abstract methods is called an abstract class². An abstract method is a method that has a declaration but does not have an implementation².\\n- Abstract classes may contain both concrete (normal) methods and abstract methods². The concrete class provides an implementation of abstract methods².\\n- By default, Python does not provide abstract classes². Python comes with a module that provides the base for defining Abstract Base Classes (ABC) and that module name is `abc`².\\n- Abstract classes cannot be instantiated². You cannot create an object from an abstract class².\\n\\n**Concrete Classes**:\\n- Concrete classes contain only concrete (normal) methods².\\n- Concrete classes provide their own implementation of methods¹.\\n- These implementations can sometimes be overridden, depending on the language¹.\\n- Concrete classes can be instantiated, meaning you can create an object from a concrete class¹.\\n\\nHere\\'s an example of an abstract class and a concrete class in Python:\\n\\n```python\\nfrom abc import ABC, abstractmethod\\n\\n# Abstract class\\nclass AbstractClassExample(ABC):\\n    @abstractmethod\\n    def do_something(self):\\n        pass\\n\\nclass AnotherSubclass(AbstractClassExample):\\n    def do_something(self):\\n        super().do_something()\\n        print(\"The subclass is doing something\")\\n\\n# Concrete class\\nclass RegularClassExample:\\n    def do_something(self):\\n        print(\"The regular class is doing something\")\\n\\n# Create instances\\nx = AnotherSubclass()\\nx.do_something()\\n\\ny = RegularClassExample()\\ny.do_something()\\n```\\n\\nIn this example, `AbstractClassExample` is an abstract base class and `do_something` is an abstract method. The `AnotherSubclass` class inherits from `AbstractClassExample` and provides an implementation for `do_something`. `RegularClassExample` is a concrete class that has a `do_something` method'"
      ]
     },
     "execution_count": 105,
     "metadata": {},
     "output_type": "execute_result"
    }
   ],
   "source": [
    "'''Abstract classes and concrete classes in Python serve different purposes and have distinct characteristics:\n",
    "\n",
    "**Abstract Classes**:\n",
    "- Abstract classes are a blueprint for other classes². They allow you to define a set of methods that must be created within any child classes built from the abstract class².\n",
    "- A class that contains one or more abstract methods is called an abstract class². An abstract method is a method that has a declaration but does not have an implementation².\n",
    "- Abstract classes may contain both concrete (normal) methods and abstract methods². The concrete class provides an implementation of abstract methods².\n",
    "- By default, Python does not provide abstract classes². Python comes with a module that provides the base for defining Abstract Base Classes (ABC) and that module name is `abc`².\n",
    "- Abstract classes cannot be instantiated². You cannot create an object from an abstract class².\n",
    "\n",
    "**Concrete Classes**:\n",
    "- Concrete classes contain only concrete (normal) methods².\n",
    "- Concrete classes provide their own implementation of methods¹.\n",
    "- These implementations can sometimes be overridden, depending on the language¹.\n",
    "- Concrete classes can be instantiated, meaning you can create an object from a concrete class¹.\n",
    "\n",
    "Here's an example of an abstract class and a concrete class in Python:\n",
    "\n",
    "```python\n",
    "from abc import ABC, abstractmethod\n",
    "\n",
    "# Abstract class\n",
    "class AbstractClassExample(ABC):\n",
    "    @abstractmethod\n",
    "    def do_something(self):\n",
    "        pass\n",
    "\n",
    "class AnotherSubclass(AbstractClassExample):\n",
    "    def do_something(self):\n",
    "        super().do_something()\n",
    "        print(\"The subclass is doing something\")\n",
    "\n",
    "# Concrete class\n",
    "class RegularClassExample:\n",
    "    def do_something(self):\n",
    "        print(\"The regular class is doing something\")\n",
    "\n",
    "# Create instances\n",
    "x = AnotherSubclass()\n",
    "x.do_something()\n",
    "\n",
    "y = RegularClassExample()\n",
    "y.do_something()\n",
    "```\n",
    "\n",
    "In this example, `AbstractClassExample` is an abstract base class and `do_something` is an abstract method. The `AnotherSubclass` class inherits from `AbstractClassExample` and provides an implementation for `do_something`. `RegularClassExample` is a concrete class that has a `do_something` method'''"
   ]
  },
  {
   "cell_type": "code",
   "execution_count": 106,
   "id": "20fe65e3-b01a-47be-a60a-a825b0b68020",
   "metadata": {},
   "outputs": [],
   "source": [
    "#15. Explain the concept of abstract data types (ADTs) and their role in achieving abstraction in Python."
   ]
  },
  {
   "cell_type": "code",
   "execution_count": 108,
   "id": "fb117166-5de8-4abd-9947-5d263e450b3e",
   "metadata": {},
   "outputs": [
    {
     "data": {
      "text/plain": [
       "'Abstract Data Types (ADTs) are a key concept in computer science that help achieve abstraction. An ADT is a high-level description of a collection of data and the operations that can be performed on that data. It defines a set of behaviors in terms of inputs and outputs, and is independent of an implementation.\\n\\nADTs play a crucial role in achieving abstraction in Python and other programming languages. They allow you to focus on what operations are to be performed without having to worry about how these operations are implemented. This separation of concerns is a form of abstraction'"
      ]
     },
     "execution_count": 108,
     "metadata": {},
     "output_type": "execute_result"
    }
   ],
   "source": [
    "'''Abstract Data Types (ADTs) are a key concept in computer science that help achieve abstraction. An ADT is a high-level description of a collection of data and the operations that can be performed on that data. It defines a set of behaviors in terms of inputs and outputs, and is independent of an implementation.\n",
    "\n",
    "ADTs play a crucial role in achieving abstraction in Python and other programming languages. They allow you to focus on what operations are to be performed without having to worry about how these operations are implemented. This separation of concerns is a form of abstraction'''"
   ]
  },
  {
   "cell_type": "code",
   "execution_count": 107,
   "id": "c194e515-83a7-428f-b93b-065a3e0be8f8",
   "metadata": {},
   "outputs": [],
   "source": [
    "#16. Create a Python class for a computer system, demonstrating abstraction by defining common methods"
   ]
  },
  {
   "cell_type": "code",
   "execution_count": 109,
   "id": "7e759cb3-3831-49f5-8207-ebd0ea6c3725",
   "metadata": {},
   "outputs": [
    {
     "name": "stdout",
     "output_type": "stream",
     "text": [
      "The laptop is starting.\n",
      "The laptop is shutting down.\n",
      "The desktop is starting.\n",
      "The desktop is shutting down.\n"
     ]
    }
   ],
   "source": [
    "from abc import ABC, abstractmethod\n",
    "\n",
    "class Computer(ABC):\n",
    "    @abstractmethod\n",
    "    def start(self):\n",
    "        pass\n",
    "\n",
    "    @abstractmethod\n",
    "    def shutdown(self):\n",
    "        pass\n",
    "\n",
    "class Laptop(Computer):\n",
    "    def start(self):\n",
    "        return \"The laptop is starting.\"\n",
    "\n",
    "    def shutdown(self):\n",
    "        return \"The laptop is shutting down.\"\n",
    "\n",
    "class Desktop(Computer):\n",
    "    def start(self):\n",
    "        return \"The desktop is starting.\"\n",
    "\n",
    "    def shutdown(self):\n",
    "        return \"The desktop is shutting down.\"\n",
    "\n",
    "# Create instances\n",
    "laptop = Laptop()\n",
    "desktop = Desktop()\n",
    "\n",
    "# Call methods\n",
    "print(laptop.start())\n",
    "print(laptop.shutdown())\n",
    "print(desktop.start())\n",
    "print(desktop.shutdown())\n"
   ]
  },
  {
   "cell_type": "code",
   "execution_count": 110,
   "id": "687aeb1f-5c85-444f-8fa5-ee1f61cdd2c1",
   "metadata": {},
   "outputs": [],
   "source": [
    "#17. Discuss the benefits of using abstraction in large-scale software development projects."
   ]
  },
  {
   "cell_type": "code",
   "execution_count": 112,
   "id": "55685605-40fe-4d3a-a06d-e73aa6ab3507",
   "metadata": {},
   "outputs": [
    {
     "data": {
      "text/plain": [
       "\"Abstraction is a fundamental concept in software development that offers several benefits, especially in large-scale projects:\\n\\n1. **Reduced Complexity**: Abstraction hides the complexity of the system by exposing only necessary details and hiding the internal implementation¹²⁴. This reduces the complexity of the code, making it easier to understand and manage.\\n\\n2. **Code Organization**: Abstraction helps in organizing code into logical layers of related ideas, creating a more efficient data model with fewer lines of code¹.This makes the code easier to read, debug, and maintain.\\n\\n3. **Code Reusability**: Abstraction allows for creating reusable components, reducing redundancy¹²⁴. This leads to less code duplication and promotes code reuse.\\n\\n4. **Ease of Maintenance**: Changes in abstracted code have minimal impact on the client code, easing maintenance¹²⁴. This shields essential parts of the software from unnecessary complexity, enhancing code clarity, and allowing more accessible modifications in the future.\\n\\n5. **Centralization**: Abstraction helps in centralizing common functionality, which can lead to better testing and simplicity¹²⁴.\\n\\n6. **Efficiency**: Abstraction frees the programmer from massive details of complexity, allowing them to focus on the bigger picture¹²⁴. This can lead to more efficient code development.\\n\\n7. **Extendability**: Abstraction makes the application extendable in a much easier way. It makes refactoring much easier³.\\n\\n8. **Empowerment**: Abstraction empowers more people to visually build their own solutions¹. It allows non-technical entrepreneurs to innovate online, and engineers and developers to lead the way to better code and better abstraction¹.\\n\\nRemember, while abstraction is a powerful tool for managing complexity and organizing code, it's important to strike a balance. Over-abstraction can lead to unnecessary complexity and can make the code harder to understand². So, it's crucial to create abstractions that are meaningful and beneficial to your specific use case\""
      ]
     },
     "execution_count": 112,
     "metadata": {},
     "output_type": "execute_result"
    }
   ],
   "source": [
    "'''Abstraction is a fundamental concept in software development that offers several benefits, especially in large-scale projects:\n",
    "\n",
    "1. **Reduced Complexity**: Abstraction hides the complexity of the system by exposing only necessary details and hiding the internal implementation¹²⁴. This reduces the complexity of the code, making it easier to understand and manage.\n",
    "\n",
    "2. **Code Organization**: Abstraction helps in organizing code into logical layers of related ideas, creating a more efficient data model with fewer lines of code¹.This makes the code easier to read, debug, and maintain.\n",
    "\n",
    "3. **Code Reusability**: Abstraction allows for creating reusable components, reducing redundancy¹²⁴. This leads to less code duplication and promotes code reuse.\n",
    "\n",
    "4. **Ease of Maintenance**: Changes in abstracted code have minimal impact on the client code, easing maintenance¹²⁴. This shields essential parts of the software from unnecessary complexity, enhancing code clarity, and allowing more accessible modifications in the future.\n",
    "\n",
    "5. **Centralization**: Abstraction helps in centralizing common functionality, which can lead to better testing and simplicity¹²⁴.\n",
    "\n",
    "6. **Efficiency**: Abstraction frees the programmer from massive details of complexity, allowing them to focus on the bigger picture¹²⁴. This can lead to more efficient code development.\n",
    "\n",
    "7. **Extendability**: Abstraction makes the application extendable in a much easier way. It makes refactoring much easier³.\n",
    "\n",
    "8. **Empowerment**: Abstraction empowers more people to visually build their own solutions¹. It allows non-technical entrepreneurs to innovate online, and engineers and developers to lead the way to better code and better abstraction¹.\n",
    "\n",
    "Remember, while abstraction is a powerful tool for managing complexity and organizing code, it's important to strike a balance. Over-abstraction can lead to unnecessary complexity and can make the code harder to understand². So, it's crucial to create abstractions that are meaningful and beneficial to your specific use case'''"
   ]
  },
  {
   "cell_type": "code",
   "execution_count": 113,
   "id": "5b696165-f194-4768-ad35-3e67e30584f1",
   "metadata": {},
   "outputs": [],
   "source": [
    "#18. Explain how abstraction enhances code reusability and modularity in Python programs."
   ]
  },
  {
   "cell_type": "code",
   "execution_count": 115,
   "id": "31f66831-896d-4ea2-b2d0-4a83bc1f3a58",
   "metadata": {},
   "outputs": [
    {
     "data": {
      "text/plain": [
       "'Abstraction is a fundamental concept in programming that enhances code reusability and modularity in Python programs:\\n\\n1. **Code Reusability**: Abstraction allows for creating reusable components, reducing redundancy¹²⁴. This leads to less code duplication and promotes code reuse¹²⁴. For example, by defining abstract methods in an abstract base class, you can ensure that all subclasses will have these methods, thus reusing the method signatures.\\n\\n2. **Modularity**: Abstraction helps in organizing code into logical layers of related ideas, creating a more efficient data model with fewer lines of code¹²⁴. This makes the code easier to read, debug, and maintain¹²⁴. For instance, you can define an abstract `Animal` class with methods like `eat()` and `sleep()`, and then create `Dog` and `Cat` classes that implement these methods in their own way¹²⁴. This way, the `Animal` class serves as a module that can be reused for any type of animal.\\n\\nHere\\'s an example of how abstraction enhances code reusability and modularity in Python:\\n\\n```python\\nfrom abc import ABC, abstractmethod\\n\\nclass Animal(ABC):\\n    @abstractmethod\\n    def eat(self):\\n        pass\\n\\n    @abstractmethod\\n    def sleep(self):\\n        pass\\n\\nclass Dog(Animal):\\n    def eat(self):\\n        return \"The dog is eating.\"\\n\\n    def sleep(self):\\n        return \"The dog is sleeping.\"\\n\\nclass Cat(Animal):\\n    def eat(self):\\n        return \"The cat is eating.\"\\n\\n    def sleep(self):\\n        return \"The cat is sleeping.\"\\n```\\n\\nIn this code, `Animal` is an abstract base class that defines two abstract methods: `eat()` and `sleep()`. The `Dog` and `Cat` classes inherit from `Animal` and provide their own implementations of these methods. This demonstrates both code reusability and modularity, as the `eat()` and `sleep()` methods are reused in both the `Dog` and `Cat` classes, and the `Animal` class serves as a module that can be extended for any type of animal'"
      ]
     },
     "execution_count": 115,
     "metadata": {},
     "output_type": "execute_result"
    }
   ],
   "source": [
    "'''Abstraction is a fundamental concept in programming that enhances code reusability and modularity in Python programs:\n",
    "\n",
    "1. **Code Reusability**: Abstraction allows for creating reusable components, reducing redundancy¹²⁴. This leads to less code duplication and promotes code reuse¹²⁴. For example, by defining abstract methods in an abstract base class, you can ensure that all subclasses will have these methods, thus reusing the method signatures.\n",
    "\n",
    "2. **Modularity**: Abstraction helps in organizing code into logical layers of related ideas, creating a more efficient data model with fewer lines of code¹²⁴. This makes the code easier to read, debug, and maintain¹²⁴. For instance, you can define an abstract `Animal` class with methods like `eat()` and `sleep()`, and then create `Dog` and `Cat` classes that implement these methods in their own way¹²⁴. This way, the `Animal` class serves as a module that can be reused for any type of animal.\n",
    "\n",
    "Here's an example of how abstraction enhances code reusability and modularity in Python:\n",
    "\n",
    "```python\n",
    "from abc import ABC, abstractmethod\n",
    "\n",
    "class Animal(ABC):\n",
    "    @abstractmethod\n",
    "    def eat(self):\n",
    "        pass\n",
    "\n",
    "    @abstractmethod\n",
    "    def sleep(self):\n",
    "        pass\n",
    "\n",
    "class Dog(Animal):\n",
    "    def eat(self):\n",
    "        return \"The dog is eating.\"\n",
    "\n",
    "    def sleep(self):\n",
    "        return \"The dog is sleeping.\"\n",
    "\n",
    "class Cat(Animal):\n",
    "    def eat(self):\n",
    "        return \"The cat is eating.\"\n",
    "\n",
    "    def sleep(self):\n",
    "        return \"The cat is sleeping.\"\n",
    "```\n",
    "\n",
    "In this code, `Animal` is an abstract base class that defines two abstract methods: `eat()` and `sleep()`. The `Dog` and `Cat` classes inherit from `Animal` and provide their own implementations of these methods. This demonstrates both code reusability and modularity, as the `eat()` and `sleep()` methods are reused in both the `Dog` and `Cat` classes, and the `Animal` class serves as a module that can be extended for any type of animal'''"
   ]
  },
  {
   "cell_type": "code",
   "execution_count": 116,
   "id": "6dcf8a6a-e350-4fe3-b876-d01e7f295a18",
   "metadata": {},
   "outputs": [],
   "source": [
    "#19. Create a Python class for a library system, implementing abstraction by defining common methods (e.g., `add_book()`, `borrow_book()`) in an abstract base class."
   ]
  },
  {
   "cell_type": "code",
   "execution_count": 117,
   "id": "b645dbc3-a629-42a3-a4bc-074e3a26bda5",
   "metadata": {},
   "outputs": [
    {
     "name": "stdout",
     "output_type": "stream",
     "text": [
      "The book 'Moby Dick' has been added to the library.\n",
      "You have borrowed the book 'Moby Dick'. Please return it when you're done reading.\n"
     ]
    }
   ],
   "source": [
    "from abc import ABC, abstractmethod\n",
    "\n",
    "class Library(ABC):\n",
    "    @abstractmethod\n",
    "    def add_book(self, book):\n",
    "        pass\n",
    "\n",
    "    @abstractmethod\n",
    "    def borrow_book(self, book):\n",
    "        pass\n",
    "\n",
    "class PublicLibrary(Library):\n",
    "    def __init__(self):\n",
    "        self.books = []\n",
    "\n",
    "    def add_book(self, book):\n",
    "        self.books.append(book)\n",
    "        return f\"The book '{book}' has been added to the library.\"\n",
    "\n",
    "    def borrow_book(self, book):\n",
    "        if book in self.books:\n",
    "            self.books.remove(book)\n",
    "            return f\"You have borrowed the book '{book}'. Please return it when you're done reading.\"\n",
    "        else:\n",
    "            return f\"Sorry, the book '{book}' is not currently available in the library.\"\n",
    "\n",
    "# Create a library\n",
    "library = PublicLibrary()\n",
    "\n",
    "# Add a book\n",
    "print(library.add_book(\"Moby Dick\"))\n",
    "\n",
    "# Borrow a book\n",
    "print(library.borrow_book(\"Moby Dick\"))\n"
   ]
  },
  {
   "cell_type": "code",
   "execution_count": 118,
   "id": "ef8f2123-f0d7-4b5f-823b-af6945792b75",
   "metadata": {},
   "outputs": [],
   "source": [
    "#20. Describe the concept of method abstraction in Python and how it relates to polymorphism."
   ]
  },
  {
   "cell_type": "code",
   "execution_count": 120,
   "id": "16058125-4de5-49ee-be25-79f6f2af08d6",
   "metadata": {},
   "outputs": [
    {
     "data": {
      "text/plain": [
       "'Method abstraction in Python is a concept where a method is declared but not implemented in the abstract base class12. The implementation is provided by the subclass12. This is achieved using the @abstractmethod decorator in the abc module\\n\\nThis concept plays a crucial role in achieving polymorphism12. Polymorphism allows us to use a single type entity (method, operator, or object) to represent different types in different scenarios12. It enables us to use the same method name for different types\\n\\nFor example, consider a Bird class with a method fly(). This method can be implemented differently in subclasses like Sparrow and Ostrich12. While a sparrow can fly, an ostrich cannot. So, the fly() method will have different implementations in these two classes. This is an example of polymorphism achieved through method abstraction'"
      ]
     },
     "execution_count": 120,
     "metadata": {},
     "output_type": "execute_result"
    }
   ],
   "source": [
    "'''Method abstraction in Python is a concept where a method is declared but not implemented in the abstract base class12. The implementation is provided by the subclass12. This is achieved using the @abstractmethod decorator in the abc module\n",
    "\n",
    "This concept plays a crucial role in achieving polymorphism12. Polymorphism allows us to use a single type entity (method, operator, or object) to represent different types in different scenarios12. It enables us to use the same method name for different types\n",
    "\n",
    "For example, consider a Bird class with a method fly(). This method can be implemented differently in subclasses like Sparrow and Ostrich12. While a sparrow can fly, an ostrich cannot. So, the fly() method will have different implementations in these two classes. This is an example of polymorphism achieved through method abstraction'''"
   ]
  },
  {
   "cell_type": "code",
   "execution_count": 119,
   "id": "0fa28f78-1241-47af-a718-6905350bb4c7",
   "metadata": {},
   "outputs": [],
   "source": [
    "#Composition:\n",
    "#1. Explain the concept of composition in Python and how it is used to build complex objects from simpler ones."
   ]
  },
  {
   "cell_type": "code",
   "execution_count": 121,
   "id": "4790fe29-5fc8-4535-bd1a-d8141eb01610",
   "metadata": {},
   "outputs": [
    {
     "data": {
      "text/plain": [
       "'Composition is a fundamental concept in Python that models a “has-a” relationship12. It enables creating complex types by combining objects of other classes12. This means that a class Composite can contain an object of another class Component. This type of relationship is known as a “Has-A” relation12.\\n\\nIn Python, composition is achieved by creating objects of one class as attributes of another class3. This allows you to create complex objects by combining simpler objects, and also allows you to change the behavior of the composite object by modifying the behavior of the component objects'"
      ]
     },
     "execution_count": 121,
     "metadata": {},
     "output_type": "execute_result"
    }
   ],
   "source": [
    "'''Composition is a fundamental concept in Python that models a “has-a” relationship12. It enables creating complex types by combining objects of other classes12. This means that a class Composite can contain an object of another class Component. This type of relationship is known as a “Has-A” relation12.\n",
    "\n",
    "In Python, composition is achieved by creating objects of one class as attributes of another class3. This allows you to create complex objects by combining simpler objects, and also allows you to change the behavior of the composite object by modifying the behavior of the component objects'''"
   ]
  },
  {
   "cell_type": "code",
   "execution_count": 122,
   "id": "09e2d85d-f3b4-4ec3-a203-650d33ca24ab",
   "metadata": {},
   "outputs": [],
   "source": [
    "#2. Describe the difference between composition and inheritance in object-oriented programming."
   ]
  },
  {
   "cell_type": "code",
   "execution_count": 124,
   "id": "39a20e7e-d9bb-451d-9bbc-a765793cd407",
   "metadata": {},
   "outputs": [
    {
     "data": {
      "text/plain": [
       "'In object-oriented programming, **inheritance** and **composition** are two major concepts that allow you to establish relationships between classes:\\n\\n- **Inheritance** is a mechanism in which one class acquires the properties (fields) and behaviors (methods) of another class¹²⁴. With inheritance, we can create a new class that is built upon an existing class¹²⁴. The class whose properties and methods are inherited is known as the parent or superclass, and the class that inherits those properties and methods is known as the child or subclass. Inheritance is used for method overriding to achieve runtime polymorphism, and it also promotes code reusability.\\n\\n- **Composition**, on the other hand, is a design technique in object-oriented programming to implement a \"has-a\" relationship between objects¹²⁴. Composition allows you to include other classes as parts of a class, thereby allowing you to create more complex types by combining objects of other classes¹²⁴. This means that a class `Composite` can contain an object of another class `Component`.\\n\\nHere are some key differences between them:\\n\\n1. **Relationship**: Inheritance is an \"is-a\" relationship (e.g., a `Cat` is an `Animal`), while composition is a \"has-a\" relationship (e.g., a `Car` has an `Engine`)¹²⁴.\\n\\n2. **Coupling**: Inheritance is tightly coupled, i.e., the subclass and superclass are tightly linked. On the other hand, composition is loosely coupled, i.e., the `Component` and `Composite` classes are loosely linked².\\n\\n3. **Flexibility**: Composition is more flexible than inheritance because it allows you to change behavior at runtime by changing the components a composite object is composed of².\\n\\n4. **Code Reusability**: Both inheritance and composition promote code reusability but in different ways. Inheritance allows subclasses to reuse code in the superclass, while composition allows a class to reuse the code of the components it is composed of '"
      ]
     },
     "execution_count": 124,
     "metadata": {},
     "output_type": "execute_result"
    }
   ],
   "source": [
    "'''In object-oriented programming, **inheritance** and **composition** are two major concepts that allow you to establish relationships between classes:\n",
    "\n",
    "- **Inheritance** is a mechanism in which one class acquires the properties (fields) and behaviors (methods) of another class¹²⁴. With inheritance, we can create a new class that is built upon an existing class¹²⁴. The class whose properties and methods are inherited is known as the parent or superclass, and the class that inherits those properties and methods is known as the child or subclass. Inheritance is used for method overriding to achieve runtime polymorphism, and it also promotes code reusability.\n",
    "\n",
    "- **Composition**, on the other hand, is a design technique in object-oriented programming to implement a \"has-a\" relationship between objects¹²⁴. Composition allows you to include other classes as parts of a class, thereby allowing you to create more complex types by combining objects of other classes¹²⁴. This means that a class `Composite` can contain an object of another class `Component`.\n",
    "\n",
    "Here are some key differences between them:\n",
    "\n",
    "1. **Relationship**: Inheritance is an \"is-a\" relationship (e.g., a `Cat` is an `Animal`), while composition is a \"has-a\" relationship (e.g., a `Car` has an `Engine`)¹²⁴.\n",
    "\n",
    "2. **Coupling**: Inheritance is tightly coupled, i.e., the subclass and superclass are tightly linked. On the other hand, composition is loosely coupled, i.e., the `Component` and `Composite` classes are loosely linked².\n",
    "\n",
    "3. **Flexibility**: Composition is more flexible than inheritance because it allows you to change behavior at runtime by changing the components a composite object is composed of².\n",
    "\n",
    "4. **Code Reusability**: Both inheritance and composition promote code reusability but in different ways. Inheritance allows subclasses to reuse code in the superclass, while composition allows a class to reuse the code of the components it is composed of '''"
   ]
  },
  {
   "cell_type": "code",
   "execution_count": 123,
   "id": "9ec3690f-2a52-4ee2-b379-4a58165f99dd",
   "metadata": {},
   "outputs": [],
   "source": [
    "#3. Create a Python class called `Author` with attributes for name and birthdate. Then, create a `Book` classthat contains an instance of `Author` as a composition. Provide an example of creating a `Book` object."
   ]
  },
  {
   "cell_type": "code",
   "execution_count": 125,
   "id": "9b93ffb7-c4b3-4032-b6f2-e3aebd0dd72c",
   "metadata": {},
   "outputs": [
    {
     "name": "stdout",
     "output_type": "stream",
     "text": [
      "The book '1984' was written by George Orwell, who was born on 1903-06-25.\n"
     ]
    }
   ],
   "source": [
    "class Author:\n",
    "    def __init__(self, name, birthdate):\n",
    "        self.name = name\n",
    "        self.birthdate = birthdate\n",
    "\n",
    "class Book:\n",
    "    def __init__(self, title, author):\n",
    "        self.title = title\n",
    "        self.author = author\n",
    "\n",
    "# Create an author\n",
    "author = Author(\"George Orwell\", \"1903-06-25\")\n",
    "\n",
    "# Create a book\n",
    "book = Book(\"1984\", author)\n",
    "\n",
    "# Print book details\n",
    "print(f\"The book '{book.title}' was written by {book.author.name}, who was born on {book.author.birthdate}.\")\n"
   ]
  },
  {
   "cell_type": "code",
   "execution_count": 126,
   "id": "47d18d26-90fe-4557-ad9e-a8c805daba2e",
   "metadata": {},
   "outputs": [],
   "source": [
    "#4. Discuss the benefits of using composition over inheritance in Python, especially in terms of code flexibilityand reusability."
   ]
  },
  {
   "cell_type": "code",
   "execution_count": 127,
   "id": "ce0e837e-638f-4e90-91a5-74ed544d12a5",
   "metadata": {},
   "outputs": [
    {
     "data": {
      "text/plain": [
       "'Composition and inheritance are two fundamental concepts in object-oriented programming that allow you to establish relationships between classes. While both of them enable code reuse, they do it in different ways and offer different advantages.\\n\\n**Composition** is a design technique to implement a \"has-a\" relationship between objects. It enables creating complex types by combining objects of different classes¹²⁴. This means that a class `Composite` can contain an object of another class `Component`. This type of relationship is known as a \"Has-A\" relation¹²⁴.\\n\\nThe benefits of using composition over inheritance in Python, especially in terms of code flexibility and reusability, are as follows:\\n\\n1. **Flexibility**: Composition allows for greater flexibility and modularity, as components can be easily swapped out or modified without affecting the containing object³⁴. This promotes code reusability and makes it easier to adapt to changing requirements.\\n\\n2. **Code Reusability**: By using composition, we can create loosely coupled components that can be easily modified or replaced without affecting the entire codebase. This promotes code reusability³⁴.\\n\\n3. **Avoids Class Explosion Problem**: Inheritance can lead to a large hierarchy of classes which can become difficult to manage and understand². Composition helps to avoid this problem as it allows you to build complex objects by combining simpler ones.\\n\\n4. **Change Behavior at Runtime**: With composition, it\\'s possible to change the behavior of an object at runtime by changing the components it\\'s composed of². This is harder to achieve with inheritance².\\n\\n5. **Easier Testing**: Components used in composition can be tested independently, making unit testing easier.\\n\\nIn general, it\\'s often recommended to favor composition over inheritance because it leads to more flexible and maintainable code². However, the choice between composition and inheritance depends on the specific requirements of your project'"
      ]
     },
     "execution_count": 127,
     "metadata": {},
     "output_type": "execute_result"
    }
   ],
   "source": [
    "'''Composition and inheritance are two fundamental concepts in object-oriented programming that allow you to establish relationships between classes. While both of them enable code reuse, they do it in different ways and offer different advantages.\n",
    "\n",
    "**Composition** is a design technique to implement a \"has-a\" relationship between objects. It enables creating complex types by combining objects of different classes¹²⁴. This means that a class `Composite` can contain an object of another class `Component`. This type of relationship is known as a \"Has-A\" relation¹²⁴.\n",
    "\n",
    "The benefits of using composition over inheritance in Python, especially in terms of code flexibility and reusability, are as follows:\n",
    "\n",
    "1. **Flexibility**: Composition allows for greater flexibility and modularity, as components can be easily swapped out or modified without affecting the containing object³⁴. This promotes code reusability and makes it easier to adapt to changing requirements.\n",
    "\n",
    "2. **Code Reusability**: By using composition, we can create loosely coupled components that can be easily modified or replaced without affecting the entire codebase. This promotes code reusability³⁴.\n",
    "\n",
    "3. **Avoids Class Explosion Problem**: Inheritance can lead to a large hierarchy of classes which can become difficult to manage and understand². Composition helps to avoid this problem as it allows you to build complex objects by combining simpler ones.\n",
    "\n",
    "4. **Change Behavior at Runtime**: With composition, it's possible to change the behavior of an object at runtime by changing the components it's composed of². This is harder to achieve with inheritance².\n",
    "\n",
    "5. **Easier Testing**: Components used in composition can be tested independently, making unit testing easier.\n",
    "\n",
    "In general, it's often recommended to favor composition over inheritance because it leads to more flexible and maintainable code². However, the choice between composition and inheritance depends on the specific requirements of your project'''"
   ]
  },
  {
   "cell_type": "code",
   "execution_count": 128,
   "id": "057251bc-38e1-4bc4-a17b-7c7c00c3a2f8",
   "metadata": {},
   "outputs": [],
   "source": [
    "#5. How can you implement composition in Python classes? Provide examples of using composition to createcomplex objects."
   ]
  },
  {
   "cell_type": "code",
   "execution_count": 129,
   "id": "303d4a94-2bc2-4af9-9355-7704f5dd8ee0",
   "metadata": {},
   "outputs": [
    {
     "data": {
      "text/plain": [
       "'Composition is a design technique in object-oriented programming to implement a \"has-a\" relationship between objects¹². It enables creating complex types by combining objects of different classes¹². This means that a class `Composite` can contain an object of another class `Component`.\\n\\nHere are some examples of how you can implement composition in Python:\\n\\n**Example 1**:\\n\\n```python\\nclass Engine:\\n    def start(self):\\n        print(\"Engine started\")\\n\\nclass Car:\\n    def __init__(self):\\n        self.engine = Engine()\\n\\n    def start_engine(self):\\n        self.engine.start()\\n\\n# Create a car\\ncar = Car()\\n\\n# Start the engine\\ncar.start_engine()\\n```\\n\\nIn this example, `Car` is a class that contains an instance of the `Engine` class. This is an example of composition, as a `Car` has an `Engine`¹².\\n\\n**Example 2**:\\n\\n```python\\nclass Employee:\\n    def __init__(self, name, age):\\n        self.name = name\\n        self.age = age\\n\\n    def emp_data(self):\\n        print(\\'Name of Employee : \\', self.name)\\n        print(\\'Age of Employee : \\', self.age)\\n\\nclass Data:\\n    def __init__(self, address, salary, emp_obj):\\n        self.address = address\\n        self.salary = salary\\n        self.emp_obj = emp_obj\\n\\n    def display(self):\\n        self.emp_obj.emp_data()\\n        print(\\'Address of Employee : \\', self.address)\\n        print(\\'Salary of Employee : \\', self.salary)\\n\\nemp = Employee(\\'Ronil\\', 20)\\ndata = Data(\\'Indore\\', 25000, emp)\\ndata.display()\\n```\\n\\nIn this example, `Data` is a class that contains an instance of the `Employee` class. This is another example of composition, as `Data` has an `Employee`'"
      ]
     },
     "execution_count": 129,
     "metadata": {},
     "output_type": "execute_result"
    }
   ],
   "source": [
    "'''Composition is a design technique in object-oriented programming to implement a \"has-a\" relationship between objects¹². It enables creating complex types by combining objects of different classes¹². This means that a class `Composite` can contain an object of another class `Component`.\n",
    "\n",
    "Here are some examples of how you can implement composition in Python:\n",
    "\n",
    "**Example 1**:\n",
    "\n",
    "```python\n",
    "class Engine:\n",
    "    def start(self):\n",
    "        print(\"Engine started\")\n",
    "\n",
    "class Car:\n",
    "    def __init__(self):\n",
    "        self.engine = Engine()\n",
    "\n",
    "    def start_engine(self):\n",
    "        self.engine.start()\n",
    "\n",
    "# Create a car\n",
    "car = Car()\n",
    "\n",
    "# Start the engine\n",
    "car.start_engine()\n",
    "```\n",
    "\n",
    "In this example, `Car` is a class that contains an instance of the `Engine` class. This is an example of composition, as a `Car` has an `Engine`¹².\n",
    "\n",
    "**Example 2**:\n",
    "\n",
    "```python\n",
    "class Employee:\n",
    "    def __init__(self, name, age):\n",
    "        self.name = name\n",
    "        self.age = age\n",
    "\n",
    "    def emp_data(self):\n",
    "        print('Name of Employee : ', self.name)\n",
    "        print('Age of Employee : ', self.age)\n",
    "\n",
    "class Data:\n",
    "    def __init__(self, address, salary, emp_obj):\n",
    "        self.address = address\n",
    "        self.salary = salary\n",
    "        self.emp_obj = emp_obj\n",
    "\n",
    "    def display(self):\n",
    "        self.emp_obj.emp_data()\n",
    "        print('Address of Employee : ', self.address)\n",
    "        print('Salary of Employee : ', self.salary)\n",
    "\n",
    "emp = Employee('Ronil', 20)\n",
    "data = Data('Indore', 25000, emp)\n",
    "data.display()\n",
    "```\n",
    "\n",
    "In this example, `Data` is a class that contains an instance of the `Employee` class. This is another example of composition, as `Data` has an `Employee`'''"
   ]
  },
  {
   "cell_type": "code",
   "execution_count": 130,
   "id": "044b66af-8a7f-4fe0-920e-ec0b10290f99",
   "metadata": {},
   "outputs": [],
   "source": [
    "#6. Create a Python class hierarchy for a music player system, using composition to represent playlists andsongs."
   ]
  },
  {
   "cell_type": "code",
   "execution_count": 132,
   "id": "2c9b8bcb-72d4-408e-a994-c1d44b362526",
   "metadata": {},
   "outputs": [
    {
     "name": "stdout",
     "output_type": "stream",
     "text": [
      "Playing playlist: My Playlist\n",
      "Playing song: Song 1 by Artist 1 from the album Album 1\n",
      "Playing song: Song 2 by Artist 2 from the album Album 2\n"
     ]
    }
   ],
   "source": [
    "class Song:\n",
    "    def __init__(self, title, artist, album):\n",
    "        self.title = title\n",
    "        self.artist = artist\n",
    "        self.album = album\n",
    "\n",
    "    def play(self):\n",
    "        print(f\"Playing song: {self.title} by {self.artist} from the album {self.album}\")\n",
    "\n",
    "class Playlist:\n",
    "    def __init__(self, name):\n",
    "        self.name = name\n",
    "        self.songs = []\n",
    "\n",
    "    def add_song(self, song):\n",
    "        self.songs.append(song)\n",
    "\n",
    "    def play_all(self):\n",
    "        print(f\"Playing playlist: {self.name}\")\n",
    "        for song in self.songs:\n",
    "            song.play()\n",
    "\n",
    "# Create songs\n",
    "song1 = Song(\"Song 1\", \"Artist 1\", \"Album 1\")\n",
    "song2 = Song(\"Song 2\", \"Artist 2\", \"Album 2\")\n",
    "\n",
    "# Create a playlist and add songs\n",
    "playlist = Playlist(\"My Playlist\")\n",
    "playlist.add_song(song1)\n",
    "playlist.add_song(song2)\n",
    "\n",
    "# Play all songs in the playlist\n",
    "playlist.play_all()\n"
   ]
  },
  {
   "cell_type": "code",
   "execution_count": 131,
   "id": "b9bf7d77-74a2-4989-88f6-e523262d59cb",
   "metadata": {},
   "outputs": [],
   "source": [
    "#7. Explain the concept of \"has-a\" relationships in composition and how it helps design software systems."
   ]
  },
  {
   "cell_type": "code",
   "execution_count": 135,
   "id": "4287177d-c54c-4074-ae15-f177da4bb655",
   "metadata": {},
   "outputs": [
    {
     "data": {
      "text/plain": [
       "'In object-oriented programming, a “has-a” relationship, also known as composition, is a way to combine simple objects or data types into more complex ones123. Composition involves building complex objects by containing other objects. This means that a class Composite can contain an object of another class Component, thereby establishing a “has-a” relationship.\\n\\nHere are some ways the “has-a” relationship helps in designing software systems:\\n\\nCode Reusability: Composition allows for code reusability. The Component class can be reused in multiple Composite classes.\\n\\nFlexibility: Composition provides flexibility in that it allows you to change the behavior of an object at runtime by changing its components.\\n\\nModularity: Composition helps in creating modular structures in programming. Each object has its own set of methods and variables and serves its own set of responsibilities123. This makes the code more manageable and organized.\\n\\nSimplicity: By using composition, you can keep each class simple and focused on a specific task'"
      ]
     },
     "execution_count": 135,
     "metadata": {},
     "output_type": "execute_result"
    }
   ],
   "source": [
    "'''In object-oriented programming, a “has-a” relationship, also known as composition, is a way to combine simple objects or data types into more complex ones123. Composition involves building complex objects by containing other objects. This means that a class Composite can contain an object of another class Component, thereby establishing a “has-a” relationship.\n",
    "\n",
    "Here are some ways the “has-a” relationship helps in designing software systems:\n",
    "\n",
    "Code Reusability: Composition allows for code reusability. The Component class can be reused in multiple Composite classes.\n",
    "\n",
    "Flexibility: Composition provides flexibility in that it allows you to change the behavior of an object at runtime by changing its components.\n",
    "\n",
    "Modularity: Composition helps in creating modular structures in programming. Each object has its own set of methods and variables and serves its own set of responsibilities123. This makes the code more manageable and organized.\n",
    "\n",
    "Simplicity: By using composition, you can keep each class simple and focused on a specific task'''\n"
   ]
  },
  {
   "cell_type": "code",
   "execution_count": 133,
   "id": "c1a2ccb7-bc16-4921-9942-d47df5416de9",
   "metadata": {},
   "outputs": [],
   "source": [
    "#8. Create a Python class for a computer system, using composition to represent components like CPU, RAM,and storage devices."
   ]
  },
  {
   "cell_type": "code",
   "execution_count": 136,
   "id": "e23c8a75-6d7c-4f5b-baa2-7c1b44227500",
   "metadata": {},
   "outputs": [
    {
     "name": "stdout",
     "output_type": "stream",
     "text": [
      "The computer has a Intel i7 CPU, 16GB RAM, and a 512GB SSD.\n"
     ]
    }
   ],
   "source": [
    "class CPU:\n",
    "    def __init__(self, brand, model):\n",
    "        self.brand = brand\n",
    "        self.model = model\n",
    "\n",
    "class RAM:\n",
    "    def __init__(self, capacity):\n",
    "        self.capacity = capacity\n",
    "\n",
    "class Storage:\n",
    "    def __init__(self, type, capacity):\n",
    "        self.type = type\n",
    "        self.capacity = capacity\n",
    "\n",
    "class Computer:\n",
    "    def __init__(self, cpu, ram, storage):\n",
    "        self.cpu = cpu\n",
    "        self.ram = ram\n",
    "        self.storage = storage\n",
    "\n",
    "# Create components\n",
    "cpu = CPU(\"Intel\", \"i7\")\n",
    "ram = RAM(16)\n",
    "storage = Storage(\"SSD\", 512)\n",
    "\n",
    "# Create a computer\n",
    "computer = Computer(cpu, ram, storage)\n",
    "\n",
    "# Print computer details\n",
    "print(f\"The computer has a {computer.cpu.brand} {computer.cpu.model} CPU, {computer.ram.capacity}GB RAM, and a {computer.storage.capacity}GB {computer.storage.type}.\")\n"
   ]
  },
  {
   "cell_type": "code",
   "execution_count": 134,
   "id": "4dd52f76-b8b0-4755-8d9b-2bad59e20327",
   "metadata": {},
   "outputs": [],
   "source": [
    "#9. Describe the concept of \"delegation\" in composition and how it simplifies the design of complex systems."
   ]
  },
  {
   "cell_type": "code",
   "execution_count": 138,
   "id": "9ae16a69-ffdc-484e-b2af-65fce3bfe60d",
   "metadata": {},
   "outputs": [
    {
     "data": {
      "text/plain": [
       "'In the context of object-oriented programming, **delegation** is a method by which an object communicates or delegates its behavior to another object. It\\'s a way to make composition as powerful for reuse as inheritance³. Two objects are involved in handling a request: a receiving object delegates operations to its delegate. This is analogous to subclasses deferring requests to parent classes.\\n\\n**Composition**, on the other hand, is a design principle where a complex object is built from simpler ones¹. For example, a mobile phone is made up of various objects like a camera, battery, screen, sensors, etc¹. This process of building complex objects from simpler ones is called object composition. In object-oriented programming languages, object composition is used for objects that have a “has-a” relationship with each other.\\n\\nDelegation simplifies the design of complex systems in several ways:\\n1. **Code Reusability**: Delegation allows an object to reuse the functionality of another object without modifying it⁴. This promotes code reusability and reduces redundancy.\\n2. **Encapsulation**: The internal workings of the delegate object are hidden from the delegating object. This encapsulation ensures that each object is responsible for its own behavior.\\n3. **Flexibility**: Delegation provides flexibility in that an object can change its delegate at runtime, allowing it to easily switch behaviors.\\n\\nIn a composition relationship, the parent object \"owns\" the child and the child doesn\\'t have much reason to exist on its own². A composition may delegate the destruction of its parts to some other object¹. This means that the part is created when the object is created and destroyed when the object is destroyed. This simplifies memory management and ensures the integrity of the system.\\n\\nIn summary, delegation and composition are powerful tools in object-oriented design, providing a robust framework for building complex systems. They promote code reusability, encapsulation, and flexibility, thereby simplifying the design and maintenance of complex systems.'"
      ]
     },
     "execution_count": 138,
     "metadata": {},
     "output_type": "execute_result"
    }
   ],
   "source": [
    "'''In the context of object-oriented programming, **delegation** is a method by which an object communicates or delegates its behavior to another object. It's a way to make composition as powerful for reuse as inheritance³. Two objects are involved in handling a request: a receiving object delegates operations to its delegate. This is analogous to subclasses deferring requests to parent classes.\n",
    "\n",
    "**Composition**, on the other hand, is a design principle where a complex object is built from simpler ones¹. For example, a mobile phone is made up of various objects like a camera, battery, screen, sensors, etc¹. This process of building complex objects from simpler ones is called object composition. In object-oriented programming languages, object composition is used for objects that have a “has-a” relationship with each other.\n",
    "\n",
    "Delegation simplifies the design of complex systems in several ways:\n",
    "1. **Code Reusability**: Delegation allows an object to reuse the functionality of another object without modifying it⁴. This promotes code reusability and reduces redundancy.\n",
    "2. **Encapsulation**: The internal workings of the delegate object are hidden from the delegating object. This encapsulation ensures that each object is responsible for its own behavior.\n",
    "3. **Flexibility**: Delegation provides flexibility in that an object can change its delegate at runtime, allowing it to easily switch behaviors.\n",
    "\n",
    "In a composition relationship, the parent object \"owns\" the child and the child doesn't have much reason to exist on its own². A composition may delegate the destruction of its parts to some other object¹. This means that the part is created when the object is created and destroyed when the object is destroyed. This simplifies memory management and ensures the integrity of the system.\n",
    "\n",
    "In summary, delegation and composition are powerful tools in object-oriented design, providing a robust framework for building complex systems. They promote code reusability, encapsulation, and flexibility, thereby simplifying the design and maintenance of complex systems.'''"
   ]
  },
  {
   "cell_type": "code",
   "execution_count": 137,
   "id": "ff32c5bf-b56b-4dc7-b0ed-fc5c6b029d5f",
   "metadata": {},
   "outputs": [],
   "source": [
    "#10. Create a Python class for a car, using composition to represent components like the engine, wheels, andtransmission."
   ]
  },
  {
   "cell_type": "code",
   "execution_count": 139,
   "id": "39676af3-3fec-4184-bc43-13268781b244",
   "metadata": {},
   "outputs": [
    {
     "name": "stdout",
     "output_type": "stream",
     "text": [
      "This car has a V8 engine, 17 inch size wheels, and Automatic transmission.\n"
     ]
    }
   ],
   "source": [
    "class Engine:\n",
    "    def __init__(self, type):\n",
    "        self.type = type\n",
    "\n",
    "class Wheels:\n",
    "    def __init__(self, size):\n",
    "        self.size = size\n",
    "\n",
    "class Transmission:\n",
    "    def __init__(self, type):\n",
    "        self.type = type\n",
    "\n",
    "class Car:\n",
    "    def __init__(self, engine_type, wheel_size, transmission_type):\n",
    "        self.engine = Engine(engine_type)\n",
    "        self.wheels = Wheels(wheel_size)\n",
    "        self.transmission = Transmission(transmission_type)\n",
    "\n",
    "    def car_details(self):\n",
    "        return f\"This car has a {self.engine.type} engine, {self.wheels.size} size wheels, and {self.transmission.type} transmission.\"\n",
    "\n",
    "# Create a car object\n",
    "my_car = Car('V8', '17 inch', 'Automatic')\n",
    "print(my_car.car_details())\n"
   ]
  },
  {
   "cell_type": "code",
   "execution_count": 140,
   "id": "1c41f422-c980-4d24-aa28-23eaabc253e0",
   "metadata": {},
   "outputs": [],
   "source": [
    "#11. How can you encapsulate and hide the details of composed objects in Python classes to maintain abstraction?"
   ]
  },
  {
   "cell_type": "code",
   "execution_count": 141,
   "id": "23352432-86ae-45ac-bd79-443f5f7880f7",
   "metadata": {},
   "outputs": [
    {
     "data": {
      "text/plain": [
       "'In Python, encapsulation is a fundamental concept in object-oriented programming (OOP) that describes the idea of wrapping data and the methods that work on data within one unit¹. This puts restrictions on accessing variables and methods directly and can prevent the accidental modification of data. \\n\\nTo encapsulate and hide the details of composed objects in Python classes, you can use the following techniques:\\n\\n1. **Private Members**: In Python, you can make a class variable or method private by prefixing it with double underscores `__`. Private members can only be accessed within their own class, providing a way to restrict the access to sensitive data.\\n\\n```python\\nclass Engine:\\n    def __init__(self, type):\\n        self.__type = type  # private member\\n\\n    def get_type(self):  # getter method\\n        return self.__type\\n```\\n\\n2. **Protected Members**: By convention, a member variable prefixed with a single underscore `_` is treated as a protected member. It can be accessed within the class and its subclasses, but not outside¹.\\n\\n```python\\nclass Car:\\n    def __init__(self, engine_type):\\n        self._engine = Engine(engine_type)  # protected member\\n```\\n\\n3. **Getter and Setter Methods**: These are used to control the access to class variables. The getter method returns the value of the private member, and the setter method sets the value.\\n\\n```python\\nclass Engine:\\n    def __init__(self, type):\\n        self.__type = type  # private member\\n\\n    def get_type(self):  # getter method\\n        return self.__type\\n\\n    def set_type(self, type):  # setter method\\n        self.__type = type\\n```\\n\\nBy using these techniques, you can maintain a high level of abstraction in your Python classes, as the internal workings of the class are hidden from the outside world. This is a key aspect of encapsulation and is crucial for creating robust and secure code.'"
      ]
     },
     "execution_count": 141,
     "metadata": {},
     "output_type": "execute_result"
    }
   ],
   "source": [
    "'''In Python, encapsulation is a fundamental concept in object-oriented programming (OOP) that describes the idea of wrapping data and the methods that work on data within one unit¹. This puts restrictions on accessing variables and methods directly and can prevent the accidental modification of data. \n",
    "\n",
    "To encapsulate and hide the details of composed objects in Python classes, you can use the following techniques:\n",
    "\n",
    "1. **Private Members**: In Python, you can make a class variable or method private by prefixing it with double underscores `__`. Private members can only be accessed within their own class, providing a way to restrict the access to sensitive data.\n",
    "\n",
    "```python\n",
    "class Engine:\n",
    "    def __init__(self, type):\n",
    "        self.__type = type  # private member\n",
    "\n",
    "    def get_type(self):  # getter method\n",
    "        return self.__type\n",
    "```\n",
    "\n",
    "2. **Protected Members**: By convention, a member variable prefixed with a single underscore `_` is treated as a protected member. It can be accessed within the class and its subclasses, but not outside¹.\n",
    "\n",
    "```python\n",
    "class Car:\n",
    "    def __init__(self, engine_type):\n",
    "        self._engine = Engine(engine_type)  # protected member\n",
    "```\n",
    "\n",
    "3. **Getter and Setter Methods**: These are used to control the access to class variables. The getter method returns the value of the private member, and the setter method sets the value.\n",
    "\n",
    "```python\n",
    "class Engine:\n",
    "    def __init__(self, type):\n",
    "        self.__type = type  # private member\n",
    "\n",
    "    def get_type(self):  # getter method\n",
    "        return self.__type\n",
    "\n",
    "    def set_type(self, type):  # setter method\n",
    "        self.__type = type\n",
    "```\n",
    "\n",
    "By using these techniques, you can maintain a high level of abstraction in your Python classes, as the internal workings of the class are hidden from the outside world. This is a key aspect of encapsulation and is crucial for creating robust and secure code.'''"
   ]
  },
  {
   "cell_type": "code",
   "execution_count": 142,
   "id": "c71aec82-01a8-45c2-9e1b-1e1c6d2e6eec",
   "metadata": {},
   "outputs": [],
   "source": [
    "#12. Create a Python class for a university course, using composition to represent students, instructors, and course materials."
   ]
  },
  {
   "cell_type": "code",
   "execution_count": 145,
   "id": "e3d3c9ee-0922-4523-a1a9-1e90e11ba891",
   "metadata": {},
   "outputs": [
    {
     "name": "stdout",
     "output_type": "stream",
     "text": [
      "The course Computer Science is taught by Prof. John Doe. It has 2 students and 1 course materials.\n",
      "The course Computer Science is taught by Prof. John Doe. It has 2 students and 1 course materials.\n"
     ]
    }
   ],
   "source": [
    "class Student:\n",
    "    def __init__(self, name, id):\n",
    "        self.name = name\n",
    "        self.id = id\n",
    "\n",
    "class Instructor:\n",
    "    def __init__(self, name, id):\n",
    "        self.name = name\n",
    "        self.id = id\n",
    "\n",
    "class CourseMaterial:\n",
    "    def __init__(self, material_type, content):\n",
    "        self.material_type = material_type\n",
    "        self.content = content\n",
    "\n",
    "class UniversityCourse:\n",
    "    def __init__(self, course_name, instructor_name, instructor_id):\n",
    "        self.course_name = course_name\n",
    "        self.instructor = Instructor(instructor_name, instructor_id)\n",
    "        self.students = []\n",
    "        self.course_materials = []\n",
    "\n",
    "    def add_student(self, name, id):\n",
    "        self.students.append(Student(name, id))\n",
    "\n",
    "    def add_course_material(self, material_type, content):\n",
    "        self.course_materials.append(CourseMaterial(material_type, content))\n",
    "\n",
    "    def get_course_details(self):\n",
    "        return f\"The course {self.course_name} is taught by {self.instructor.name}. It has {len(self.students)} students and {len(self.course_materials)} course materials.\"\n",
    "\n",
    "# Create a university course object\n",
    "my_course = UniversityCourse('Computer Science', 'Prof. John Doe', 'ID001')\n",
    "my_course.add_student('Alice', 'ID100')\n",
    "my_course.add_student('Bob', 'ID101')\n",
    "my_course.add_course_material('Lecture Notes', 'Introduction to Python')\n",
    "print(my_course.get_course_details())\n",
    "\n",
    "class Student:\n",
    "    def __init__(self, name, id):\n",
    "        self.name = name\n",
    "        self.id = id\n",
    "\n",
    "class Instructor:\n",
    "    def __init__(self, name, id):\n",
    "        self.name = name\n",
    "        self.id = id\n",
    "\n",
    "class CourseMaterial:\n",
    "    def __init__(self, material_type, content):\n",
    "        self.material_type = material_type\n",
    "        self.content = content\n",
    "\n",
    "class UniversityCourse:\n",
    "    def __init__(self, course_name, instructor_name, instructor_id):\n",
    "        self.course_name = course_name\n",
    "        self.instructor = Instructor(instructor_name, instructor_id)\n",
    "        self.students = []\n",
    "        self.course_materials = []\n",
    "\n",
    "    def add_student(self, name, id):\n",
    "        self.students.append(Student(name, id))\n",
    "\n",
    "    def add_course_material(self, material_type, content):\n",
    "        self.course_materials.append(CourseMaterial(material_type, content))\n",
    "\n",
    "    def get_course_details(self):\n",
    "        return f\"The course {self.course_name} is taught by {self.instructor.name}. It has {len(self.students)} students and {len(self.course_materials)} course materials.\"\n",
    "\n",
    "# Create a university course object\n",
    "my_course = UniversityCourse('Computer Science', 'Prof. John Doe', 'ID001')\n",
    "my_course.add_student('Alice', 'ID100')\n",
    "my_course.add_student('Bob', 'ID101')\n",
    "my_course.add_course_material('Lecture Notes', 'Introduction to Python')\n",
    "print(my_course.get_course_details())\n"
   ]
  },
  {
   "cell_type": "code",
   "execution_count": 143,
   "id": "ed899db8-bff9-4f0e-891b-cc609dbb82af",
   "metadata": {},
   "outputs": [],
   "source": [
    "#13. Discuss the challenges and drawbacks of composition, such as increased complexity and potential for tight coupling between objects."
   ]
  },
  {
   "cell_type": "code",
   "execution_count": 146,
   "id": "f3d197ea-00d1-4b08-af36-d740c7879d54",
   "metadata": {},
   "outputs": [
    {
     "data": {
      "text/plain": [
       "'While composition is a powerful tool in object-oriented programming, it does come with its own set of challenges and drawbacks:\\n\\n1. **Increased Complexity**: Designing and implementing a system using composition can require more effort than using a monolithic design³. This is because each component or class must be designed to work independently but also in harmony with other components³.\\n\\n2. **Debugging and Optimization Challenges**: Code that uses composition can be more difficult to debug and optimize³. The dependencies between components can be complex, making it harder to isolate issues and improve performance³.\\n\\n3. **Tight Coupling**: Composition can lead to tight coupling between objects, especially if the composed objects are heavily dependent on each other¹. This can make the system less flexible and harder to change or extend¹.\\n\\n4. **Inheritance vs Composition**: While composition is often favored over inheritance, there are scenarios where inheritance might be more appropriate². For example, inheritance is suitable for \"is-a\" relationships and can be used for behavioral purposes where subclasses override methods to change the behavior of the method and the object itself.\\n\\n5. **Liskov Substitution Principle**: When using composition, especially in languages that allow subclassing without subtyping, the composed object needs to adhere to the Liskov substitution principle². This principle states that you must be able to use the subtype anywhere where the supertype is expected, which can limit how the behavior of your new composed class can differ from the original class.'"
      ]
     },
     "execution_count": 146,
     "metadata": {},
     "output_type": "execute_result"
    }
   ],
   "source": [
    "'''While composition is a powerful tool in object-oriented programming, it does come with its own set of challenges and drawbacks:\n",
    "\n",
    "1. **Increased Complexity**: Designing and implementing a system using composition can require more effort than using a monolithic design³. This is because each component or class must be designed to work independently but also in harmony with other components³.\n",
    "\n",
    "2. **Debugging and Optimization Challenges**: Code that uses composition can be more difficult to debug and optimize³. The dependencies between components can be complex, making it harder to isolate issues and improve performance³.\n",
    "\n",
    "3. **Tight Coupling**: Composition can lead to tight coupling between objects, especially if the composed objects are heavily dependent on each other¹. This can make the system less flexible and harder to change or extend¹.\n",
    "\n",
    "4. **Inheritance vs Composition**: While composition is often favored over inheritance, there are scenarios where inheritance might be more appropriate². For example, inheritance is suitable for \"is-a\" relationships and can be used for behavioral purposes where subclasses override methods to change the behavior of the method and the object itself.\n",
    "\n",
    "5. **Liskov Substitution Principle**: When using composition, especially in languages that allow subclassing without subtyping, the composed object needs to adhere to the Liskov substitution principle². This principle states that you must be able to use the subtype anywhere where the supertype is expected, which can limit how the behavior of your new composed class can differ from the original class.'''"
   ]
  },
  {
   "cell_type": "code",
   "execution_count": 147,
   "id": "4daacccc-dd92-410a-85bc-dba166d337b3",
   "metadata": {},
   "outputs": [],
   "source": [
    "#14. Create a Python class hierarchy for a restaurant system, using composition to represent menus, dishes, and ingredients."
   ]
  },
  {
   "cell_type": "code",
   "execution_count": 148,
   "id": "791a09c2-535c-4830-9443-380e46eb09a2",
   "metadata": {},
   "outputs": [],
   "source": [
    "class Ingredient:\n",
    "    def __init__(self, name, quantity):\n",
    "        self.name = name\n",
    "        self.quantity = quantity\n",
    "\n",
    "class Dish:\n",
    "    def __init__(self, name):\n",
    "        self.name = name\n",
    "        self.ingredients = []\n",
    "\n",
    "    def add_ingredient(self, name, quantity):\n",
    "        self.ingredients.append(Ingredient(name, quantity))\n",
    "\n",
    "class Menu:\n",
    "    def __init__(self, name):\n",
    "        self.name = name\n",
    "        self.dishes = []\n",
    "\n",
    "    def add_dish(self, dish):\n",
    "        self.dishes.append(dish)\n",
    "\n",
    "class Restaurant:\n",
    "    def __init__(self, name):\n",
    "        self.name = name\n",
    "        self.menus = []\n",
    "\n",
    "    def add_menu(self, menu):\n",
    "        self.menus.append(menu)\n",
    "\n",
    "# Create a restaurant object\n",
    "my_restaurant = Restaurant('My Restaurant')\n",
    "\n",
    "# Create a menu\n",
    "my_menu = Menu('Lunch Menu')\n",
    "\n",
    "# Create a dish\n",
    "my_dish = Dish('Pasta')\n",
    "my_dish.add_ingredient('Pasta', '200g')\n",
    "my_dish.add_ingredient('Tomato Sauce', '100g')\n",
    "\n",
    "# Add the dish to the menu\n",
    "my_menu.add_dish(my_dish)\n",
    "\n",
    "# Add the menu to the restaurant\n",
    "my_restaurant.add_menu(my_menu)\n"
   ]
  },
  {
   "cell_type": "code",
   "execution_count": 149,
   "id": "ca8e860f-2556-490a-84f1-42de099d6566",
   "metadata": {},
   "outputs": [],
   "source": [
    "#15. Explain how composition enhances code maintainability and modularity in Python programs.\""
   ]
  },
  {
   "cell_type": "code",
   "execution_count": 150,
   "id": "a0d5247e-70a9-48c2-8255-f0e7d8a38eff",
   "metadata": {},
   "outputs": [
    {
     "data": {
      "text/plain": [
       "'Composition enhances code maintainability and modularity in Python programs in several ways:\\n\\n1. **Code Organization**: Composition helps in organizing the code into logical units such as functions and classes³. This enhances code organization, readability, and maintainability by isolating functionality into separate blocks⁴.\\n\\n2. **Modularity**: Composition promotes modularity, making it easier to manage, test, and update different parts of your code independently⁴. Modularity refers to the concept of making multiple modules first and then linking and combining them to form a complete system¹. The extent to which a software/Web application may be divided into smaller modules is called modularity.\\n\\n3. **Reusability**: Composition enables re-usability and minimizes duplication¹. By breaking down code into logical units, such as functions and classes, it promotes reusability³. This allows for easier testing, debugging, and extension of functionality³.\\n\\n4. **Single Responsibility Principle**: Applying the \"Single Responsibility Principle\" helps ensure that each function or class has a single purpose and is responsible for a specific task³. This principle is a key aspect of composition and is crucial for creating robust and secure code³.\\n\\nIn summary, composition in Python programs enhances code maintainability and modularity by promoting code organization, reusability, and adherence to the Single Responsibility Principle. It allows for easier testing, debugging, and extension of functionality, thereby simplifying the design and maintenance of complex systems.'"
      ]
     },
     "execution_count": 150,
     "metadata": {},
     "output_type": "execute_result"
    }
   ],
   "source": [
    "'''Composition enhances code maintainability and modularity in Python programs in several ways:\n",
    "\n",
    "1. **Code Organization**: Composition helps in organizing the code into logical units such as functions and classes³. This enhances code organization, readability, and maintainability by isolating functionality into separate blocks⁴.\n",
    "\n",
    "2. **Modularity**: Composition promotes modularity, making it easier to manage, test, and update different parts of your code independently⁴. Modularity refers to the concept of making multiple modules first and then linking and combining them to form a complete system¹. The extent to which a software/Web application may be divided into smaller modules is called modularity.\n",
    "\n",
    "3. **Reusability**: Composition enables re-usability and minimizes duplication¹. By breaking down code into logical units, such as functions and classes, it promotes reusability³. This allows for easier testing, debugging, and extension of functionality³.\n",
    "\n",
    "4. **Single Responsibility Principle**: Applying the \"Single Responsibility Principle\" helps ensure that each function or class has a single purpose and is responsible for a specific task³. This principle is a key aspect of composition and is crucial for creating robust and secure code³.\n",
    "\n",
    "In summary, composition in Python programs enhances code maintainability and modularity by promoting code organization, reusability, and adherence to the Single Responsibility Principle. It allows for easier testing, debugging, and extension of functionality, thereby simplifying the design and maintenance of complex systems.'''"
   ]
  },
  {
   "cell_type": "code",
   "execution_count": 151,
   "id": "4b778a91-aa8d-4af0-a9f6-0ebeae09542d",
   "metadata": {},
   "outputs": [],
   "source": [
    "#16. Create a Python class for a computer game character, using composition to represent attributes like weapons, armor, and inventory."
   ]
  },
  {
   "cell_type": "code",
   "execution_count": 153,
   "id": "1b964d61-5fcd-4320-a8c1-ac40eac48e79",
   "metadata": {},
   "outputs": [],
   "source": [
    "class Weapon:\n",
    "    def __init__(self, name, damage):\n",
    "        self.name = name\n",
    "        self.damage = damage\n",
    "\n",
    "class Armor:\n",
    "    def __init__(self, name, defense):\n",
    "        self.name = name\n",
    "        self.defense = defense\n",
    "\n",
    "class Inventory:\n",
    "    def __init__(self):\n",
    "        self.items = []\n",
    "\n",
    "    def add_item(self, item):\n",
    "        self.items.append(item)\n",
    "\n",
    "class GameCharacter:\n",
    "    def __init__(self, name):\n",
    "        self.name = name\n",
    "        self.weapon = None\n",
    "        self.armor = None\n",
    "        self.inventory = Inventory()\n",
    "\n",
    "    def equip_weapon(self, weapon_name, weapon_damage):\n",
    "        self.weapon = Weapon(weapon_name, weapon_damage)\n",
    "\n",
    "    def equip_armor(self, armor_name, armor_defense):\n",
    "        self.armor = Armor(armor_name, armor_defense)\n",
    "\n",
    "    def add_to_inventory(self, item):\n",
    "        self.inventory.add_item(item)\n",
    "\n",
    "# Create a game character object\n",
    "my_character = GameCharacter('Hero')\n",
    "my_character.equip_weapon('Sword', 50)\n",
    "my_character.equip_armor('Shield', 30)\n",
    "my_character.add_to_inventory('Health Potion')\n"
   ]
  },
  {
   "cell_type": "code",
   "execution_count": 152,
   "id": "9923a697-5330-47e7-b67a-7e80f48e906a",
   "metadata": {},
   "outputs": [],
   "source": [
    "#17. Describe the concept of \"aggregation\" in composition and how it differs from simple composition."
   ]
  },
  {
   "cell_type": "code",
   "execution_count": 155,
   "id": "791d95ad-d589-4b14-b97b-5c193ef069ad",
   "metadata": {},
   "outputs": [
    {
     "data": {
      "text/plain": [
       "'In the context of object-oriented programming, **aggregation** and **composition** are two types of association, which is a way for classes to be related to each other\\n\\n**Aggregation** is a special form of association that represents a \"has-a\" relationship. It is a unidirectional association, meaning it\\'s a one-way relationship. For example, a department can have students, but a student doesn\\'t necessarily have a department¹. In aggregation, both entities can exist independently. If you delete the parent entity, the child entity can still exist¹². For example, if a `Bank` (parent) is deleted, an `Employee` (child) can still exist¹.\\n\\nOn the other hand, **composition** is a restricted form of aggregation where the entities are highly dependent on each other. It represents a \"part-of\" relationship¹⁴. In composition, both entities are dependent on each other¹⁴. When there is a composition between two entities, the composed object cannot exist without the other entity¹⁴. For example, if a `House` (parent) is deleted, a `Room` (child) cannot exist.\\n\\nSo, the key difference between aggregation and composition lies in the degree of dependence between the entities involved.In aggregation, the child can exist independently of the parent, while in composition, the child cannot exist independent of the parent'"
      ]
     },
     "execution_count": 155,
     "metadata": {},
     "output_type": "execute_result"
    }
   ],
   "source": [
    "'''In the context of object-oriented programming, **aggregation** and **composition** are two types of association, which is a way for classes to be related to each other\n",
    "\n",
    "**Aggregation** is a special form of association that represents a \"has-a\" relationship. It is a unidirectional association, meaning it's a one-way relationship. For example, a department can have students, but a student doesn't necessarily have a department¹. In aggregation, both entities can exist independently. If you delete the parent entity, the child entity can still exist¹². For example, if a `Bank` (parent) is deleted, an `Employee` (child) can still exist¹.\n",
    "\n",
    "On the other hand, **composition** is a restricted form of aggregation where the entities are highly dependent on each other. It represents a \"part-of\" relationship¹⁴. In composition, both entities are dependent on each other¹⁴. When there is a composition between two entities, the composed object cannot exist without the other entity¹⁴. For example, if a `House` (parent) is deleted, a `Room` (child) cannot exist.\n",
    "\n",
    "So, the key difference between aggregation and composition lies in the degree of dependence between the entities involved.In aggregation, the child can exist independently of the parent, while in composition, the child cannot exist independent of the parent'''"
   ]
  },
  {
   "cell_type": "code",
   "execution_count": 154,
   "id": "7d156465-4f30-4622-b1de-bb5f86364165",
   "metadata": {},
   "outputs": [],
   "source": [
    "#18. Create a Python class for a house, using composition to represent rooms, furniture, and appliances."
   ]
  },
  {
   "cell_type": "code",
   "execution_count": 158,
   "id": "1498087f-304f-4782-a0ab-a4277a35b112",
   "metadata": {},
   "outputs": [],
   "source": [
    "class Furniture:\n",
    "    def __init__(self, name):\n",
    "        self.name = name\n",
    "\n",
    "class Appliance:\n",
    "    def __init__(self, name):\n",
    "        self.name = name\n",
    "\n",
    "class Room:\n",
    "    def __init__(self, name):\n",
    "        self.name = name\n",
    "        self.furniture = []\n",
    "        self.appliances = []\n",
    "\n",
    "    def add_furniture(self, furniture_name):\n",
    "        self.furniture.append(Furniture(furniture_name))\n",
    "\n",
    "    def add_appliance(self, appliance_name):\n",
    "        self.appliances.append(Appliance(appliance_name))\n",
    "\n",
    "class House:\n",
    "    def __init__(self, address):\n",
    "        self.address = address\n",
    "        self.rooms = []\n",
    "\n",
    "    def add_room(self, room_name):\n",
    "        self.rooms.append(Room(room_name))\n",
    "\n",
    "# Create a house object\n",
    "my_house = House('123 Main St')\n",
    "\n",
    "# Add a room to the house\n",
    "my_house.add_room('Living Room')\n",
    "\n",
    "# Add furniture and appliances to the room\n",
    "my_house.rooms[0].add_furniture('Sofa')\n",
    "my_house.rooms[0].add_appliance('TV')\n"
   ]
  },
  {
   "cell_type": "code",
   "execution_count": 156,
   "id": "c49d371d-cbdd-4a40-bb91-9261709a07d5",
   "metadata": {},
   "outputs": [],
   "source": [
    "#19. How can you achieve flexibility in composed objects by allowing them to be replaced or modified dynamically at runtime?"
   ]
  },
  {
   "cell_type": "code",
   "execution_count": 160,
   "id": "82158b04-6479-4fc9-bd52-047c729238d8",
   "metadata": {},
   "outputs": [
    {
     "data": {
      "text/plain": [
       "\"In Python, you can achieve flexibility in composed objects by allowing them to be replaced or modified dynamically at runtime. This is often done through methods that allow you to set or change the composed objects. Here's an example using a `Car` class with `Engine` and `Wheels` as composed objects:\\n\\n```python\\nclass Engine:\\n    def __init__(self, type):\\n        self.type = type\\n\\nclass Wheels:\\n    def __init__(self, size):\\n        self.size = size\\n\\nclass Car:\\n    def __init__(self, engine_type, wheel_size):\\n        self.engine = Engine(engine_type)\\n        self.wheels = Wheels(wheel_size)\\n\\n    def replace_engine(self, new_engine_type):\\n        self.engine = Engine(new_engine_type)\\n\\n    def replace_wheels(self, new_wheel_size):\\n        self.wheels = Wheels(new_wheel_size)\\n```\\n\\nIn this example, the `Car` class has methods `replace_engine` and `replace_wheels` that allow you to replace the `Engine` and `Wheels` objects at runtime¹³. This provides flexibility as you can change the behavior of the `Car` object dynamically.\\n\\nThis approach allows for greater flexibility and modularity because objects can be dynamically composed at runtime and easily replaced or modified without affecting the entire system¹³. This is one of the key advantages of composition over inheritance\""
      ]
     },
     "execution_count": 160,
     "metadata": {},
     "output_type": "execute_result"
    }
   ],
   "source": [
    "'''In Python, you can achieve flexibility in composed objects by allowing them to be replaced or modified dynamically at runtime. This is often done through methods that allow you to set or change the composed objects. Here's an example using a `Car` class with `Engine` and `Wheels` as composed objects:\n",
    "\n",
    "```python\n",
    "class Engine:\n",
    "    def __init__(self, type):\n",
    "        self.type = type\n",
    "\n",
    "class Wheels:\n",
    "    def __init__(self, size):\n",
    "        self.size = size\n",
    "\n",
    "class Car:\n",
    "    def __init__(self, engine_type, wheel_size):\n",
    "        self.engine = Engine(engine_type)\n",
    "        self.wheels = Wheels(wheel_size)\n",
    "\n",
    "    def replace_engine(self, new_engine_type):\n",
    "        self.engine = Engine(new_engine_type)\n",
    "\n",
    "    def replace_wheels(self, new_wheel_size):\n",
    "        self.wheels = Wheels(new_wheel_size)\n",
    "```\n",
    "\n",
    "In this example, the `Car` class has methods `replace_engine` and `replace_wheels` that allow you to replace the `Engine` and `Wheels` objects at runtime¹³. This provides flexibility as you can change the behavior of the `Car` object dynamically.\n",
    "\n",
    "This approach allows for greater flexibility and modularity because objects can be dynamically composed at runtime and easily replaced or modified without affecting the entire system¹³. This is one of the key advantages of composition over inheritance'''"
   ]
  },
  {
   "cell_type": "code",
   "execution_count": 161,
   "id": "8d82388c-3f86-407d-b08e-e9acdf5cf3cb",
   "metadata": {},
   "outputs": [],
   "source": [
    "#20. Create a Python class for a social media application, using composition to represent users, posts, and comments."
   ]
  },
  {
   "cell_type": "code",
   "execution_count": null,
   "id": "6f74f9a2-4b70-419f-87da-01a07020ddb1",
   "metadata": {},
   "outputs": [],
   "source": [
    "class User:\n",
    "    def __init__(self, username):\n",
    "        self.username = username\n",
    "\n",
    "class Comment:\n",
    "    def __init__(self, user, text):\n",
    "        self.user = user\n",
    "        self.text = text\n",
    "\n",
    "class Post:\n",
    "    def __init__(self, user, text):\n",
    "        self.user = user\n",
    "        self.text = text\n",
    "        self.comments = []\n",
    "\n",
    "    def add_comment(self, user, text):\n",
    "        self.comments.append(Comment(user, text))\n",
    "\n",
    "class SocialMedia:\n",
    "    def __init__(self, name):\n",
    "        self.name = name\n",
    "        self.users = []\n",
    "        self.posts = []\n",
    "\n",
    "    def add_user(self, username):\n",
    "        self.users.append(User(username))\n",
    "\n",
    "    def add_post(self, user, text):\n",
    "        self.posts.append(Post(user, text))\n",
    "\n",
    "# Create a social media object\n",
    "my_social_media = SocialMedia('My Social Media')\n",
    "\n",
    "# Add a user to the social media\n",
    "my_social_media.add_user('Satyam')\n",
    "\n",
    "# Add a post to the social media\n",
    "my_social_media.add_post('Satyam', 'Hello, world!')\n",
    "\n",
    "# Add a comment to the post\n",
    "my_social_media.posts[0].add_comment('Satyam', 'This is a comment.')\n"
   ]
  }
 ],
 "metadata": {
  "kernelspec": {
   "display_name": "Python 3 (ipykernel)",
   "language": "python",
   "name": "python3"
  },
  "language_info": {
   "codemirror_mode": {
    "name": "ipython",
    "version": 3
   },
   "file_extension": ".py",
   "mimetype": "text/x-python",
   "name": "python",
   "nbconvert_exporter": "python",
   "pygments_lexer": "ipython3",
   "version": "3.10.8"
  }
 },
 "nbformat": 4,
 "nbformat_minor": 5
}
